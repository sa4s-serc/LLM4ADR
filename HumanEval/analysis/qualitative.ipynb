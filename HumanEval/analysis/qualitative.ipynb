{
 "cells": [
  {
   "cell_type": "code",
   "execution_count": 27,
   "metadata": {},
   "outputs": [],
   "source": [
    "import json\n",
    "import pandas as pd\n",
    "\n",
    "# Load JSON data into a dictionary\n",
    "with open('experiments.json', 'r') as file:\n",
    "    data = json.load(file)\n",
    "\n",
    "\n",
    "df = pd.DataFrame()\n",
    "\n",
    "for d in data:\n",
    "    if (d['decision2_note'] != '' or d['decision1_note'] != ''):\n",
    "        new_data = {'context': d['context'], 'decision1': d['decision1'], 'decision2': d['decision2'], d['decision1_approach']: d['decision1_note'], d['decision2_approach']: d['decision2_note']}\n",
    "        df = pd.concat([df, pd.DataFrame([new_data])], ignore_index=True)\n",
    "\n",
    "df = df[['context', 'decision1', 'decision2', 1, 2, 3, 4, 5]]\n",
    "df.to_excel('quality.xlsx', index=False)\n",
    "\n"
   ]
  },
  {
   "cell_type": "markdown",
   "metadata": {},
   "source": [
    "### Length analyis"
   ]
  },
  {
   "cell_type": "code",
   "execution_count": 19,
   "metadata": {},
   "outputs": [],
   "source": [
    "import pandas as pd\n",
    "\n",
    "df = pd.read_excel('quality.xlsx')\n",
    "df = df[['GPT', 'Gemini', 'Gemma', 'Flan-T5', 'Llama']]\n",
    "gpt_list = df['GPT'].dropna().tolist()[2:]\n",
    "gemini_list = df['Gemini'].dropna().tolist()[2:]\n",
    "gemma_list = df['Gemma'].dropna().tolist()[2:]\n",
    "flan_t5_list = df['Flan-T5'].dropna().tolist()[2:]\n",
    "llama_list = df['Llama'].dropna().tolist()[2:]"
   ]
  },
  {
   "cell_type": "code",
   "execution_count": 20,
   "metadata": {},
   "outputs": [
    {
     "name": "stdout",
     "output_type": "stream",
     "text": [
      "{'gpt_list': 114.3, 'gemini_list': 102.74074074074075, 'gemma_list': 100.43181818181819, 'flan_t5_list': 71.97916666666667, 'llama_list': 84.28358208955224}\n"
     ]
    }
   ],
   "source": [
    "def average_length(lst):\n",
    "    return sum(len(item) for item in lst) / len(lst) if lst else 0\n",
    "\n",
    "average_lengths = {\n",
    "    'gpt_list': average_length(gpt_list),\n",
    "    'gemini_list': average_length(gemini_list),\n",
    "    'gemma_list': average_length(gemma_list),\n",
    "    'flan_t5_list': average_length(flan_t5_list),\n",
    "    'llama_list': average_length(llama_list)\n",
    "}\n",
    "\n",
    "print(average_lengths)"
   ]
  },
  {
   "cell_type": "code",
   "execution_count": 50,
   "metadata": {},
   "outputs": [],
   "source": [
    "data_test = pd.read_json(f'../../Data/ADR-data/data_test.jsonl', lines=True)\n",
    "data_train = pd.read_json(f'../../Data/ADR-data/data_train.jsonl', lines=True)"
   ]
  },
  {
   "cell_type": "code",
   "execution_count": 51,
   "metadata": {},
   "outputs": [
    {
     "data": {
      "text/plain": [
       "781.8845892735914"
      ]
     },
     "execution_count": 51,
     "metadata": {},
     "output_type": "execute_result"
    }
   ],
   "source": [
    "Decision = data_train['Decision'].tolist()\n",
    "Decision_length = average_length(Decision)\n",
    "Decision_length"
   ]
  },
  {
   "cell_type": "code",
   "execution_count": 55,
   "metadata": {},
   "outputs": [
    {
     "data": {
      "text/plain": [
       "93"
      ]
     },
     "execution_count": 55,
     "metadata": {},
     "output_type": "execute_result"
    }
   ],
   "source": [
    "len(Decision[100])"
   ]
  },
  {
   "cell_type": "code",
   "execution_count": null,
   "metadata": {},
   "outputs": [],
   "source": []
  }
 ],
 "metadata": {
  "kernelspec": {
   "display_name": "base",
   "language": "python",
   "name": "python3"
  },
  "language_info": {
   "codemirror_mode": {
    "name": "ipython",
    "version": 3
   },
   "file_extension": ".py",
   "mimetype": "text/x-python",
   "name": "python",
   "nbconvert_exporter": "python",
   "pygments_lexer": "ipython3",
   "version": "3.9.13"
  }
 },
 "nbformat": 4,
 "nbformat_minor": 2
}
