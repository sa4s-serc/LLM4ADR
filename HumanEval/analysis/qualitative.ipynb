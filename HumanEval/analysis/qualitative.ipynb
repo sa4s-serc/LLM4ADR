{
 "cells": [
  {
   "cell_type": "code",
   "execution_count": 27,
   "metadata": {},
   "outputs": [],
   "source": [
    "import json\n",
    "import pandas as pd\n",
    "\n",
    "# Load JSON data into a dictionary\n",
    "with open('experiments.json', 'r') as file:\n",
    "    data = json.load(file)\n"
   ]
  },
  {
   "cell_type": "code",
   "execution_count": 40,
   "metadata": {},
   "outputs": [],
   "source": [
    "\n",
    "df = pd.DataFrame()\n",
    "\n",
    "for d in data:\n",
    "    if (d['decision2_note'] != '' or d['decision1_note'] != ''):\n",
    "        new_data = {'context': d['context'], 'decision1': d['decision1'], 'decision2': d['decision2'], d['decision1_approach']: d['decision1_note'], d['decision2_approach']: d['decision2_note']}\n",
    "        df = pd.concat([df, pd.DataFrame([new_data])], ignore_index=True)\n",
    "\n",
    "    \n"
   ]
  },
  {
   "cell_type": "code",
   "execution_count": 41,
   "metadata": {},
   "outputs": [],
   "source": [
    "df = df[['context', 'decision1', 'decision2', 1, 2, 3, 4, 5]]\n",
    "df.to_excel('quality.xlsx', index=False)"
   ]
  },
  {
   "cell_type": "code",
   "execution_count": null,
   "metadata": {},
   "outputs": [],
   "source": []
  }
 ],
 "metadata": {
  "kernelspec": {
   "display_name": "base",
   "language": "python",
   "name": "python3"
  },
  "language_info": {
   "codemirror_mode": {
    "name": "ipython",
    "version": 3
   },
   "file_extension": ".py",
   "mimetype": "text/x-python",
   "name": "python",
   "nbconvert_exporter": "python",
   "pygments_lexer": "ipython3",
   "version": "3.9.12"
  }
 },
 "nbformat": 4,
 "nbformat_minor": 2
}
