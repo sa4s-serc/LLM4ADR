{
 "cells": [
  {
   "cell_type": "code",
   "execution_count": 6,
   "metadata": {},
   "outputs": [
    {
     "name": "stdout",
     "output_type": "stream",
     "text": [
      "D:\\IIIT\\LAB_SE\\ADR\\LLM4ADR\\RD_experiments\n"
     ]
    },
    {
     "data": {
      "text/plain": [
       "'D:\\\\IIIT\\\\LAB_SE\\\\ADR\\\\LLM4ADR\\\\RD_experiments'"
      ]
     },
     "execution_count": 6,
     "metadata": {},
     "output_type": "execute_result"
    }
   ],
   "source": [
    "%cd D:\\IIIT\\LAB_SE\\ADR\\LLM4ADR\\RD_experiments\n",
    "%pwd"
   ]
  },
  {
   "cell_type": "code",
   "execution_count": 9,
   "metadata": {},
   "outputs": [],
   "source": [
    "import os\n",
    "from dotenv import load_dotenv\n",
    "path = 'D:\\IIIT\\LAB_SE\\ADR\\LLM4ADR\\RD_experiments'\n",
    "load_dotenv(os.path.join(path, '.env'))\n",
    "openai_key = os.getenv('openai_key_karthik')"
   ]
  },
  {
   "cell_type": "code",
   "execution_count": 71,
   "metadata": {},
   "outputs": [],
   "source": [
    "import pandas as pd\n",
    "from sklearn.model_selection import train_test_split\n",
    "\n",
    "# Read JSONL file into a DataFrame\n",
    "df = pd.read_json('data/old_data.jsonl', lines=True)\n",
    "\n",
    "# Split the DataFrame into train and test\n",
    "train_df, test_df = train_test_split(df, test_size=0.2, random_state=42)\n",
    "\n",
    "train_df.to_json('data/old_data_train.jsonl', orient='records', lines=True)\n",
    "test_df.to_json('data/old_data_test.jsonl', orient='records', lines=True)"
   ]
  },
  {
   "cell_type": "code",
   "execution_count": 7,
   "metadata": {},
   "outputs": [],
   "source": [
    "import pandas as pd\n",
    "\n",
    "train_df = pd.read_json('data/old_data_train.jsonl', lines=True)\n",
    "test_df = pd.read_json('data/old_data_test.jsonl', lines=True)"
   ]
  },
  {
   "cell_type": "code",
   "execution_count": 6,
   "metadata": {},
   "outputs": [
    {
     "ename": "OpenAIError",
     "evalue": "The api_key client option must be set either by passing api_key to the client or by setting the OPENAI_API_KEY environment variable",
     "output_type": "error",
     "traceback": [
      "\u001b[1;31m---------------------------------------------------------------------------\u001b[0m",
      "\u001b[1;31mOpenAIError\u001b[0m                               Traceback (most recent call last)",
      "\u001b[1;32m~\\AppData\\Local\\Temp\\ipykernel_25160\\3839295008.py\u001b[0m in \u001b[0;36m<module>\u001b[1;34m\u001b[0m\n\u001b[0;32m      1\u001b[0m \u001b[1;32mfrom\u001b[0m \u001b[0mopenai\u001b[0m \u001b[1;32mimport\u001b[0m \u001b[0mOpenAI\u001b[0m\u001b[1;33m\u001b[0m\u001b[1;33m\u001b[0m\u001b[0m\n\u001b[1;32m----> 2\u001b[1;33m \u001b[0mclient\u001b[0m \u001b[1;33m=\u001b[0m \u001b[0mOpenAI\u001b[0m\u001b[1;33m(\u001b[0m\u001b[0mapi_key\u001b[0m \u001b[1;33m=\u001b[0m \u001b[0mopenai_key\u001b[0m\u001b[1;33m)\u001b[0m\u001b[1;33m\u001b[0m\u001b[1;33m\u001b[0m\u001b[0m\n\u001b[0m\u001b[0;32m      3\u001b[0m \u001b[1;33m\u001b[0m\u001b[0m\n\u001b[0;32m      4\u001b[0m fileObject = client.files.create(\n\u001b[0;32m      5\u001b[0m                     \u001b[0mfile\u001b[0m\u001b[1;33m=\u001b[0m\u001b[0mopen\u001b[0m\u001b[1;33m(\u001b[0m\u001b[1;34m\"data/old_data_train.jsonl\"\u001b[0m\u001b[1;33m,\u001b[0m \u001b[1;34m\"rb\"\u001b[0m\u001b[1;33m)\u001b[0m\u001b[1;33m,\u001b[0m\u001b[1;33m\u001b[0m\u001b[1;33m\u001b[0m\u001b[0m\n",
      "\u001b[1;32m~\\AppData\\Roaming\\Python\\Python39\\site-packages\\openai\\_client.py\u001b[0m in \u001b[0;36m__init__\u001b[1;34m(self, api_key, organization, project, base_url, timeout, max_retries, default_headers, default_query, http_client, _strict_response_validation)\u001b[0m\n\u001b[0;32m    102\u001b[0m             \u001b[0mapi_key\u001b[0m \u001b[1;33m=\u001b[0m \u001b[0mos\u001b[0m\u001b[1;33m.\u001b[0m\u001b[0menviron\u001b[0m\u001b[1;33m.\u001b[0m\u001b[0mget\u001b[0m\u001b[1;33m(\u001b[0m\u001b[1;34m\"OPENAI_API_KEY\"\u001b[0m\u001b[1;33m)\u001b[0m\u001b[1;33m\u001b[0m\u001b[1;33m\u001b[0m\u001b[0m\n\u001b[0;32m    103\u001b[0m         \u001b[1;32mif\u001b[0m \u001b[0mapi_key\u001b[0m \u001b[1;32mis\u001b[0m \u001b[1;32mNone\u001b[0m\u001b[1;33m:\u001b[0m\u001b[1;33m\u001b[0m\u001b[1;33m\u001b[0m\u001b[0m\n\u001b[1;32m--> 104\u001b[1;33m             raise OpenAIError(\n\u001b[0m\u001b[0;32m    105\u001b[0m                 \u001b[1;34m\"The api_key client option must be set either by passing api_key to the client or by setting the OPENAI_API_KEY environment variable\"\u001b[0m\u001b[1;33m\u001b[0m\u001b[1;33m\u001b[0m\u001b[0m\n\u001b[0;32m    106\u001b[0m             )\n",
      "\u001b[1;31mOpenAIError\u001b[0m: The api_key client option must be set either by passing api_key to the client or by setting the OPENAI_API_KEY environment variable"
     ]
    }
   ],
   "source": [
    "from openai import OpenAI\n",
    "client = OpenAI(api_key = openai_key)\n",
    "\n",
    "fileObject = client.files.create(\n",
    "                    file=open(\"data/old_data_train.jsonl\", \"rb\"),\n",
    "                    purpose=\"fine-tune\"\n",
    "            )"
   ]
  },
  {
   "cell_type": "code",
   "execution_count": 40,
   "metadata": {},
   "outputs": [],
   "source": [
    "fineTuningJob = client.fine_tuning.jobs.create(\n",
    "                    training_file=fileObject.id, \n",
    "                    model=\"babbage-002\",\n",
    "                    hyperparameters={\n",
    "                        \"n_epochs\": 1\n",
    "                    },\n",
    "                    suffix=\"firsttraining2\"\n",
    "                    \n",
    "                )"
   ]
  },
  {
   "cell_type": "code",
   "execution_count": 14,
   "metadata": {},
   "outputs": [],
   "source": [
    "\n",
    "from openai import OpenAI\n",
    "client = OpenAI(api_key = openai_key)\n",
    "\n",
    "def answer(prompt):\n",
    "    response = client.completions.create(\n",
    "        model=\"ft:babbage-002:personal:firsttraining1:9O5Gl7Ic\",\n",
    "        prompt=prompt,\n",
    "        temperature=0.5,\n",
    "        max_tokens=256,\n",
    "        top_p=1,\n",
    "        frequency_penalty=0,\n",
    "        presence_penalty=0\n",
    "    )\n",
    "\n",
    "    print(response.choices[0].text)"
   ]
  },
  {
   "cell_type": "code",
   "execution_count": 15,
   "metadata": {},
   "outputs": [
    {
     "ename": "NotFoundError",
     "evalue": "Error code: 404 - {'error': {'message': 'The model `ft:babbage-002:personal:firsttraining1:9O5Gl7Ic` does not exist or you do not have access to it.', 'type': 'invalid_request_error', 'param': None, 'code': 'model_not_found'}}",
     "output_type": "error",
     "traceback": [
      "\u001b[1;31m---------------------------------------------------------------------------\u001b[0m",
      "\u001b[1;31mNotFoundError\u001b[0m                             Traceback (most recent call last)",
      "\u001b[1;32m~\\AppData\\Local\\Temp\\ipykernel_1948\\1479342432.py\u001b[0m in \u001b[0;36m<module>\u001b[1;34m\u001b[0m\n\u001b[1;32m----> 1\u001b[1;33m \u001b[0manswer\u001b[0m\u001b[1;33m(\u001b[0m\u001b[0mtest_df\u001b[0m\u001b[1;33m[\u001b[0m\u001b[1;34m'prompt'\u001b[0m\u001b[1;33m]\u001b[0m\u001b[1;33m[\u001b[0m\u001b[1;36m0\u001b[0m\u001b[1;33m]\u001b[0m\u001b[1;33m)\u001b[0m\u001b[1;33m\u001b[0m\u001b[1;33m\u001b[0m\u001b[0m\n\u001b[0m",
      "\u001b[1;32m~\\AppData\\Local\\Temp\\ipykernel_1948\\2520306520.py\u001b[0m in \u001b[0;36manswer\u001b[1;34m(prompt)\u001b[0m\n\u001b[0;32m      3\u001b[0m \u001b[1;33m\u001b[0m\u001b[0m\n\u001b[0;32m      4\u001b[0m \u001b[1;32mdef\u001b[0m \u001b[0manswer\u001b[0m\u001b[1;33m(\u001b[0m\u001b[0mprompt\u001b[0m\u001b[1;33m)\u001b[0m\u001b[1;33m:\u001b[0m\u001b[1;33m\u001b[0m\u001b[1;33m\u001b[0m\u001b[0m\n\u001b[1;32m----> 5\u001b[1;33m     response = client.completions.create(\n\u001b[0m\u001b[0;32m      6\u001b[0m         \u001b[0mmodel\u001b[0m\u001b[1;33m=\u001b[0m\u001b[1;34m\"ft:babbage-002:personal:firsttraining1:9O5Gl7Ic\"\u001b[0m\u001b[1;33m,\u001b[0m\u001b[1;33m\u001b[0m\u001b[1;33m\u001b[0m\u001b[0m\n\u001b[0;32m      7\u001b[0m         \u001b[0mprompt\u001b[0m\u001b[1;33m=\u001b[0m\u001b[0mprompt\u001b[0m\u001b[1;33m,\u001b[0m\u001b[1;33m\u001b[0m\u001b[1;33m\u001b[0m\u001b[0m\n",
      "\u001b[1;32m~\\AppData\\Roaming\\Python\\Python39\\site-packages\\openai\\_utils\\_utils.py\u001b[0m in \u001b[0;36mwrapper\u001b[1;34m(*args, **kwargs)\u001b[0m\n\u001b[0;32m    275\u001b[0m                         \u001b[0mmsg\u001b[0m \u001b[1;33m=\u001b[0m \u001b[1;34mf\"Missing required argument: {quote(missing[0])}\"\u001b[0m\u001b[1;33m\u001b[0m\u001b[1;33m\u001b[0m\u001b[0m\n\u001b[0;32m    276\u001b[0m                 \u001b[1;32mraise\u001b[0m \u001b[0mTypeError\u001b[0m\u001b[1;33m(\u001b[0m\u001b[0mmsg\u001b[0m\u001b[1;33m)\u001b[0m\u001b[1;33m\u001b[0m\u001b[1;33m\u001b[0m\u001b[0m\n\u001b[1;32m--> 277\u001b[1;33m             \u001b[1;32mreturn\u001b[0m \u001b[0mfunc\u001b[0m\u001b[1;33m(\u001b[0m\u001b[1;33m*\u001b[0m\u001b[0margs\u001b[0m\u001b[1;33m,\u001b[0m \u001b[1;33m**\u001b[0m\u001b[0mkwargs\u001b[0m\u001b[1;33m)\u001b[0m\u001b[1;33m\u001b[0m\u001b[1;33m\u001b[0m\u001b[0m\n\u001b[0m\u001b[0;32m    278\u001b[0m \u001b[1;33m\u001b[0m\u001b[0m\n\u001b[0;32m    279\u001b[0m         \u001b[1;32mreturn\u001b[0m \u001b[0mwrapper\u001b[0m  \u001b[1;31m# type: ignore\u001b[0m\u001b[1;33m\u001b[0m\u001b[1;33m\u001b[0m\u001b[0m\n",
      "\u001b[1;32m~\\AppData\\Roaming\\Python\\Python39\\site-packages\\openai\\resources\\completions.py\u001b[0m in \u001b[0;36mcreate\u001b[1;34m(self, model, prompt, best_of, echo, frequency_penalty, logit_bias, logprobs, max_tokens, n, presence_penalty, seed, stop, stream, stream_options, suffix, temperature, top_p, user, extra_headers, extra_query, extra_body, timeout)\u001b[0m\n\u001b[0;32m    526\u001b[0m         \u001b[0mtimeout\u001b[0m\u001b[1;33m:\u001b[0m \u001b[0mfloat\u001b[0m \u001b[1;33m|\u001b[0m \u001b[0mhttpx\u001b[0m\u001b[1;33m.\u001b[0m\u001b[0mTimeout\u001b[0m \u001b[1;33m|\u001b[0m \u001b[1;32mNone\u001b[0m \u001b[1;33m|\u001b[0m \u001b[0mNotGiven\u001b[0m \u001b[1;33m=\u001b[0m \u001b[0mNOT_GIVEN\u001b[0m\u001b[1;33m,\u001b[0m\u001b[1;33m\u001b[0m\u001b[1;33m\u001b[0m\u001b[0m\n\u001b[0;32m    527\u001b[0m     ) -> Completion | Stream[Completion]:\n\u001b[1;32m--> 528\u001b[1;33m         return self._post(\n\u001b[0m\u001b[0;32m    529\u001b[0m             \u001b[1;34m\"/completions\"\u001b[0m\u001b[1;33m,\u001b[0m\u001b[1;33m\u001b[0m\u001b[1;33m\u001b[0m\u001b[0m\n\u001b[0;32m    530\u001b[0m             body=maybe_transform(\n",
      "\u001b[1;32m~\\AppData\\Roaming\\Python\\Python39\\site-packages\\openai\\_base_client.py\u001b[0m in \u001b[0;36mpost\u001b[1;34m(self, path, cast_to, body, options, files, stream, stream_cls)\u001b[0m\n\u001b[0;32m   1238\u001b[0m             \u001b[0mmethod\u001b[0m\u001b[1;33m=\u001b[0m\u001b[1;34m\"post\"\u001b[0m\u001b[1;33m,\u001b[0m \u001b[0murl\u001b[0m\u001b[1;33m=\u001b[0m\u001b[0mpath\u001b[0m\u001b[1;33m,\u001b[0m \u001b[0mjson_data\u001b[0m\u001b[1;33m=\u001b[0m\u001b[0mbody\u001b[0m\u001b[1;33m,\u001b[0m \u001b[0mfiles\u001b[0m\u001b[1;33m=\u001b[0m\u001b[0mto_httpx_files\u001b[0m\u001b[1;33m(\u001b[0m\u001b[0mfiles\u001b[0m\u001b[1;33m)\u001b[0m\u001b[1;33m,\u001b[0m \u001b[1;33m**\u001b[0m\u001b[0moptions\u001b[0m\u001b[1;33m\u001b[0m\u001b[1;33m\u001b[0m\u001b[0m\n\u001b[0;32m   1239\u001b[0m         )\n\u001b[1;32m-> 1240\u001b[1;33m         \u001b[1;32mreturn\u001b[0m \u001b[0mcast\u001b[0m\u001b[1;33m(\u001b[0m\u001b[0mResponseT\u001b[0m\u001b[1;33m,\u001b[0m \u001b[0mself\u001b[0m\u001b[1;33m.\u001b[0m\u001b[0mrequest\u001b[0m\u001b[1;33m(\u001b[0m\u001b[0mcast_to\u001b[0m\u001b[1;33m,\u001b[0m \u001b[0mopts\u001b[0m\u001b[1;33m,\u001b[0m \u001b[0mstream\u001b[0m\u001b[1;33m=\u001b[0m\u001b[0mstream\u001b[0m\u001b[1;33m,\u001b[0m \u001b[0mstream_cls\u001b[0m\u001b[1;33m=\u001b[0m\u001b[0mstream_cls\u001b[0m\u001b[1;33m)\u001b[0m\u001b[1;33m)\u001b[0m\u001b[1;33m\u001b[0m\u001b[1;33m\u001b[0m\u001b[0m\n\u001b[0m\u001b[0;32m   1241\u001b[0m \u001b[1;33m\u001b[0m\u001b[0m\n\u001b[0;32m   1242\u001b[0m     def patch(\n",
      "\u001b[1;32m~\\AppData\\Roaming\\Python\\Python39\\site-packages\\openai\\_base_client.py\u001b[0m in \u001b[0;36mrequest\u001b[1;34m(self, cast_to, options, remaining_retries, stream, stream_cls)\u001b[0m\n\u001b[0;32m    919\u001b[0m         \u001b[0mstream_cls\u001b[0m\u001b[1;33m:\u001b[0m \u001b[0mtype\u001b[0m\u001b[1;33m[\u001b[0m\u001b[0m_StreamT\u001b[0m\u001b[1;33m]\u001b[0m \u001b[1;33m|\u001b[0m \u001b[1;32mNone\u001b[0m \u001b[1;33m=\u001b[0m \u001b[1;32mNone\u001b[0m\u001b[1;33m,\u001b[0m\u001b[1;33m\u001b[0m\u001b[1;33m\u001b[0m\u001b[0m\n\u001b[0;32m    920\u001b[0m     ) -> ResponseT | _StreamT:\n\u001b[1;32m--> 921\u001b[1;33m         return self._request(\n\u001b[0m\u001b[0;32m    922\u001b[0m             \u001b[0mcast_to\u001b[0m\u001b[1;33m=\u001b[0m\u001b[0mcast_to\u001b[0m\u001b[1;33m,\u001b[0m\u001b[1;33m\u001b[0m\u001b[1;33m\u001b[0m\u001b[0m\n\u001b[0;32m    923\u001b[0m             \u001b[0moptions\u001b[0m\u001b[1;33m=\u001b[0m\u001b[0moptions\u001b[0m\u001b[1;33m,\u001b[0m\u001b[1;33m\u001b[0m\u001b[1;33m\u001b[0m\u001b[0m\n",
      "\u001b[1;32m~\\AppData\\Roaming\\Python\\Python39\\site-packages\\openai\\_base_client.py\u001b[0m in \u001b[0;36m_request\u001b[1;34m(self, cast_to, options, remaining_retries, stream, stream_cls)\u001b[0m\n\u001b[0;32m   1018\u001b[0m \u001b[1;33m\u001b[0m\u001b[0m\n\u001b[0;32m   1019\u001b[0m             \u001b[0mlog\u001b[0m\u001b[1;33m.\u001b[0m\u001b[0mdebug\u001b[0m\u001b[1;33m(\u001b[0m\u001b[1;34m\"Re-raising status error\"\u001b[0m\u001b[1;33m)\u001b[0m\u001b[1;33m\u001b[0m\u001b[1;33m\u001b[0m\u001b[0m\n\u001b[1;32m-> 1020\u001b[1;33m             \u001b[1;32mraise\u001b[0m \u001b[0mself\u001b[0m\u001b[1;33m.\u001b[0m\u001b[0m_make_status_error_from_response\u001b[0m\u001b[1;33m(\u001b[0m\u001b[0merr\u001b[0m\u001b[1;33m.\u001b[0m\u001b[0mresponse\u001b[0m\u001b[1;33m)\u001b[0m \u001b[1;32mfrom\u001b[0m \u001b[1;32mNone\u001b[0m\u001b[1;33m\u001b[0m\u001b[1;33m\u001b[0m\u001b[0m\n\u001b[0m\u001b[0;32m   1021\u001b[0m \u001b[1;33m\u001b[0m\u001b[0m\n\u001b[0;32m   1022\u001b[0m         return self._process_response(\n",
      "\u001b[1;31mNotFoundError\u001b[0m: Error code: 404 - {'error': {'message': 'The model `ft:babbage-002:personal:firsttraining1:9O5Gl7Ic` does not exist or you do not have access to it.', 'type': 'invalid_request_error', 'param': None, 'code': 'model_not_found'}}"
     ]
    }
   ],
   "source": [
    "answer(test_df['prompt'][0])"
   ]
  },
  {
   "cell_type": "code",
   "execution_count": 50,
   "metadata": {},
   "outputs": [
    {
     "name": "stdout",
     "output_type": "stream",
     "text": [
      "SyncCursorPage[FineTuningJobEvent](data=[FineTuningJobEvent(id='ftevent-visyFxLJIK0106T8ozfbdFrJ', created_at=1715527900, level='info', message='The job has successfully completed', object='fine_tuning.job.event', data={}, type='message'), FineTuningJobEvent(id='ftevent-4B0BZcGgoYTTOG5VQZ3FfG17', created_at=1715527897, level='info', message='New fine-tuned model created: ft:babbage-002:personal:firsttraining2:9O5Sjrhu', object='fine_tuning.job.event', data={}, type='message'), FineTuningJobEvent(id='ftevent-76CkJjKxGzQA8EBhEJyUVtYb', created_at=1715527892, level='info', message='Step 76/76: training loss=2.99', object='fine_tuning.job.event', data={'step': 76, 'train_loss': 2.988022804260254, 'total_steps': 76, 'train_mean_token_accuracy': 0.3828125}, type='metrics'), FineTuningJobEvent(id='ftevent-lmL7pM5IcZwGxf8LrjHovXjo', created_at=1715527880, level='info', message='Step 75/76: training loss=2.84', object='fine_tuning.job.event', data={'step': 75, 'train_loss': 2.8404130935668945, 'total_steps': 76, 'train_mean_token_accuracy': 0.4318181872367859}, type='metrics'), FineTuningJobEvent(id='ftevent-6c9rUQf3BSKf9YEKxB6jlLKN', created_at=1715527880, level='info', message='Step 74/76: training loss=2.86', object='fine_tuning.job.event', data={'step': 74, 'train_loss': 2.862924575805664, 'total_steps': 76, 'train_mean_token_accuracy': 0.49561402201652527}, type='metrics'), FineTuningJobEvent(id='ftevent-mIBEUXHHCTFuBWTVKHmqHEZT', created_at=1715527880, level='info', message='Step 73/76: training loss=2.77', object='fine_tuning.job.event', data={'step': 73, 'train_loss': 2.7732083797454834, 'total_steps': 76, 'train_mean_token_accuracy': 0.45621180534362793}, type='metrics'), FineTuningJobEvent(id='ftevent-EN1wxfB8DYkALCYRD23YvlJY', created_at=1715527880, level='info', message='Step 72/76: training loss=1.25', object='fine_tuning.job.event', data={'step': 72, 'train_loss': 1.2469968795776367, 'total_steps': 76, 'train_mean_token_accuracy': 0.6849315166473389}, type='metrics'), FineTuningJobEvent(id='ftevent-mbTKtQUgSBxoR709hRn6soXe', created_at=1715527880, level='info', message='Step 71/76: training loss=1.70', object='fine_tuning.job.event', data={'step': 71, 'train_loss': 1.701635718345642, 'total_steps': 76, 'train_mean_token_accuracy': 0.6000000238418579}, type='metrics'), FineTuningJobEvent(id='ftevent-30NRSpdl6N5lXci411B3psnR', created_at=1715527880, level='info', message='Step 70/76: training loss=3.23', object='fine_tuning.job.event', data={'step': 70, 'train_loss': 3.2281582355499268, 'total_steps': 76, 'train_mean_token_accuracy': 0.3333333432674408}, type='metrics'), FineTuningJobEvent(id='ftevent-NJ0pqHaQne5CtgoQcpXYKbTq', created_at=1715527880, level='info', message='Step 69/76: training loss=2.59', object='fine_tuning.job.event', data={'step': 69, 'train_loss': 2.5946731567382812, 'total_steps': 76, 'train_mean_token_accuracy': 0.4467153251171112}, type='metrics')], object='list', has_more=True)\n"
     ]
    }
   ],
   "source": [
    "\n",
    "# print(client.fine_tuning.jobs.list(limit=10))\n",
    "\n",
    "# Retrieve the state of a fine-tune\n",
    "# client.fine_tuning.jobs.retrieve(fineTuningJob.id)\n",
    "\n",
    "# Cancel a job\n",
    "# client.fine_tuning.jobs.cancel(\"ftjob-abc123\")\n",
    "\n",
    "# # List up to 10 events from a fine-tuning job\n",
    "# print(client.fine_tuning.jobs.list_events(fine_tuning_job_id=fineTuningJob.id, limit=10))\n",
    "\n",
    "# # Delete a fine-tuned model (must be an owner of the org the model was created in)\n",
    "# client.models.delete(\"ft:gpt-3.5-turbo:acemeco:suffix:abc123\")"
   ]
  },
  {
   "cell_type": "markdown",
   "metadata": {},
   "source": [
    "## Gemini"
   ]
  },
  {
   "cell_type": "code",
   "execution_count": 12,
   "metadata": {},
   "outputs": [],
   "source": [
    "import pandas as pd"
   ]
  },
  {
   "cell_type": "code",
   "execution_count": 53,
   "metadata": {},
   "outputs": [],
   "source": [
    "df_train = pd.read_json('data/old_data_train.jsonl', lines=True)\n",
    "df_train = df_train[df_train['completion'].str.len() < 5000]\n",
    "df_train.to_csv('data/old_data_5000_train.csv', index=False)\n",
    "df_train.rename(columns={'prompt': 'text_input', 'completion': 'output'}, inplace=True)\n",
    "train_list = df_train.to_dict(orient='records')\n",
    "\n",
    "df_test = pd.read_json('data/old_data_test.jsonl', lines=True)\n",
    "df_test = df_test[df_test['completion'].str.len() < 5000]\n",
    "df_test.to_csv('data/old_data_5000_train.csv', index=False)\n",
    "df_test.rename(columns={'prompt': 'text_input', 'completion': 'output'}, inplace=True)\n",
    "test_list = df_test.to_dict(orient='records')"
   ]
  },
  {
   "cell_type": "code",
   "execution_count": 62,
   "metadata": {},
   "outputs": [
    {
     "data": {
      "text/plain": [
       "'The following code samples were executed with cabal repl plutus-ledger on the plutus-apps commit hash 172873e87789d8aac623e014eff9a39364c719ae.\\n\\nCurrently, the plutus-ledger-constraint library has the MustValidateIn constraint which\\n\\n    validates that a given POSIXTimeRange` contains the TxInfo’s validity range\\n\\n    creates a transaction with the provided POSIXTimeRange\\n\\nThe implementation of 1) is trivial. However, a major issue arises for the implementation of 2). Setting the validity interval of a Cardano transaction is done by specifing the slot of the lower bound and the slot of the upper bound. Therefore, the MustValidateIn constraint needs to convert the provided POSIXTimeRange to essentially a (Maybe Slot, Maybe Slot). The problem is that there are many ways to convert a POSIXTime to a Slot.\\n\\nCurrently, provided a POSIXTimeRange, plutus-contract does the following:\\n\\n    convert the time range to a slot range with Ledger.TimeSlot.posixTimeRangeToContainedSlotRange :: POSIXTimeRange -> SlotRange\\n\\n    convert the SlotRange to (Cardano.Api.TxValidityLowerBound, Cardano.Api.TxValidityUpperBound) (essentially a (Maybe Slot, Maybe Slot))\\n\\nThe issue with these conversion is that the POSIXTimeRange and SlotRange intervals are type synonyms of the Plutus.V1.Ledger.Api.Interval.Interval a datatype which has has a “Closure” flag for each of the bounds.\\n\\nTherefore, the conversions yields a discrepency when cardano-ledger converts the (Cardano.Api.TxValidityLowerBound, Cardano.Api.TxValidityUpperBound) to a POSIXTimeRange when creating the TxInfo.\\n\\nLet’s show some examples to showcase the issue.\\n\\n> let sc = SlotConfig 1000 0\\n> let interval = (Interval (LowerBound (Finite 999) False) (UpperBound PosInf True))\\n> let r = posixTimeRangeToContainedSlotRange sc interval\\n> r\\nInterval {ivFrom = LowerBound (Finite (Slot {getSlot = 0})) False, ivTo = UpperBound PosInf True}\\n> let txValidRange = toCardanoValidityRange r\\n> txValidRange\\nRight (TxValidityLowerBound ValidityLowerBoundInBabbageEra (SlotNo 1),TxValidityNoUpperBound ValidityNoUpperBoundInBabbageEra)\\n\\nWhen creating the TxInfo, cardano-ledger will convert the previous cardano-api validity slot range to:\\n\\n(Interval (LowerBound (Finite 1000) True) (UpperBound PosInf True))\\n\\nIn practical reasoning, LowerBound (Finite 999) False and LowerBound (Finite 1000) True are equal considering the precision of 1000 milliseconds per slot. However, given Interval semantics, these are not the same values. Therefore, if the constraint mustValidateIn interval is used both to create a transaction and inside a Plutus script (corresponds to the check interval `contains` txInfoValidRange scriptContextTxInfo), then the Plutus script will yield False.\\n\\nWe can identify a similar behavior with the upper bound.\\n\\n> let sc = SlotConfig 1000 0\\n> let interval = (Interval (LowerBound NegInf True) (UpperBound (Finite 999) True))\\n> let r = posixTimeRangeToContainedSlotRange sc interval\\n> r\\nInterval {ivFrom = LowerBound NegInf True, ivTo = UpperBound (Finite (Slot {getSlot = 0})) True}\\n> let txValidRange = toCardanoValidityRange r\\n> txValidRange\\nRight (TxValidityNoLowerBound,TxValidityUpperBound ValidityUpperBoundInBabbageEra (SlotNo 1))\\n\\nWhen creating the TxInfo, cardano-ledger will convert the previous cardano-api validity slot range to:\\n\\n(Interval (LowerBound NegInf True) (UpperBound (Finite 1000) False))\\n\\nAgain, a Plutus script with interval `contains` txInfoValidRange scriptContextTxInfo will yield False.\\n\\nAdditionnaly, the current behavior makes it hard to reason about how a POSIXTime gets translated into a Slot when creating a transaction. Ultimately, a DApp developer should have control over how his POSIXTime gets translated to a Slot.'"
      ]
     },
     "execution_count": 62,
     "metadata": {},
     "output_type": "execute_result"
    }
   ],
   "source": [
    "test_list[0]['text_input']"
   ]
  },
  {
   "cell_type": "code",
   "execution_count": 55,
   "metadata": {},
   "outputs": [],
   "source": [
    "# Importing the generativeai module from the google package.\n",
    "import google.generativeai as genai\n",
    "\n",
    "# Configuring the generativeai module to use gRPC (Google Remote Procedure Call) as the transport protocol.\n",
    "genai.configure(transport='grpc')\n"
   ]
  },
  {
   "cell_type": "code",
   "execution_count": 56,
   "metadata": {},
   "outputs": [
    {
     "name": "stdout",
     "output_type": "stream",
     "text": [
      "TunedModel(name='tunedModels/olddata5000-rsv5huc01tsi',\n",
      "           source_model='models/gemini-1.0-pro-001',\n",
      "           base_model='models/gemini-1.0-pro-001',\n",
      "           display_name='old_data_5000',\n",
      "           description='{\"description\":\"\",\"exampleInput\":\"\",\"exampleOutput\":\"\",\"II\":\"https://drive.google.com/open?id=1KAlWd6Gw5VcsvojWbncrv384ioBFpcZAXuPTYEN3PcM&authuser=0\",\"showedTuningComplete\":false,\"rowsCount\":92}',\n",
      "           temperature=0.9,\n",
      "           top_p=1.0,\n",
      "           top_k=0,\n",
      "           state=<State.ACTIVE: 2>,\n",
      "           create_time=datetime.datetime(2024, 5, 19, 10, 15, 40, 834652, tzinfo=datetime.timezone.utc),\n",
      "           update_time=datetime.datetime(2024, 5, 19, 10, 16, 4, 36984, tzinfo=datetime.timezone.utc),\n",
      "           tuning_task=TuningTask(start_time=datetime.datetime(2024, 5, 19, 10, 15, 41, 895067, tzinfo=datetime.timezone.utc),\n",
      "                                  complete_time=datetime.datetime(2024, 5, 19, 10, 16, 4, 36984, tzinfo=datetime.timezone.utc),\n",
      "                                  snapshots=[...],\n",
      "                                  hyperparameters=Hyperparameters(epoch_count=1,\n",
      "                                                                  batch_size=4,\n",
      "                                                                  learning_rate=0.001)))\n",
      "TunedModel(name='tunedModels/adrinetuned1',\n",
      "           source_model='models/gemini-1.0-pro-001',\n",
      "           base_model='models/gemini-1.0-pro-001',\n",
      "           display_name='',\n",
      "           description='',\n",
      "           temperature=0.9,\n",
      "           top_p=1.0,\n",
      "           top_k=0,\n",
      "           state=<State.ACTIVE: 2>,\n",
      "           create_time=datetime.datetime(2024, 5, 19, 14, 6, 51, 230124, tzinfo=datetime.timezone.utc),\n",
      "           update_time=datetime.datetime(2024, 5, 19, 14, 7, 18, 315832, tzinfo=datetime.timezone.utc),\n",
      "           tuning_task=TuningTask(start_time=datetime.datetime(2024, 5, 19, 14, 6, 51, 541736, tzinfo=datetime.timezone.utc),\n",
      "                                  complete_time=datetime.datetime(2024, 5, 19, 14, 7, 18, 315832, tzinfo=datetime.timezone.utc),\n",
      "                                  snapshots=[...],\n",
      "                                  hyperparameters=Hyperparameters(epoch_count=1,\n",
      "                                                                  batch_size=4,\n",
      "                                                                  learning_rate=0.001)))\n"
     ]
    }
   ],
   "source": [
    "for i, m in zip(range(5), genai.list_tuned_models()):\n",
    "    print(m)"
   ]
  },
  {
   "cell_type": "code",
   "execution_count": 59,
   "metadata": {},
   "outputs": [],
   "source": [
    "# Assigning a name to the fine-tuned model.\n",
    "my_finetuned_model_name = \"adrinetuned2\"\n",
    "\n",
    "# Creating a tuned model operation with specified parameters.\n",
    "operation = genai.create_tuned_model(\n",
    "    source_model= 'models/gemini-1.0-pro-001',\n",
    "    training_data = train_list,\n",
    "    id = my_finetuned_model_name,\n",
    "    epoch_count = 2,\n",
    "    batch_size=4,\n",
    "    learning_rate=0.001,\n",
    ")"
   ]
  },
  {
   "cell_type": "code",
   "execution_count": 63,
   "metadata": {},
   "outputs": [
    {
     "data": {
      "text/plain": [
       "<AxesSubplot:xlabel='epoch', ylabel='mean_loss'>"
      ]
     },
     "execution_count": 63,
     "metadata": {},
     "output_type": "execute_result"
    },
    {
     "data": {
      "image/png": "[encoded data removed]",
      "text/plain": [
       "<Figure size 640x480 with 1 Axes>"
      ]
     },
     "metadata": {},
     "output_type": "display_data"
    }
   ],
   "source": [
    "import seaborn as sns\n",
    "\n",
    "model = operation.result()\n",
    "model.state\n",
    "snapshots = pd.DataFrame(model.tuning_task.snapshots)\n",
    "sns.lineplot(data=snapshots, x='epoch', y='mean_loss')"
   ]
  },
  {
   "cell_type": "code",
   "execution_count": 65,
   "metadata": {},
   "outputs": [
    {
     "name": "stdout",
     "output_type": "stream",
     "text": [
      "The MustValidateIn constraint is removed from the plutus-ledger-constraint library.\n",
      "After careful evaluation and discussion, we have decided to use MySQL as the DBMS for Project X.\n"
     ]
    }
   ],
   "source": [
    "model = genai.GenerativeModel(model_name=f'tunedModels/{my_finetuned_model_name}')\n",
    "result = model.generate_content(test_list[0]['text_input'])\n",
    "print(result.text)\n",
    "\n",
    "Context = \"## Context We need to decide on which database management system (DBMS) to use for Project X. The database will be used to store and manage large amounts of data from multiple sources. We need a DBMS that can handle transactions, offer scalability, and provide high reliability and security. Among various options available, we are considering MySQL as a possible choice.\\n### Decision Considerations\\n- Ease of use and maintenance\\n- Community support and resources\\n- Performance and scalability\\n- Security and reliability\\n- Cost and licensing\\n- Compatibility with our technology stack\\n### Considered Options\\n- MySQL\\n- PostgreSQL\\n- Oracle\\n- Microsoft SQL Server\\n- MongoDB\\n\"\n",
    "result = model.generate_content(Context)\n",
    "print(result.text)"
   ]
  },
  {
   "cell_type": "code",
   "execution_count": null,
   "metadata": {},
   "outputs": [],
   "source": []
  }
 ],
 "metadata": {
  "kernelspec": {
   "display_name": "Python 3 (ipykernel)",
   "language": "python",
   "name": "python3"
  }
 },
 "nbformat": 4,
 "nbformat_minor": 2
}
