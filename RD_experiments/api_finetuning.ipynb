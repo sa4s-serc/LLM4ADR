{
 "cells": [
  {
   "cell_type": "code",
   "execution_count": 12,
   "metadata": {},
   "outputs": [],
   "source": [
    "import os\n",
    "from dotenv import load_dotenv\n",
    "path = 'D:\\IIIT\\LAB_SE\\ADR\\experiments'\n",
    "load_dotenv(os.path.join(path, '.env'))\n",
    "openai_key = os.getenv('openai_key')"
   ]
  },
  {
   "cell_type": "code",
   "execution_count": 27,
   "metadata": {},
   "outputs": [],
   "source": [
    "import pandas as pd\n",
    "from sklearn.model_selection import train_test_split\n",
    "\n",
    "# Read JSONL file into a DataFrame\n",
    "df = pd.read_json('data/old_data.jsonl', lines=True)\n",
    "\n",
    "# Split the DataFrame into train and test\n",
    "train_df, test_df = train_test_split(df, test_size=0.2, random_state=42)\n",
    "\n",
    "train_df.to_json('data/old_data_train.jsonl', orient='records', lines=True)\n",
    "test_df.to_json('data/0_shot.jsonl_test', orient='records', lines=True)"
   ]
  },
  {
   "cell_type": "code",
   "execution_count": 35,
   "metadata": {},
   "outputs": [],
   "source": [
    "fileObject = client.files.create(\n",
    "                    file=open(\"data/old_data_train.jsonl\", \"rb\"),\n",
    "                    purpose=\"fine-tune\"\n",
    "            )"
   ]
  },
  {
   "cell_type": "code",
   "execution_count": 40,
   "metadata": {},
   "outputs": [],
   "source": [
    "fineTuningJob = client.fine_tuning.jobs.create(\n",
    "                    training_file=fileObject.id, \n",
    "                    model=\"babbage-002\",\n",
    "                    hyperparameters={\n",
    "                        \"n_epochs\": 1\n",
    "                    },\n",
    "                    suffix=\"firsttraining2\"\n",
    "                    \n",
    "                )"
   ]
  },
  {
   "cell_type": "code",
   "execution_count": 47,
   "metadata": {},
   "outputs": [
    {
     "name": "stdout",
     "output_type": "stream",
     "text": [
      ", we're happy to answer any questions you have. Feel free to ask us anything about our art or our music.N-advance, on the other hand, is our flamboyant stage name, a combination of our personalities and the spirit of both bands. We're looking forward to our next show and can't wait to get on stage. Thank you for your question, and see you on the next one! :)The bandname is a Monastic/Disciple statement: We live as monks in a world dominated by the modern world. But despite this fact, we act like children. We look, talk, and act like children, and we think and act like children.We have a somewhat punk rock style, bouncy and loud. But at the same time, we play in a \"rock style\", consisting of melodies that are catchy and catchy immediately.N-advance is also a kind of outlet for our emotions that are otherwise just bottled up in our daily lives. It is therefore healthy to be able to freely release this bottled up energy. However, it is not healthy to let emotions take over when channeling it into something constructive. Therefore, we need a clear outlet that allows us to release our emotions in a healthy way.Music is our\n"
     ]
    }
   ],
   "source": [
    "from openai import OpenAI\n",
    "client = OpenAI(api_key = openai_key)\n",
    "\n",
    "response = client.completions.create(\n",
    "  model=\"ft:babbage-002:personal:firsttraining1:9O5Gl7Ic\",\n",
    "  prompt=\"Hi\",\n",
    "  temperature=1,\n",
    "  max_tokens=256,\n",
    "  top_p=1,\n",
    "  frequency_penalty=0,\n",
    "  presence_penalty=0\n",
    ")\n",
    "\n",
    "print(response.choices[0].text)"
   ]
  },
  {
   "cell_type": "code",
   "execution_count": 50,
   "metadata": {},
   "outputs": [
    {
     "name": "stdout",
     "output_type": "stream",
     "text": [
      "SyncCursorPage[FineTuningJobEvent](data=[FineTuningJobEvent(id='ftevent-visyFxLJIK0106T8ozfbdFrJ', created_at=1715527900, level='info', message='The job has successfully completed', object='fine_tuning.job.event', data={}, type='message'), FineTuningJobEvent(id='ftevent-4B0BZcGgoYTTOG5VQZ3FfG17', created_at=1715527897, level='info', message='New fine-tuned model created: ft:babbage-002:personal:firsttraining2:9O5Sjrhu', object='fine_tuning.job.event', data={}, type='message'), FineTuningJobEvent(id='ftevent-76CkJjKxGzQA8EBhEJyUVtYb', created_at=1715527892, level='info', message='Step 76/76: training loss=2.99', object='fine_tuning.job.event', data={'step': 76, 'train_loss': 2.988022804260254, 'total_steps': 76, 'train_mean_token_accuracy': 0.3828125}, type='metrics'), FineTuningJobEvent(id='ftevent-lmL7pM5IcZwGxf8LrjHovXjo', created_at=1715527880, level='info', message='Step 75/76: training loss=2.84', object='fine_tuning.job.event', data={'step': 75, 'train_loss': 2.8404130935668945, 'total_steps': 76, 'train_mean_token_accuracy': 0.4318181872367859}, type='metrics'), FineTuningJobEvent(id='ftevent-6c9rUQf3BSKf9YEKxB6jlLKN', created_at=1715527880, level='info', message='Step 74/76: training loss=2.86', object='fine_tuning.job.event', data={'step': 74, 'train_loss': 2.862924575805664, 'total_steps': 76, 'train_mean_token_accuracy': 0.49561402201652527}, type='metrics'), FineTuningJobEvent(id='ftevent-mIBEUXHHCTFuBWTVKHmqHEZT', created_at=1715527880, level='info', message='Step 73/76: training loss=2.77', object='fine_tuning.job.event', data={'step': 73, 'train_loss': 2.7732083797454834, 'total_steps': 76, 'train_mean_token_accuracy': 0.45621180534362793}, type='metrics'), FineTuningJobEvent(id='ftevent-EN1wxfB8DYkALCYRD23YvlJY', created_at=1715527880, level='info', message='Step 72/76: training loss=1.25', object='fine_tuning.job.event', data={'step': 72, 'train_loss': 1.2469968795776367, 'total_steps': 76, 'train_mean_token_accuracy': 0.6849315166473389}, type='metrics'), FineTuningJobEvent(id='ftevent-mbTKtQUgSBxoR709hRn6soXe', created_at=1715527880, level='info', message='Step 71/76: training loss=1.70', object='fine_tuning.job.event', data={'step': 71, 'train_loss': 1.701635718345642, 'total_steps': 76, 'train_mean_token_accuracy': 0.6000000238418579}, type='metrics'), FineTuningJobEvent(id='ftevent-30NRSpdl6N5lXci411B3psnR', created_at=1715527880, level='info', message='Step 70/76: training loss=3.23', object='fine_tuning.job.event', data={'step': 70, 'train_loss': 3.2281582355499268, 'total_steps': 76, 'train_mean_token_accuracy': 0.3333333432674408}, type='metrics'), FineTuningJobEvent(id='ftevent-NJ0pqHaQne5CtgoQcpXYKbTq', created_at=1715527880, level='info', message='Step 69/76: training loss=2.59', object='fine_tuning.job.event', data={'step': 69, 'train_loss': 2.5946731567382812, 'total_steps': 76, 'train_mean_token_accuracy': 0.4467153251171112}, type='metrics')], object='list', has_more=True)\n"
     ]
    }
   ],
   "source": [
    "\n",
    "# print(client.fine_tuning.jobs.list(limit=10))\n",
    "\n",
    "# Retrieve the state of a fine-tune\n",
    "# client.fine_tuning.jobs.retrieve(fineTuningJob.id)\n",
    "\n",
    "# Cancel a job\n",
    "# client.fine_tuning.jobs.cancel(\"ftjob-abc123\")\n",
    "\n",
    "# # List up to 10 events from a fine-tuning job\n",
    "# print(client.fine_tuning.jobs.list_events(fine_tuning_job_id=fineTuningJob.id, limit=10))\n",
    "\n",
    "# # Delete a fine-tuned model (must be an owner of the org the model was created in)\n",
    "# client.models.delete(\"ft:gpt-3.5-turbo:acemeco:suffix:abc123\")"
   ]
  },
  {
   "cell_type": "code",
   "execution_count": null,
   "metadata": {},
   "outputs": [],
   "source": []
  }
 ],
 "metadata": {
  "kernelspec": {
   "display_name": "Python 3 (ipykernel)",
   "language": "python",
   "name": "python3"
  },
  "language_info": {
   "codemirror_mode": {
    "name": "ipython",
    "version": 3
   },
   "file_extension": ".py",
   "mimetype": "text/x-python",
   "name": "python",
   "nbconvert_exporter": "python",
   "pygments_lexer": "ipython3",
   "version": "3.9.13"
  }
 },
 "nbformat": 4,
 "nbformat_minor": 2
}
