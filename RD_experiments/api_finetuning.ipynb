{
 "cells": [
  {
   "cell_type": "code",
   "execution_count": 3,
   "metadata": {},
   "outputs": [
    {
     "name": "stdout",
     "output_type": "stream",
     "text": [
      "D:\\IIIT\\LAB_SE\\ADR\\LLM4ADR\\RD_experiments\n"
     ]
    },
    {
     "data": {
      "text/plain": [
       "'D:\\\\IIIT\\\\LAB_SE\\\\ADR\\\\LLM4ADR\\\\RD_experiments'"
      ]
     },
     "execution_count": 3,
     "metadata": {},
     "output_type": "execute_result"
    }
   ],
   "source": [
    "%cd D:\\IIIT\\LAB_SE\\ADR\\LLM4ADR\\RD_experiments\n",
    "%pwd"
   ]
  },
  {
   "cell_type": "code",
   "execution_count": 4,
   "metadata": {},
   "outputs": [],
   "source": [
    "import os\n",
    "import openai\n",
    "from openai import OpenAI\n",
    "from dotenv import load_dotenv\n",
    "path = 'D:\\IIIT\\LAB_SE\\ADR\\LLM4ADR\\RD_experiments'\n",
    "load_dotenv(os.path.join(path, '.env'))\n",
    "openai_key = os.getenv('openai_key_karthik')\n",
    "client = OpenAI(api_key = openai_key)"
   ]
  },
  {
   "cell_type": "code",
   "execution_count": 4,
   "metadata": {},
   "outputs": [
    {
     "name": "stderr",
     "output_type": "stream",
     "text": [
      "C:\\ProgramData\\Anaconda3\\lib\\site-packages\\scipy\\__init__.py:155: UserWarning: A NumPy version >=1.18.5 and <1.25.0 is required for this version of SciPy (detected version 1.26.2\n",
      "  warnings.warn(f\"A NumPy version >={np_minversion} and <{np_maxversion}\"\n"
     ]
    }
   ],
   "source": [
    "## Load the data and slpit. Only in training time\n",
    "\n",
    "import pandas as pd\n",
    "from sklearn.model_selection import train_test_split\n",
    "\n",
    "# Read JSONL file into a DataFrame\n",
    "df = pd.read_json('data/old_data.jsonl', lines=True)\n",
    "\n",
    "train, temp = train_test_split(df, test_size=0.4, random_state=42)\n",
    "val, test= train_test_split(temp, test_size=0.5, random_state=42)\n",
    "\n",
    "train.to_json('data/old_data_train.jsonl', orient='records', lines=True)\n",
    "val.to_json('data/old_data_val.jsonl', orient='records', lines=True)\n",
    "test.to_json('data/old_data_test.jsonl', orient='records', lines=True)"
   ]
  },
  {
   "cell_type": "code",
   "execution_count": 6,
   "metadata": {},
   "outputs": [],
   "source": [
    "import pandas as pd\n",
    "\n",
    "train = pd.read_json('data/old_data_train.jsonl', lines=True)\n",
    "val = pd.read_json('data/old_data_val.jsonl', lines=True)\n",
    "test = pd.read_json('data/old_data_test.jsonl', lines=True)"
   ]
  },
  {
   "cell_type": "code",
   "execution_count": 5,
   "metadata": {},
   "outputs": [],
   "source": [
    "## Upload file\n",
    "train_file = client.files.create(\n",
    "                    file=open(\"data/old_data_train.jsonl\", \"rb\"),\n",
    "                    purpose=\"fine-tune\"\n",
    "            )\n",
    "\n",
    "val_file = client.files.create(\n",
    "                    file=open(\"data/old_data_train.jsonl\", \"rb\"),\n",
    "                    purpose=\"fine-tune\"\n",
    "            )"
   ]
  },
  {
   "cell_type": "code",
   "execution_count": 16,
   "metadata": {},
   "outputs": [
    {
     "name": "stdout",
     "output_type": "stream",
     "text": [
      "ftjob-DR1qvcqR6LCnHWujNJxCEgJC\n"
     ]
    }
   ],
   "source": [
    "## Train a model\n",
    "fineTuningJob = client.fine_tuning.jobs.create(\n",
    "                    training_file=train_file.id,\n",
    "                    validation_file=val_file.id,\n",
    "                    model=\"babbage-002\",\n",
    "                    hyperparameters={\n",
    "                        # \"n_epochs\": 1,\n",
    "                        \"batch_size\": 4\n",
    "                    },\n",
    "                    suffix=\"old_data\"\n",
    "                    \n",
    "                )\n",
    "\n",
    "fineTuningJobId = fineTuningJob.id\n",
    "print(fineTuningJobId)"
   ]
  },
  {
   "cell_type": "code",
   "execution_count": null,
   "metadata": {},
   "outputs": [],
   "source": [
    "# get all fine tuning jobs\n",
    "fine_tuning_jobs = client.fine_tuning.jobs.list()\n",
    "jobs = [item for item in fine_tuning_jobs]\n",
    "jobs"
   ]
  },
  {
   "cell_type": "code",
   "execution_count": 7,
   "metadata": {},
   "outputs": [
    {
     "name": "stdout",
     "output_type": "stream",
     "text": [
      "Job Status:  succeeded\n",
      "fine_tuned_model:  ft:babbage-002:archytix:old-data:9T5DueIv\n"
     ]
    }
   ],
   "source": [
    "# Retrieve the state of a fine-tune\n",
    "fineTuningJobId = \"ftjob-FhTblxVKoOZZunZxfwL3YeZo\"\n",
    "job = client.fine_tuning.jobs.retrieve(fineTuningJobId)\n",
    "fine_tuned_model = job.fine_tuned_model\n",
    "print('Job Status: ', job.status)\n",
    "print('fine_tuned_model: ', fine_tuned_model)\n",
    "\n",
    "# response = client.fine_tuning.Model.retrieve(fine_tuned_model)\n",
    "# response"
   ]
  },
  {
   "cell_type": "code",
   "execution_count": 8,
   "metadata": {},
   "outputs": [
    {
     "data": {
      "text/plain": [
       "['ft:babbage-002:archytix:old-data:9T5DuASo:ckpt-step-57',\n",
       " 'ft:babbage-002:archytix:old-data:9T5DuGZ2:ckpt-step-114',\n",
       " 'ft:babbage-002:archytix:old-data:9T5DueIv']"
      ]
     },
     "execution_count": 8,
     "metadata": {},
     "output_type": "execute_result"
    }
   ],
   "source": [
    "# get results of finetuning\n",
    "\n",
    "import requests\n",
    "\n",
    "url = \"https://api.openai.com/v1/fine_tuning/jobs/\"+fineTuningJobId+\"/checkpoints\"\n",
    "# url = \"https://api.openai.com/v1/fine_tuning/jobs/\"+fineTuningJob.id+\"/events\"\n",
    "headers = {\n",
    "    \"Authorization\": f\"Bearer {openai_key}\"\n",
    "}\n",
    "\n",
    "response = requests.get(url, headers=headers)\n",
    "checkpoints = response.json()\n",
    "checkpoints = checkpoints['data']\n",
    "checkpoints.reverse()\n",
    "fine_tuned_model_checkpoints = [checkpoint['fine_tuned_model_checkpoint'] for checkpoint in checkpoints]\n",
    "# checkpoints_id[-1] = ''\n",
    "fine_tuned_model_checkpoints"
   ]
  },
  {
   "cell_type": "code",
   "execution_count": 9,
   "metadata": {},
   "outputs": [
    {
     "data": {
      "text/plain": [
       "[2.133876641371119, 1.7578486917037983, 1.5584081902854257]"
      ]
     },
     "execution_count": 9,
     "metadata": {},
     "output_type": "execute_result"
    }
   ],
   "source": [
    "# Function to fetch all events for a given fine-tuning job\n",
    "def fetch_all_events(fineTuningJobId):\n",
    "    events = []\n",
    "    response = client.fine_tuning.jobs.list_events(fineTuningJobId)\n",
    "    events.extend(response.data)\n",
    "    \n",
    "    while response.has_more:\n",
    "        response = client.fine_tuning.jobs.list_events(fineTuningJobId, after=response.data[-1].id)\n",
    "        events.extend(response.data)\n",
    "    \n",
    "    return events\n",
    "\n",
    "# Fetch all events\n",
    "all_events = fetch_all_events(fineTuningJobId)\n",
    "all_events.reverse()\n",
    "\n",
    "full_valid_losses = []\n",
    "# Print all event messages\n",
    "for event in all_events:\n",
    "    if event.data is not None:\n",
    "        # print(event.data.keys())\n",
    "        if 'full_valid_loss' in event.data:\n",
    "            full_valid_losses.append(event.data['full_valid_loss'])\n",
    "\n",
    "    \n",
    "full_valid_losses"
   ]
  },
  {
   "cell_type": "code",
   "execution_count": 10,
   "metadata": {},
   "outputs": [
    {
     "data": {
      "image/png": "[encoded data removed]",
      "text/plain": [
       "<Figure size 640x480 with 1 Axes>"
      ]
     },
     "metadata": {},
     "output_type": "display_data"
    }
   ],
   "source": [
    "import matplotlib.pyplot as plt\n",
    "from matplotlib.ticker import MultipleLocator\n",
    "\n",
    "plt.plot(full_valid_losses, label='validation loss')\n",
    "plt.xlabel('Epochs')\n",
    "plt.ylabel('Loss')\n",
    "plt.gca().xaxis.set_major_locator(MultipleLocator(1))"
   ]
  },
  {
   "cell_type": "code",
   "execution_count": 11,
   "metadata": {},
   "outputs": [],
   "source": [
    "## Load data for inferencing\n",
    "import pandas as pd\n",
    "\n",
    "train = pd.read_json('data/old_data_train.jsonl', lines=True)\n",
    "val = pd.read_json('data/old_data_val.jsonl', lines=True)\n",
    "test = pd.read_json('data/old_data_test.jsonl', lines=True)"
   ]
  },
  {
   "cell_type": "code",
   "execution_count": 12,
   "metadata": {},
   "outputs": [],
   "source": [
    "## Callinng a model for inferencing\n",
    "# fine_tuned_model = 'ft:babbage-002:personal:old-data:9SA8Dmml'\n",
    "\n",
    "# checkpoints_id 0 is the first checkpoint and -1 is the last checkpoint\n",
    "fine_tuned_model_checkpoint = fine_tuned_model_checkpoints[-1]\n",
    "\n",
    "\n",
    "def call_openai(prompt):\n",
    "    response = client.completions.create(\n",
    "        model=fine_tuned_model_checkpoint,\n",
    "        prompt=prompt,\n",
    "        temperature=0.5,\n",
    "        max_tokens=256,\n",
    "        top_p=1,\n",
    "        frequency_penalty=0,\n",
    "        presence_penalty=0\n",
    "    )\n",
    "\n",
    "    return(response.choices[0].text)"
   ]
  },
  {
   "cell_type": "code",
   "execution_count": 23,
   "metadata": {},
   "outputs": [
    {
     "name": "stdout",
     "output_type": "stream",
     "text": [
      "0\n",
      "10\n"
     ]
    }
   ],
   "source": [
    "import pandas as pd\n",
    "\n",
    "predictions = pd.DataFrame(columns = ['Context', 'Decision', 'Prediction'])\n",
    "for index, row in test.iterrows():\n",
    "    if index % 10 == 0:\n",
    "        print(index)\n",
    "    predictions = pd.concat([predictions, pd.DataFrame.from_records([{'Context': row['prompt'], 'Decision': row['completion'], 'Prediction': call_openai(row['prompt'])}])], ignore_index=True)\n",
    "\n",
    "predictions.to_csv('data/babbage-002-finetuned.csv', index=False)\n"
   ]
  },
  {
   "cell_type": "code",
   "execution_count": 26,
   "metadata": {},
   "outputs": [
    {
     "data": {
      "text/plain": [
       "[FineTuningJob(id='ftjob-DR1qvcqR6LCnHWujNJxCEgJC', created_at=1716719101, error=Error(code=None, message=None, param=None), fine_tuned_model='ft:babbage-002:archytix:old-data:9T5NfDcg', finished_at=1716719222, hyperparameters=Hyperparameters(n_epochs=3, batch_size=4, learning_rate_multiplier=16), model='babbage-002', object='fine_tuning.job', organization_id='org-YzrfmO6zmbkafyDrJnQjxvsd', result_files=['file-hBSwi8Qb2StP60zObgWdYPsf'], seed=1930613238, status='succeeded', trained_tokens=73194, training_file='file-FX0mgE2wKM0iz796GjjysE6E', validation_file='file-g2CdlPjKlIgrnaTvdMcYo4QF', estimated_finish=None, integrations=[], user_provided_suffix='old_data'),\n",
       " FineTuningJob(id='ftjob-FhTblxVKoOZZunZxfwL3YeZo', created_at=1716718453, error=Error(code=None, message=None, param=None), fine_tuned_model='ft:babbage-002:archytix:old-data:9T5DueIv', finished_at=1716718617, hyperparameters=Hyperparameters(n_epochs=3, batch_size=1, learning_rate_multiplier=16), model='babbage-002', object='fine_tuning.job', organization_id='org-YzrfmO6zmbkafyDrJnQjxvsd', result_files=['file-TZJaQ1GD9rF3UIyePjh6KdOg'], seed=1110419125, status='succeeded', trained_tokens=73194, training_file='file-FX0mgE2wKM0iz796GjjysE6E', validation_file='file-g2CdlPjKlIgrnaTvdMcYo4QF', estimated_finish=None, integrations=[], user_provided_suffix='old_data')]"
      ]
     },
     "execution_count": 26,
     "metadata": {},
     "output_type": "execute_result"
    }
   ],
   "source": [
    "# get all fine tuning jobs\n",
    "fine_tuning_jobs = client.fine_tuning.jobs.list()\n",
    "jobs = [item for item in fine_tuning_jobs]\n",
    "jobs\n",
    "\n",
    "# Retrieve the state of a fine-tune\n",
    "# job = client.fine_tuning.jobs.retrieve(fineTuningJob.id)\n",
    "# print(job.status)\n",
    "\n",
    "# Cancel a job\n",
    "# client.fine_tuning.jobs.cancel(\"ftjob-abc123\")\n",
    "\n",
    "# # List up to 10 events from a fine-tuning job\n",
    "# print(client.fine_tuning.jobs.list_events(fine_tuning_job_id=fineTuningJob.id, limit=10))\n",
    "\n",
    "# # Delete a fine-tuned model (must be an owner of the org the model was created in)\n",
    "# client.models.delete(\"ft:gpt-3.5-turbo:acemeco:suffix:abc123\")\n",
    "\n"
   ]
  },
  {
   "cell_type": "code",
   "execution_count": 135,
   "metadata": {},
   "outputs": [
    {
     "name": "stdout",
     "output_type": "stream",
     "text": [
      "{'step': 228, 'train_loss': 0.04773598536849022, 'train_mean_token_accuracy': 1.0}\n",
      "{'step': 152, 'train_loss': 1.1666067838668823, 'train_mean_token_accuracy': 0.7030567526817322}\n",
      "{'step': 76, 'train_loss': 2.466878890991211, 'train_mean_token_accuracy': 0.5}\n"
     ]
    }
   ],
   "source": [
    "import requests\n",
    "\n",
    "url = \"https://api.openai.com/v1/fine_tuning/jobs/ftjob-LH3yVH4WdmizrHgm8gwMrTXc/checkpoints\"\n",
    "headers = {\n",
    "    \"Authorization\": f\"Bearer {openai_key}\"\n",
    "}\n",
    "\n",
    "response = requests.get(url, headers=headers)\n",
    "checkpoints = response.json()\n",
    "for checkpoint in checkpoints['data']:\n",
    "    print(checkpoint['metrics'])\n"
   ]
  },
  {
   "cell_type": "markdown",
   "metadata": {},
   "source": [
    "## Gemini"
   ]
  },
  {
   "cell_type": "code",
   "execution_count": 12,
   "metadata": {},
   "outputs": [],
   "source": [
    "import pandas as pd"
   ]
  },
  {
   "cell_type": "code",
   "execution_count": 53,
   "metadata": {},
   "outputs": [],
   "source": [
    "df_train = pd.read_json('data/old_data_train.jsonl', lines=True)\n",
    "df_train = df_train[df_train['completion'].str.len() < 5000]\n",
    "df_train.to_csv('data/old_data_5000_train.csv', index=False)\n",
    "df_train.rename(columns={'prompt': 'text_input', 'completion': 'output'}, inplace=True)\n",
    "train_list = df_train.to_dict(orient='records')\n",
    "\n",
    "df_test = pd.read_json('data/old_data_test.jsonl', lines=True)\n",
    "df_test = df_test[df_test['completion'].str.len() < 5000]\n",
    "df_test.to_csv('data/old_data_5000_train.csv', index=False)\n",
    "df_test.rename(columns={'prompt': 'text_input', 'completion': 'output'}, inplace=True)\n",
    "test_list = df_test.to_dict(orient='records')"
   ]
  },
  {
   "cell_type": "code",
   "execution_count": 62,
   "metadata": {},
   "outputs": [
    {
     "data": {
      "text/plain": [
       "'The following code samples were executed with cabal repl plutus-ledger on the plutus-apps commit hash 172873e87789d8aac623e014eff9a39364c719ae.\\n\\nCurrently, the plutus-ledger-constraint library has the MustValidateIn constraint which\\n\\n    validates that a given POSIXTimeRange` contains the TxInfo’s validity range\\n\\n    creates a transaction with the provided POSIXTimeRange\\n\\nThe implementation of 1) is trivial. However, a major issue arises for the implementation of 2). Setting the validity interval of a Cardano transaction is done by specifing the slot of the lower bound and the slot of the upper bound. Therefore, the MustValidateIn constraint needs to convert the provided POSIXTimeRange to essentially a (Maybe Slot, Maybe Slot). The problem is that there are many ways to convert a POSIXTime to a Slot.\\n\\nCurrently, provided a POSIXTimeRange, plutus-contract does the following:\\n\\n    convert the time range to a slot range with Ledger.TimeSlot.posixTimeRangeToContainedSlotRange :: POSIXTimeRange -> SlotRange\\n\\n    convert the SlotRange to (Cardano.Api.TxValidityLowerBound, Cardano.Api.TxValidityUpperBound) (essentially a (Maybe Slot, Maybe Slot))\\n\\nThe issue with these conversion is that the POSIXTimeRange and SlotRange intervals are type synonyms of the Plutus.V1.Ledger.Api.Interval.Interval a datatype which has has a “Closure” flag for each of the bounds.\\n\\nTherefore, the conversions yields a discrepency when cardano-ledger converts the (Cardano.Api.TxValidityLowerBound, Cardano.Api.TxValidityUpperBound) to a POSIXTimeRange when creating the TxInfo.\\n\\nLet’s show some examples to showcase the issue.\\n\\n> let sc = SlotConfig 1000 0\\n> let interval = (Interval (LowerBound (Finite 999) False) (UpperBound PosInf True))\\n> let r = posixTimeRangeToContainedSlotRange sc interval\\n> r\\nInterval {ivFrom = LowerBound (Finite (Slot {getSlot = 0})) False, ivTo = UpperBound PosInf True}\\n> let txValidRange = toCardanoValidityRange r\\n> txValidRange\\nRight (TxValidityLowerBound ValidityLowerBoundInBabbageEra (SlotNo 1),TxValidityNoUpperBound ValidityNoUpperBoundInBabbageEra)\\n\\nWhen creating the TxInfo, cardano-ledger will convert the previous cardano-api validity slot range to:\\n\\n(Interval (LowerBound (Finite 1000) True) (UpperBound PosInf True))\\n\\nIn practical reasoning, LowerBound (Finite 999) False and LowerBound (Finite 1000) True are equal considering the precision of 1000 milliseconds per slot. However, given Interval semantics, these are not the same values. Therefore, if the constraint mustValidateIn interval is used both to create a transaction and inside a Plutus script (corresponds to the check interval `contains` txInfoValidRange scriptContextTxInfo), then the Plutus script will yield False.\\n\\nWe can identify a similar behavior with the upper bound.\\n\\n> let sc = SlotConfig 1000 0\\n> let interval = (Interval (LowerBound NegInf True) (UpperBound (Finite 999) True))\\n> let r = posixTimeRangeToContainedSlotRange sc interval\\n> r\\nInterval {ivFrom = LowerBound NegInf True, ivTo = UpperBound (Finite (Slot {getSlot = 0})) True}\\n> let txValidRange = toCardanoValidityRange r\\n> txValidRange\\nRight (TxValidityNoLowerBound,TxValidityUpperBound ValidityUpperBoundInBabbageEra (SlotNo 1))\\n\\nWhen creating the TxInfo, cardano-ledger will convert the previous cardano-api validity slot range to:\\n\\n(Interval (LowerBound NegInf True) (UpperBound (Finite 1000) False))\\n\\nAgain, a Plutus script with interval `contains` txInfoValidRange scriptContextTxInfo will yield False.\\n\\nAdditionnaly, the current behavior makes it hard to reason about how a POSIXTime gets translated into a Slot when creating a transaction. Ultimately, a DApp developer should have control over how his POSIXTime gets translated to a Slot.'"
      ]
     },
     "execution_count": 62,
     "metadata": {},
     "output_type": "execute_result"
    }
   ],
   "source": [
    "test_list[0]['text_input']"
   ]
  },
  {
   "cell_type": "code",
   "execution_count": 55,
   "metadata": {},
   "outputs": [],
   "source": [
    "# Importing the generativeai module from the google package.\n",
    "import google.generativeai as genai\n",
    "\n",
    "# Configuring the generativeai module to use gRPC (Google Remote Procedure Call) as the transport protocol.\n",
    "genai.configure(transport='grpc')\n"
   ]
  },
  {
   "cell_type": "code",
   "execution_count": 56,
   "metadata": {},
   "outputs": [
    {
     "name": "stdout",
     "output_type": "stream",
     "text": [
      "TunedModel(name='tunedModels/olddata5000-rsv5huc01tsi',\n",
      "           source_model='models/gemini-1.0-pro-001',\n",
      "           base_model='models/gemini-1.0-pro-001',\n",
      "           display_name='old_data_5000',\n",
      "           description='{\"description\":\"\",\"exampleInput\":\"\",\"exampleOutput\":\"\",\"II\":\"https://drive.google.com/open?id=1KAlWd6Gw5VcsvojWbncrv384ioBFpcZAXuPTYEN3PcM&authuser=0\",\"showedTuningComplete\":false,\"rowsCount\":92}',\n",
      "           temperature=0.9,\n",
      "           top_p=1.0,\n",
      "           top_k=0,\n",
      "           state=<State.ACTIVE: 2>,\n",
      "           create_time=datetime.datetime(2024, 5, 19, 10, 15, 40, 834652, tzinfo=datetime.timezone.utc),\n",
      "           update_time=datetime.datetime(2024, 5, 19, 10, 16, 4, 36984, tzinfo=datetime.timezone.utc),\n",
      "           tuning_task=TuningTask(start_time=datetime.datetime(2024, 5, 19, 10, 15, 41, 895067, tzinfo=datetime.timezone.utc),\n",
      "                                  complete_time=datetime.datetime(2024, 5, 19, 10, 16, 4, 36984, tzinfo=datetime.timezone.utc),\n",
      "                                  snapshots=[...],\n",
      "                                  hyperparameters=Hyperparameters(epoch_count=1,\n",
      "                                                                  batch_size=4,\n",
      "                                                                  learning_rate=0.001)))\n",
      "TunedModel(name='tunedModels/adrinetuned1',\n",
      "           source_model='models/gemini-1.0-pro-001',\n",
      "           base_model='models/gemini-1.0-pro-001',\n",
      "           display_name='',\n",
      "           description='',\n",
      "           temperature=0.9,\n",
      "           top_p=1.0,\n",
      "           top_k=0,\n",
      "           state=<State.ACTIVE: 2>,\n",
      "           create_time=datetime.datetime(2024, 5, 19, 14, 6, 51, 230124, tzinfo=datetime.timezone.utc),\n",
      "           update_time=datetime.datetime(2024, 5, 19, 14, 7, 18, 315832, tzinfo=datetime.timezone.utc),\n",
      "           tuning_task=TuningTask(start_time=datetime.datetime(2024, 5, 19, 14, 6, 51, 541736, tzinfo=datetime.timezone.utc),\n",
      "                                  complete_time=datetime.datetime(2024, 5, 19, 14, 7, 18, 315832, tzinfo=datetime.timezone.utc),\n",
      "                                  snapshots=[...],\n",
      "                                  hyperparameters=Hyperparameters(epoch_count=1,\n",
      "                                                                  batch_size=4,\n",
      "                                                                  learning_rate=0.001)))\n"
     ]
    }
   ],
   "source": [
    "for i, m in zip(range(5), genai.list_tuned_models()):\n",
    "    print(m)"
   ]
  },
  {
   "cell_type": "code",
   "execution_count": 59,
   "metadata": {},
   "outputs": [],
   "source": [
    "# Assigning a name to the fine-tuned model.\n",
    "my_finetuned_model_name = \"adrinetuned2\"\n",
    "\n",
    "# Creating a tuned model operation with specified parameters.\n",
    "operation = genai.create_tuned_model(\n",
    "    source_model= 'models/gemini-1.0-pro-001',\n",
    "    training_data = train_list,\n",
    "    id = my_finetuned_model_name,\n",
    "    epoch_count = 2,\n",
    "    batch_size=4,\n",
    "    learning_rate=0.001,\n",
    ")"
   ]
  },
  {
   "cell_type": "code",
   "execution_count": 63,
   "metadata": {},
   "outputs": [
    {
     "data": {
      "text/plain": [
       "<AxesSubplot:xlabel='epoch', ylabel='mean_loss'>"
      ]
     },
     "execution_count": 63,
     "metadata": {},
     "output_type": "execute_result"
    },
    {
     "data": {
      "image/png": "[encoded data removed]",
      "text/plain": [
       "<Figure size 640x480 with 1 Axes>"
      ]
     },
     "metadata": {},
     "output_type": "display_data"
    }
   ],
   "source": [
    "import seaborn as sns\n",
    "\n",
    "model = operation.result()\n",
    "model.state\n",
    "snapshots = pd.DataFrame(model.tuning_task.snapshots)\n",
    "sns.lineplot(data=snapshots, x='epoch', y='mean_loss')"
   ]
  },
  {
   "cell_type": "code",
   "execution_count": 65,
   "metadata": {},
   "outputs": [
    {
     "name": "stdout",
     "output_type": "stream",
     "text": [
      "The MustValidateIn constraint is removed from the plutus-ledger-constraint library.\n",
      "After careful evaluation and discussion, we have decided to use MySQL as the DBMS for Project X.\n"
     ]
    }
   ],
   "source": [
    "model = genai.GenerativeModel(model_name=f'tunedModels/{my_finetuned_model_name}')\n",
    "result = model.generate_content(test_list[0]['text_input'])\n",
    "print(result.text)\n",
    "\n",
    "Context = \"## Context We need to decide on which database management system (DBMS) to use for Project X. The database will be used to store and manage large amounts of data from multiple sources. We need a DBMS that can handle transactions, offer scalability, and provide high reliability and security. Among various options available, we are considering MySQL as a possible choice.\\n### Decision Considerations\\n- Ease of use and maintenance\\n- Community support and resources\\n- Performance and scalability\\n- Security and reliability\\n- Cost and licensing\\n- Compatibility with our technology stack\\n### Considered Options\\n- MySQL\\n- PostgreSQL\\n- Oracle\\n- Microsoft SQL Server\\n- MongoDB\\n\"\n",
    "result = model.generate_content(Context)\n",
    "print(result.text)"
   ]
  },
  {
   "cell_type": "code",
   "execution_count": null,
   "metadata": {},
   "outputs": [],
   "source": []
  }
 ],
 "metadata": {
  "kernelspec": {
   "display_name": "Python 3 (ipykernel)",
   "language": "python",
   "name": "python3"
  },
  "language_info": {
   "codemirror_mode": {
    "name": "ipython",
    "version": 3
   },
   "file_extension": ".py",
   "mimetype": "text/x-python",
   "name": "python",
   "nbconvert_exporter": "python",
   "pygments_lexer": "ipython3",
   "version": "3.9.13"
  }
 },
 "nbformat": 4,
 "nbformat_minor": 2
}
