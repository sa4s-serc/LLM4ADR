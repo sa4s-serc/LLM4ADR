{
 "cells": [
  {
   "cell_type": "code",
   "execution_count": 1,
   "metadata": {},
   "outputs": [
    {
     "name": "stdout",
     "output_type": "stream",
     "text": [
      "## Context We need to decide on which database management system (DBMS) to use for Project X. The database will be used to store and manage large amounts of data from multiple sources. We need a DBMS that can handle transactions, offer scalability, and provide high reliability and security. Among various options available, we are considering MySQL as a possible choice.\n",
      "### Decision Considerations\n",
      "- Ease of use and maintenance\n",
      "- Community support and resources\n",
      "- Performance and scalability\n",
      "- Security and reliability\n",
      "- Cost and licensing\n",
      "- Compatibility with our technology stack\n",
      "### Considered Options\n",
      "- MySQL\n",
      "- PostgreSQL\n",
      "- Oracle\n",
      "- Microsoft SQL Server\n",
      "- MongoDB\n",
      "\n",
      "## Decision\n",
      "\n",
      "After evaluating the above options based on our decision considerations, we have decided to choose MySQL as our DBMS for Project X.\n",
      "\n",
      "MySQL is a popular open-source system with a strong development community and a large pool of resources for problem-solving and knowledge sharing. It is well-known for its excellent performance and scalability capabilities, making it ideal for handling vast amounts of data with high levels of efficiency. The platform is secure, reliable, and has a wide range of features that are essential for our project, including ACID compliance for transactions, flexible data model, and support for various programming languages and frameworks.\n",
      "\n",
      "MySQL is also compatible with the majority of our technology stack, including our web development framework, hosting solutions, and other essential tools. Plus, its cost and licensing terms are competitive compared to other proprietary systems like Oracle and Microsoft SQL Server.\n"
     ]
    }
   ],
   "source": [
    "system_message = \"This is an Architectural Decision Record for a software. Give a ## Decision corresponding to the ## Context provided by the User.\"\n",
    "Context = \"## Context We need to decide on which database management system (DBMS) to use for Project X. The database will be used to store and manage large amounts of data from multiple sources. We need a DBMS that can handle transactions, offer scalability, and provide high reliability and security. Among various options available, we are considering MySQL as a possible choice.\\n### Decision Considerations\\n- Ease of use and maintenance\\n- Community support and resources\\n- Performance and scalability\\n- Security and reliability\\n- Cost and licensing\\n- Compatibility with our technology stack\\n### Considered Options\\n- MySQL\\n- PostgreSQL\\n- Oracle\\n- Microsoft SQL Server\\n- MongoDB\\n\"\n",
    "print(Context)\n",
    "Decision = \"## Decision\\n\\nAfter evaluating the above options based on our decision considerations, we have decided to choose MySQL as our DBMS for Project X.\\n\\nMySQL is a popular open-source system with a strong development community and a large pool of resources for problem-solving and knowledge sharing. It is well-known for its excellent performance and scalability capabilities, making it ideal for handling vast amounts of data with high levels of efficiency. The platform is secure, reliable, and has a wide range of features that are essential for our project, including ACID compliance for transactions, flexible data model, and support for various programming languages and frameworks.\\n\\nMySQL is also compatible with the majority of our technology stack, including our web development framework, hosting solutions, and other essential tools. Plus, its cost and licensing terms are competitive compared to other proprietary systems like Oracle and Microsoft SQL Server.\"\n",
    "print(Decision)"
   ]
  },
  {
   "cell_type": "markdown",
   "metadata": {},
   "source": [
    "### Google"
   ]
  },
  {
   "cell_type": "code",
   "execution_count": 10,
   "metadata": {},
   "outputs": [
    {
     "data": {
      "text/plain": [
       "True"
      ]
     },
     "execution_count": 10,
     "metadata": {},
     "output_type": "execute_result"
    }
   ],
   "source": [
    "from dotenv import load_dotenv\n",
    "path = '/home2/rudra.dhar/codes/SE/ADR/experiments/'\n",
    "load_dotenv(path + '.env')"
   ]
  },
  {
   "cell_type": "code",
   "execution_count": 12,
   "metadata": {},
   "outputs": [
    {
     "name": "stdout",
     "output_type": "stream",
     "text": [
      "## Decision\n",
      "We have decided to use MySQL as the DBMS for Project X.\n",
      "\n",
      "### Rationale\n",
      "After careful evaluation of the considered options, we believe that MySQL is the best fit for our needs. Here are the reasons for our decision:\n",
      "\n",
      "- **Ease of use and maintenance:** MySQL is known for its user-friendly interface and ease of use. It also has a large community of users and developers, which provides ample support and resources.\n",
      "- **Performance and scalability:** MySQL is a high-performance DBMS that can handle large amounts of data and concurrent transactions. It also offers scalability options to meet the growing needs of our application.\n",
      "- **Security and reliability:** MySQL provides robust security features to protect data from unauthorized access and breaches. It also offers high reliability with features such as replication and failover.\n",
      "- **Cost and licensing:** MySQL is a cost-effective option compared to other commercial DBMSs. It is open source and has a flexible licensing model that suits our budget and usage requirements.\n",
      "- **Compatibility with our technology stack:** MySQL is compatible with our existing technology stack, which includes PHP, Python, and Node.js. This ensures seamless integration and reduces development efforts.\n"
     ]
    }
   ],
   "source": [
    "\"\"\"\n",
    "At the command line, only need to run once to install the package via pip:\n",
    "\n",
    "$ pip install google-generativeai\n",
    "\"\"\"\n",
    "import os\n",
    "import google.generativeai as genai\n",
    "google_key = os.getenv('google_key')\n",
    "\n",
    "genai.configure(api_key=google_key)\n",
    "\n",
    "# Set up the model\n",
    "generation_config = {\n",
    "  \"temperature\": 0.5,\n",
    "  \"top_p\": 1,\n",
    "  \"top_k\": 1,\n",
    "  \"max_output_tokens\": 2048,\n",
    "}\n",
    "\n",
    "model = genai.GenerativeModel(model_name=\"gemini-1.0-pro\",\n",
    "                              generation_config=generation_config)\n",
    "\n",
    "convo = model.start_chat(history=[])\n",
    "\n",
    "convo.send_message(system_message+ \"\\n\\n\" +Context)\n",
    "print(convo.last.text)"
   ]
  },
  {
   "cell_type": "markdown",
   "metadata": {},
   "source": [
    "### Anthropic"
   ]
  },
  {
   "cell_type": "code",
   "execution_count": 13,
   "metadata": {},
   "outputs": [
    {
     "name": "stdout",
     "output_type": "stream",
     "text": [
      "## Decision\n",
      "\n",
      "After evaluating the options against our decision considerations, we have decided to use MySQL as the database management system for Project X. The rationale for this decision is as follows:\n",
      "\n",
      "1. Ease of use and maintenance:\n",
      "   - MySQL offers a user-friendly interface and comprehensive documentation, making it easier for developers to work with and maintain the database.\n",
      "   - It has a large and active community, providing extensive resources, tutorials, and forums for support.\n",
      "\n",
      "2. Community support and resources:\n",
      "   - MySQL has a vast and vibrant community, ensuring access to a wide range of resources, including documentation, tutorials, and forums.\n",
      "   - The community actively contributes to the development and improvement of MySQL, providing regular updates and bug fixes.\n",
      "\n",
      "3. Performance and scalability:\n",
      "   - MySQL delivers high performance for read-heavy workloads, which aligns well with our project requirements.\n",
      "   - It offers various scalability options, such as replication and partitioning, allowing us to handle increasing data volumes and user loads.\n",
      "\n",
      "4. Security and reliability:\n",
      "   - MySQL provides robust security features, including user authentication, access control, and data encryption.\n",
      "   - It has a proven track record of reliability and is widely used in enterprise-level applications.\n",
      "\n",
      "5. Cost and licensing:\n",
      "   - MySQL is available under an open-source license, which means no upfront costs for licensing.\n",
      "   - It offers a cost-effective solution compared to proprietary alternatives like Oracle or Microsoft SQL Server.\n",
      "\n",
      "6. Compatibility with our technology stack:\n",
      "   - MySQL integrates well with our existing technology stack, which includes programming languages like PHP, Python, and Java.\n",
      "   - It has extensive driver support and ORM (Object-Relational Mapping) libraries available for seamless integration.\n",
      "\n",
      "While other options like PostgreSQL and MongoDB were considered, MySQL emerged as the most suitable choice based on our specific requirements and considerations. Its combination of ease of use, community support, performance, security, cost-effectiveness, and compatibility makes it the ideal DBMS for Project X.\n",
      "\n",
      "We acknowledge that there may be trade-offs, such as limited support for complex data types compared to PostgreSQL or the lack of native document storage capabilities offered by MongoDB. However, given our primary focus on handling large amounts of structured data and the need for strong transaction support, MySQL aligns best with our current needs.\n",
      "\n",
      "Moving forward, we will proceed with the implementation of MySQL as the DBMS for Project X. We will ensure proper configuration, optimization, and security measures are in place to maximize its potential and meet our project requirements effectively.\n"
     ]
    }
   ],
   "source": [
    "import anthropic\n",
    "\n",
    "anthropic_key = os.getenv('anthropic_key')\n",
    "\n",
    "client = anthropic.Anthropic(\n",
    "    api_key=anthropic_key,\n",
    ")\n",
    "message = client.messages.create(\n",
    "    model=\"claude-3-opus-20240229\",\n",
    "    max_tokens=1000,\n",
    "    temperature=0,\n",
    "    system=system_message,\n",
    "    messages=[\n",
    "        {\n",
    "            \"role\": \"user\",\n",
    "            \"content\": [\n",
    "                {\n",
    "                    \"type\": \"text\",\n",
    "                    \"text\": Context\n",
    "                }\n",
    "            ]\n",
    "        }\n",
    "    ]\n",
    ")\n",
    "print(message.content[0].text)"
   ]
  },
  {
   "cell_type": "markdown",
   "metadata": {},
   "source": [
    "### OpenAi"
   ]
  },
  {
   "cell_type": "code",
   "execution_count": 3,
   "metadata": {},
   "outputs": [
    {
     "ename": "NameError",
     "evalue": "name 'os' is not defined",
     "output_type": "error",
     "traceback": [
      "\u001b[1;31m---------------------------------------------------------------------------\u001b[0m",
      "\u001b[1;31mNameError\u001b[0m                                 Traceback (most recent call last)",
      "Input \u001b[1;32mIn [3]\u001b[0m, in \u001b[0;36m<cell line: 4>\u001b[1;34m()\u001b[0m\n\u001b[0;32m      2\u001b[0m \u001b[38;5;28;01mfrom\u001b[39;00m \u001b[38;5;21;01mdotenv\u001b[39;00m \u001b[38;5;28;01mimport\u001b[39;00m load_dotenv\n\u001b[0;32m      3\u001b[0m path \u001b[38;5;241m=\u001b[39m \u001b[38;5;124m'\u001b[39m\u001b[38;5;124mD:\u001b[39m\u001b[38;5;124m\\\u001b[39m\u001b[38;5;124mIIIT\u001b[39m\u001b[38;5;124m\\\u001b[39m\u001b[38;5;124mLAB_SE\u001b[39m\u001b[38;5;124m\\\u001b[39m\u001b[38;5;124mADR\u001b[39m\u001b[38;5;124m\\\u001b[39m\u001b[38;5;124mLLM4ADR\u001b[39m\u001b[38;5;124m\\\u001b[39m\u001b[38;5;124mRD_experiments\u001b[39m\u001b[38;5;124m'\u001b[39m\n\u001b[1;32m----> 4\u001b[0m load_dotenv(\u001b[43mos\u001b[49m\u001b[38;5;241m.\u001b[39mpath\u001b[38;5;241m.\u001b[39mjoin(path, \u001b[38;5;124m'\u001b[39m\u001b[38;5;124m.env\u001b[39m\u001b[38;5;124m'\u001b[39m))\n\u001b[0;32m      6\u001b[0m openai_key \u001b[38;5;241m=\u001b[39m os\u001b[38;5;241m.\u001b[39mgetenv(\u001b[38;5;124m'\u001b[39m\u001b[38;5;124mopenai_key_karthik\u001b[39m\u001b[38;5;124m'\u001b[39m)\n\u001b[0;32m      8\u001b[0m client \u001b[38;5;241m=\u001b[39m OpenAI(api_key \u001b[38;5;241m=\u001b[39m openai_key)\n",
      "\u001b[1;31mNameError\u001b[0m: name 'os' is not defined"
     ]
    }
   ],
   "source": [
    "import os\n",
    "from openai import OpenAI\n",
    "from dotenv import load_dotenv\n",
    "path = 'D:\\IIIT\\LAB_SE\\ADR\\LLM4ADR\\RD_experiments'\n",
    "load_dotenv(os.path.join(path, '.env'))\n",
    "\n",
    "openai_key = os.getenv('openai_key_karthik')\n",
    "\n",
    "client = OpenAI(api_key = openai_key)\n",
    "\n",
    "response = client.chat.completions.create(\n",
    "  model=\"gpt-4-turbo-preview\",\n",
    "  messages=[\n",
    "    {\n",
    "      \"role\": \"system\",\n",
    "      \"content\": system_message\n",
    "    },\n",
    "    {\n",
    "      \"role\": \"user\",\n",
    "      \"content\": Context\n",
    "    }\n",
    "  ],\n",
    "  temperature=1,\n",
    "  max_tokens=256,\n",
    "  top_p=1,\n",
    "  frequency_penalty=0,\n",
    "  presence_penalty=0\n",
    ")\n",
    "\n",
    "print(response.choices[0].message.content)"
   ]
  },
  {
   "cell_type": "markdown",
   "metadata": {},
   "source": [
    "### Cohere"
   ]
  },
  {
   "cell_type": "code",
   "execution_count": 21,
   "metadata": {},
   "outputs": [
    {
     "name": "stdout",
     "output_type": "stream",
     "text": [
      "## Decision\n",
      "After evaluating the options based on the decision considerations, we have decided to go with PostgreSQL as our DBMS for Project X. PostgreSQL is a widely used, open-source relational DBMS with robust community support and resources. It offers high performance, scalability, security, and ease of use, making it suitable for handling large amounts of data from multiple sources. While it may not be as fast as some other options, it excels in ACID compliance and provides strong data security, which are crucial for our project requirements.\n"
     ]
    }
   ],
   "source": [
    "import cohere\n",
    "import os\n",
    "from dotenv import load_dotenv\n",
    "path = 'D:\\IIIT\\LAB_SE\\ADR\\LLM4ADR\\RD_experiments'\n",
    "load_dotenv(os.path.join(path, '.env'))\n",
    "cohere_key = os.getenv('cohere_key')\n",
    "\n",
    "co = cohere.Client(\n",
    "    api_key=cohere_key, # This is your trial API key\n",
    ") \n",
    "\n",
    "stream = co.chat_stream( \n",
    "    model='command-r-plus',\n",
    "    message=system_message+Context,\n",
    "    temperature=0.3,\n",
    "    chat_history=[],\n",
    "    prompt_truncation='AUTO',\n",
    "    connectors=[{\"id\":\"web-search\"}]\n",
    ") \n",
    "\n",
    "response_text = ''\n",
    "for event in stream:\n",
    "    if event.event_type == \"text-generation\":\n",
    "        response_text += event.text\n",
    "\n",
    "print(response_text)"
   ]
  },
  {
   "cell_type": "code",
   "execution_count": 13,
   "metadata": {},
   "outputs": [
    {
     "name": "stdout",
     "output_type": "stream",
     "text": [
      "[[0.03375244, -0.03137207, -0.015670776, -0.06842041, -0.030151367, -0.021514893, -0.010040283, 0.016494751, 0.029037476, 0.051330566, -0.06451416, 0.0010280609, 0.05380249, -0.011238098, 0.02357483, -0.034484863, 0.018249512, 0.04623413, 0.019943237, -0.01222229, 0.008049011, 0.021392822, -0.05697632, -0.010269165, 0.05532837, 0.04336548, -0.054779053, 0.015563965, -0.019943237, -0.02923584, 0.01121521, 0.013641357, 0.039001465, 0.009429932, -0.045013428, 0.04751587, 0.002565384, -0.047332764, -0.00051164627, 0.010536194, 0.014762878, -0.010749817, -0.025436401, 0.0079193115, -0.056793213, -0.008178711, -0.02645874, -0.013923645, 0.056274414, -0.008399963, 0.026809692, 0.0011816025, 0.021896362, -0.014167786, -0.041229248, -0.019546509, -0.079956055, 0.011474609, 0.016204834, -0.008117676, 0.019836426, -0.0015411377, 0.04663086, 0.075805664, 0.0034160614, -0.025482178, -0.005836487, 0.01083374, 0.015686035, -0.04345703, -0.0029525757, -0.007080078, 0.006969452, -0.037750244, -0.014984131, 0.060150146, 0.023757935, 0.04800415, -0.0034561157, -0.037597656, -0.00021266937, -0.009254456, -0.031585693, 0.0037002563, 0.008430481, 0.040374756, 0.0049209595, -0.026763916, 0.015472412, 0.008178711, -0.007019043, 0.025939941, 0.047546387, 0.0395813, -0.036499023, 0.018127441, -0.037200928, -0.047790527, 0.004737854, 0.026489258, -0.02885437, -0.02079773, -0.0074806213, -0.022506714, -0.026901245, -0.004135132, -0.012611389, 0.024169922, 0.029418945, 0.06518555, -0.017196655, 0.035339355, -0.0052871704, 0.006450653, -0.041015625, 0.0446167, 0.027313232, 0.0030517578, -0.028289795, 0.03274536, 0.05886841, 0.058929443, 0.015007019, -0.01247406, -0.039764404, -0.0107803345, -0.014022827, -0.06542969, 0.0335083, -0.028167725, 0.007411957, 0.052337646, -0.109680176, -0.036071777, -0.046203613, 0.0126953125, -0.005748749, -0.049865723, -0.009346008, 0.04586792, 0.0519104, 0.0009217262, 0.047088623, 0.032409668, -0.041168213, 0.03781128, 0.004032135, -0.01134491, 0.034698486, 0.029388428, -0.09802246, -0.0050849915, 0.04525757, 0.034088135, -0.005821228, 0.018493652, -0.031280518, 0.0069847107, -0.011230469, 0.012008667, -0.014877319, 0.025238037, 0.06707764, -0.009399414, -0.03387451, -0.033172607, 0.010406494, -0.00073099136, 0.021453857, 0.007911682, 0.0064849854, 0.017105103, 0.0262146, 0.033935547, 0.016738892, -0.005672455, -0.04147339, 0.026397705, 0.031341553, 0.036102295, 0.03677368, -0.018310547, -0.0138549805, 0.05935669, -0.037506104, -0.017181396, 0.0020103455, 0.0107803345, 0.028427124, 0.0060577393, 0.036987305, 0.015014648, -0.030059814, -0.00047445297, -0.027542114, -0.05050659, -0.009796143, -0.016204834, -0.022155762, 0.03515625, -0.0005412102, -0.044952393, 0.030334473, -0.04119873, -0.07800293, -0.03225708, -0.019317627, 0.01424408, -0.0013532639, 0.019851685, -0.005180359, -0.021087646, -0.0060539246, -0.031341553, -0.00037026405, -0.019622803, -0.070129395, -0.0211792, 0.0095825195, 0.03668213, 0.02947998, 0.0017700195, -0.008277893, -0.0087509155, 0.023956299, -0.008636475, -0.041229248, -0.008705139, -0.03201294, -0.009521484, -0.026931763, 0.044921875, 0.0026054382, 0.009979248, -0.0262146, 0.013534546, -0.006137848, 0.012023926, -0.003189087, 0.014122009, 0.012458801, 0.0047302246, -0.030807495, -0.0015993118, 0.016937256, -0.045440674, 0.017303467, 0.008125305, -0.015159607, 0.00017881393, 0.0463562, -0.021591187, 0.028640747, -0.035949707, 0.00072574615, 0.02079773, 0.007144928, 0.008956909, -0.050933838, 0.027450562, -0.014389038, -0.009979248, -0.028411865, -0.012794495, -0.010749817, -0.019515991, 0.009849548, 0.018569946, -0.012924194, -0.017547607, 0.004425049, -0.028244019, -0.03012085, -0.015960693, 0.07531738, 0.05218506, -0.057495117, -0.002084732, 0.017196655, 0.0041122437, -0.006942749, -0.009994507, -0.014877319, 0.003967285, 0.05999756, 0.0062942505, -0.0014324188, -0.009300232, 0.0071525574, 0.06970215, 0.06689453, 0.04244995, 0.00028514862, 0.017059326, 0.04852295, 0.02532959, 0.009384155, 0.005554199, 0.010215759, -0.07647705, 0.00121212, 0.03778076, -0.030471802, -0.012527466, -0.01838684, 0.013282776, 0.00017678738, 0.04296875, 0.028137207, -0.06756592, 0.03543091, 0.01676941, 0.03515625, -0.022766113, 0.015350342, -0.0058555603, -0.008926392, 0.0020580292, -0.07525635, -0.020629883, 0.03302002, 0.009757996, -0.045135498, -0.024887085, -0.017990112, 0.013031006, -0.06878662, -0.018035889, -0.06384277, 0.030792236, 0.04434204, -0.033325195, -0.016479492, -0.08569336, 0.0061454773, 0.00299263, 0.022445679, -0.054779053, -0.007335663, -0.0036010742, 0.06567383, 0.004207611, 0.023101807, 0.0059013367, -0.035491943, -0.0042686462, -0.0048599243, 0.0084991455, -0.017044067, -0.040924072, 0.06298828, -0.0519104, -0.0259552, -0.017974854, 0.033203125, 0.0049934387, 0.012527466, -0.008407593, 0.07348633, -0.07183838, 0.001414299, -0.026229858, -0.04901123, 0.0074386597, 0.033966064, -0.046936035, -0.00333786, -0.022201538, 0.014533997, -0.0026073456, -0.0052757263, 0.0049972534, 0.006462097, -0.009635925, -0.03100586, -0.0055732727, -0.033569336, -0.05218506, 0.030181885, -0.011543274, 0.052368164, 0.013671875, 0.059692383, -0.027053833, 0.068115234, 0.014221191, 0.0024547577, 0.021835327, 0.05429077, 0.0064086914, -0.011962891, -0.003353119, -0.03555298, -0.0184021, 0.011802673, -0.00818634, -0.02079773, 0.0052833557, -0.071777344, -0.010253906, -0.02003479, 0.00843811, -0.010314941, 0.009475708, -0.07336426, 0.068237305, -0.039520264, -0.017501831, 0.025619507, 0.06964111, -0.006164551, 0.01914978, -0.017059326, 0.013206482, -0.023223877, 0.032104492, 0.046081543, -0.004600525, 0.01928711, -0.011779785, -0.0016393661, 0.029342651, -0.0053215027, 0.02217102, -0.05029297, 0.07104492, -0.038726807, 0.043884277, 0.06124878, -0.03579712, -0.041778564, -0.02659607, 0.0028476715, -0.019088745, -0.025253296, 0.0871582, -0.045532227, 0.07098389, -0.0039711, -0.051361084, -0.051757812, 0.028274536, 0.023330688, -0.016433716, -0.011184692, -0.0079193115, 0.047302246, -0.008033752, -0.026473999, 0.019805908, -0.090270996, 0.026351929, 9.030104e-05, 0.056793213, -0.014968872, 0.00067329407, 0.0574646, 0.031555176, 0.014129639, -0.018692017, 0.0029792786, -0.0124053955, -0.075683594, -0.03010559, -0.004711151, 0.026275635, -0.002691269, 0.026260376, -0.022644043, -0.040008545, 0.028900146, -0.009742737, -0.0050697327, -0.02053833, 0.048706055, 0.021438599, -0.037384033, -0.008804321, -0.016082764, 0.013122559, -0.045806885, 0.025604248, 0.01309967, -0.037994385, -0.016403198, 0.001200676, -0.021347046, -0.02180481, 0.028762817, 0.00082683563, 0.01864624, 0.018692017, 0.023010254, -0.00024223328, 0.011695862, -0.034698486, 0.0028381348, 0.03149414, 0.042938232, -0.058013916, -0.06842041, 0.03237915, -0.018203735, -0.032440186, 0.018661499, -0.040130615, -0.010246277, 0.010971069, 0.068359375, 0.008453369, 0.04046631, 0.00730896, -0.014221191, -0.0206604, -0.008895874, 0.06359863, -0.028305054, 0.0071907043, -0.0038108826, -0.035980225, -0.013923645, 0.04147339, 0.032043457, 0.035949707, 0.0031414032, 0.002790451, -0.025375366, 0.029846191, -0.026367188, -0.014221191, 0.06970215, 0.030471802, 0.048553467, -0.0023880005, -0.043395996, 0.03225708, -0.031799316, -0.012046814, -0.0017642975, -0.032806396, 0.0036506653, 0.033081055, -0.012130737, 0.009895325, 0.008476257, -0.03036499, 0.027496338, 0.07989502, -0.03111267, 0.06976318, 0.00018429756, -0.022567749, 0.038024902, -0.015090942, -0.01739502, -0.011955261, -0.050445557, 0.004962921, -0.0107040405, 0.061706543, -0.022338867, 0.03250122, -0.013900757, -0.023635864, 0.03050232, 0.020507812, 0.03881836, -0.021621704, -0.036499023, 0.018630981, -0.0041046143, -0.006996155, 0.014976501, -0.044555664, -0.026672363, -0.0287323, 0.023071289, 0.017852783, 0.014381409, -0.030349731, 0.009796143, -0.0059280396, -0.030593872, 0.052947998, 0.0047340393, 0.03955078, 0.0018920898, -0.02670288, -0.01586914, 0.028503418, 0.015823364, -0.0211792, -0.0061149597, -0.011062622, 0.006500244, -0.013328552, 0.02293396, -0.034179688, 0.019989014, 0.0034236908, -0.028259277, 0.015655518, 0.02708435, -0.019348145, 0.0038490295, 0.0038757324, 0.002714157, 0.001996994, -0.02949524, -0.01940918, 0.023956299, 0.03829956, -0.01802063, -0.023330688, -0.028366089, 0.006877899, 0.02798462, 0.02293396, 0.010894775, -0.039276123, -0.015167236, 0.004119873, 0.023376465, 0.0135269165, 0.044647217, -0.038757324, 0.0053100586, 0.027023315, 0.008735657, -0.0072669983, -0.00085926056, -0.021331787, -0.0042495728, -0.051635742, 0.018508911, 0.058441162, -0.0020503998, -0.02645874, -0.07196045, 0.062561035, 0.01675415, -0.037506104, -0.0309906, -0.002008438, 0.0048828125, -0.015731812, 0.025436401, 0.006668091, -0.033233643, 0.019866943, -0.02168274, 0.022903442, 0.0038146973, 0.008377075, 0.0021095276, 0.011314392, 0.0013008118, 0.071777344, -0.029953003, -0.019180298, 0.03717041, 0.07849121, -0.011665344, 0.0024757385, 0.07122803, 0.015808105, 0.039093018, 0.04083252, 0.006580353, 0.010131836, -0.016677856, 0.00013101101, 0.00066661835, -0.02885437, -0.06561279, 0.053344727, 0.034729004, 0.021560669, 0.024414062, 0.027435303, -0.033447266, -0.05999756, 0.041809082, 0.018051147, -0.03111267, 0.0051612854, 0.061767578, 0.033569336, 0.019622803, 0.016723633, -0.058898926, -0.0357666, 0.034851074, -0.0024032593, -0.0027389526, 0.0061302185, 0.0019359589, -0.006111145, -0.05029297, -0.01374054, 0.048614502, -0.018981934, 0.027313232, -0.024230957, 0.03427124, 0.026275635, -0.024215698, -0.046417236, -0.004043579, 0.010147095, -0.0115737915, 0.05630493, -0.014205933, 0.0019187927, -0.027999878, -0.028656006, -0.030807495, 0.0033245087, -0.020553589, 0.012908936, -0.017791748, -0.019195557, 0.022064209, 0.009681702, 0.04473877, 0.01838684, -0.06933594, 0.000117361546, -0.016860962, -0.037078857, 0.03201294, 0.046051025, -0.024383545, 0.0064582825, 0.00756073, 0.010414124, 0.023651123, 0.04928589, 0.03829956, 0.007549286, -0.050048828, -0.0066490173, 0.04763794, 0.026733398, 0.0023612976, 0.054626465, 0.031707764, 0.043273926, -0.021774292, 0.013679504, 0.022338867, -0.020874023, 0.007259369, -0.004119873, 0.004009247, -0.04031372, -0.050964355, 0.0071105957, 0.031921387, -0.012565613, -0.05343628, -0.008422852, 0.00868988, 0.04333496, 0.007347107, 0.029327393, -0.009552002, 0.024673462, 0.0284729, -0.008712769, 0.06463623, 0.014472961, 0.024871826, 0.04425049, -0.031402588, 0.01701355, 0.007221222, 0.00041103363, 0.02116394, -0.010147095, -0.015655518, 0.013671875, 0.0007586479, 0.025115967, -0.019302368, -0.036102295, -0.015380859, 0.046783447, -0.041625977, 0.0022583008, 0.017410278, 0.07519531, -0.009277344, 0.06945801, 0.04321289, 0.019332886, 0.0030097961, -0.002122879, 0.05911255, -0.038208008, -0.011772156, -0.054840088, -0.015655518, 0.012931824, -0.007217407, 0.0062942505, -0.036865234, 0.04220581, -0.0053977966, 0.033203125, 0.003545761, 0.012832642, 0.0010547638, -0.004131317, -0.017501831, 0.013343811, 0.035125732, -0.026763916, 0.047027588, -0.039123535, -0.015571594, 0.043121338, -0.01058197, 0.020095825, -0.06121826, 0.040985107, 0.042938232, -0.035369873, -0.035186768, 0.051849365, 0.06329346, -0.0072746277, 0.01247406, 0.070007324, 0.053527832, -0.030471802, -0.02331543, -0.041870117, 0.054534912, -0.0018472672, 0.01977539, -0.015823364, 0.030395508, -0.013618469, 0.030715942, 0.023330688, 0.016098022, -0.045959473, 0.018493652, 0.043151855, 0.0413208, 0.030914307, 0.036621094, -0.025726318, 0.017715454, 0.009132385, 0.03845215, -0.029571533, 0.007637024, -0.00090551376, -0.017959595, 0.040496826, -0.046844482, -0.04928589, 0.030914307, 0.03302002, -0.016494751, 0.01977539, -0.05267334, 0.024261475, 0.013694763, 0.039733887, -0.0036182404, -0.016021729, -0.018600464, -0.019607544, 0.017288208, -0.016098022, 0.015838623, 0.036102295, 0.0036315918, 0.009841919, 0.015296936, -0.022842407, -0.021499634, -0.014533997, -0.0034713745, 0.02545166, 0.021102905, -0.0027427673, 0.0053520203, -0.0063095093, 0.0046195984, -0.004840851, 0.011222839, 0.029632568, -0.03793335, 0.03237915, -0.032714844, 0.0048103333, -0.034301758, -0.030197144, 0.0007200241, -0.012924194, 0.012321472, 0.03479004, 0.054718018, -0.0041656494, -0.018447876, -0.024261475, 0.0039138794, 0.0069351196, -0.014953613, 0.031036377, 0.013397217, 0.03503418, -0.072265625, -0.055236816, 0.00724411, -0.018692017, -0.027954102, 0.018341064, 0.017166138, -0.021621704, -0.05621338, 0.021087646, -0.01512146, -0.020812988, -0.016967773, -0.0011911392, 0.0063476562, -0.014541626, -0.011001587, 0.024963379, 0.0067634583, -0.011138916, 0.045837402, -0.01285553, -0.010292053, 0.020690918, -0.0064926147, 0.021743774, -0.012031555, -0.029403687, -0.012268066, 0.020751953, 0.015777588, -0.0048599243, -0.046783447, -0.010253906, 0.007965088, 0.010787964, -0.06085205, 0.04269409, -0.031341553, 0.051940918, -0.03640747, -0.008361816, 0.0035991669, 0.016860962, 0.006916046, 0.01966858, -0.0070381165, -0.030944824, -0.05355835, -0.006893158, -0.017684937, 0.022354126, -0.018081665, 0.029037476, -0.009269714, -0.0015935898, -0.021896362, -0.010658264, 0.020263672, -0.05987549, 0.028945923, -0.010681152, -0.04522705, 0.00044107437, -0.03567505, 0.034088135, 0.0070381165, 0.027572632, -0.062316895, 0.07397461, -0.04837036, -0.011116028, -0.004814148, 0.030670166, -0.010765076, 0.009170532, -0.051818848, -0.027008057, 0.025939941, -0.015838623, 0.029205322, -0.030838013, 0.06378174, 0.0070228577, 0.0016651154, -0.014953613, 0.026153564, -0.02293396, 0.022735596, -0.050628662, -0.007610321, -0.030395508, 0.0030765533, -0.0491333, -0.035736084, 0.024139404, -0.0085372925, -0.035461426, 0.017501831, 0.0016946793, 0.02508545, -0.009971619, 0.03555298, -0.02078247, 0.0043525696, 0.06567383, -0.029144287, 0.02458191]]\n"
     ]
    }
   ],
   "source": [
    "import cohere\n",
    "co = cohere.Client(cohere_key) # This is your trial API key\n",
    "\n",
    "response = co.embed(\n",
    "  model='embed-english-v3.0',\n",
    "  texts=[Context],\n",
    "  input_type='classification',\n",
    "  truncate='NONE'\n",
    ")\n",
    "embeddings = response.embeddings\n",
    "print(embeddings)"
   ]
  },
  {
   "cell_type": "code",
   "execution_count": null,
   "metadata": {},
   "outputs": [],
   "source": []
  }
 ],
 "metadata": {
  "kernelspec": {
   "display_name": "Python 3 (ipykernel)",
   "language": "python",
   "name": "python3"
  },
  "language_info": {
   "codemirror_mode": {
    "name": "ipython",
    "version": 3
   },
   "file_extension": ".py",
   "mimetype": "text/x-python",
   "name": "python",
   "nbconvert_exporter": "python",
   "pygments_lexer": "ipython3",
   "version": "3.9.12"
  }
 },
 "nbformat": 4,
 "nbformat_minor": 2
}
