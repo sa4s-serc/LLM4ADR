{
 "cells": [
  {
   "cell_type": "code",
   "execution_count": 1,
   "metadata": {},
   "outputs": [
    {
     "name": "stdout",
     "output_type": "stream",
     "text": [
      "## Context We need to decide on which database management system (DBMS) to use for Project X. The database will be used to store and manage large amounts of data from multiple sources. We need a DBMS that can handle transactions, offer scalability, and provide high reliability and security. Among various options available, we are considering MySQL as a possible choice.\n",
      "### Decision Considerations\n",
      "- Ease of use and maintenance\n",
      "- Community support and resources\n",
      "- Performance and scalability\n",
      "- Security and reliability\n",
      "- Cost and licensing\n",
      "- Compatibility with our technology stack\n",
      "### Considered Options\n",
      "- MySQL\n",
      "- PostgreSQL\n",
      "- Oracle\n",
      "- Microsoft SQL Server\n",
      "- MongoDB\n",
      "\n",
      "## Decision\n",
      "\n",
      "After evaluating the above options based on our decision considerations, we have decided to choose MySQL as our DBMS for Project X.\n",
      "\n",
      "MySQL is a popular open-source system with a strong development community and a large pool of resources for problem-solving and knowledge sharing. It is well-known for its excellent performance and scalability capabilities, making it ideal for handling vast amounts of data with high levels of efficiency. The platform is secure, reliable, and has a wide range of features that are essential for our project, including ACID compliance for transactions, flexible data model, and support for various programming languages and frameworks.\n",
      "\n",
      "MySQL is also compatible with the majority of our technology stack, including our web development framework, hosting solutions, and other essential tools. Plus, its cost and licensing terms are competitive compared to other proprietary systems like Oracle and Microsoft SQL Server.\n"
     ]
    }
   ],
   "source": [
    "system_message = \"This is an Architectural Decision Record for a software. Give a ## Decision corresponding to the ## Context provided by the User.\"\n",
    "Context = \"## Context We need to decide on which database management system (DBMS) to use for Project X. The database will be used to store and manage large amounts of data from multiple sources. We need a DBMS that can handle transactions, offer scalability, and provide high reliability and security. Among various options available, we are considering MySQL as a possible choice.\\n### Decision Considerations\\n- Ease of use and maintenance\\n- Community support and resources\\n- Performance and scalability\\n- Security and reliability\\n- Cost and licensing\\n- Compatibility with our technology stack\\n### Considered Options\\n- MySQL\\n- PostgreSQL\\n- Oracle\\n- Microsoft SQL Server\\n- MongoDB\\n\"\n",
    "print(Context)\n",
    "Decision = \"## Decision\\n\\nAfter evaluating the above options based on our decision considerations, we have decided to choose MySQL as our DBMS for Project X.\\n\\nMySQL is a popular open-source system with a strong development community and a large pool of resources for problem-solving and knowledge sharing. It is well-known for its excellent performance and scalability capabilities, making it ideal for handling vast amounts of data with high levels of efficiency. The platform is secure, reliable, and has a wide range of features that are essential for our project, including ACID compliance for transactions, flexible data model, and support for various programming languages and frameworks.\\n\\nMySQL is also compatible with the majority of our technology stack, including our web development framework, hosting solutions, and other essential tools. Plus, its cost and licensing terms are competitive compared to other proprietary systems like Oracle and Microsoft SQL Server.\"\n",
    "print(Decision)"
   ]
  },
  {
   "cell_type": "markdown",
   "metadata": {},
   "source": [
    "### Google"
   ]
  },
  {
   "cell_type": "code",
   "execution_count": 10,
   "metadata": {},
   "outputs": [
    {
     "data": {
      "text/plain": [
       "True"
      ]
     },
     "execution_count": 10,
     "metadata": {},
     "output_type": "execute_result"
    }
   ],
   "source": [
    "from dotenv import load_dotenv\n",
    "path = '/home2/rudra.dhar/codes/SE/ADR/experiments/'\n",
    "load_dotenv(path + '.env')"
   ]
  },
  {
   "cell_type": "code",
   "execution_count": 12,
   "metadata": {},
   "outputs": [
    {
     "name": "stdout",
     "output_type": "stream",
     "text": [
      "## Decision\n",
      "We have decided to use MySQL as the DBMS for Project X.\n",
      "\n",
      "### Rationale\n",
      "After careful evaluation of the considered options, we believe that MySQL is the best fit for our needs. Here are the reasons for our decision:\n",
      "\n",
      "- **Ease of use and maintenance:** MySQL is known for its user-friendly interface and ease of use. It also has a large community of users and developers, which provides ample support and resources.\n",
      "- **Performance and scalability:** MySQL is a high-performance DBMS that can handle large amounts of data and concurrent transactions. It also offers scalability options to meet the growing needs of our application.\n",
      "- **Security and reliability:** MySQL provides robust security features to protect data from unauthorized access and breaches. It also offers high reliability with features such as replication and failover.\n",
      "- **Cost and licensing:** MySQL is a cost-effective option compared to other commercial DBMSs. It is open source and has a flexible licensing model that suits our budget and usage requirements.\n",
      "- **Compatibility with our technology stack:** MySQL is compatible with our existing technology stack, which includes PHP, Python, and Node.js. This ensures seamless integration and reduces development efforts.\n"
     ]
    }
   ],
   "source": [
    "\"\"\"\n",
    "At the command line, only need to run once to install the package via pip:\n",
    "\n",
    "$ pip install google-generativeai\n",
    "\"\"\"\n",
    "import os\n",
    "import google.generativeai as genai\n",
    "google_key = os.getenv('google_key')\n",
    "\n",
    "genai.configure(api_key=google_key)\n",
    "\n",
    "# Set up the model\n",
    "generation_config = {\n",
    "  \"temperature\": 0.5,\n",
    "  \"top_p\": 1,\n",
    "  \"top_k\": 1,\n",
    "  \"max_output_tokens\": 2048,\n",
    "}\n",
    "\n",
    "model = genai.GenerativeModel(model_name=\"gemini-1.0-pro\",\n",
    "                              generation_config=generation_config)\n",
    "\n",
    "convo = model.start_chat(history=[])\n",
    "\n",
    "convo.send_message(system_message+ \"\\n\\n\" +Context)\n",
    "print(convo.last.text)"
   ]
  },
  {
   "cell_type": "markdown",
   "metadata": {},
   "source": [
    "### Anthropic"
   ]
  },
  {
   "cell_type": "code",
   "execution_count": 13,
   "metadata": {},
   "outputs": [
    {
     "name": "stdout",
     "output_type": "stream",
     "text": [
      "## Decision\n",
      "\n",
      "After evaluating the options against our decision considerations, we have decided to use MySQL as the database management system for Project X. The rationale for this decision is as follows:\n",
      "\n",
      "1. Ease of use and maintenance:\n",
      "   - MySQL offers a user-friendly interface and comprehensive documentation, making it easier for developers to work with and maintain the database.\n",
      "   - It has a large and active community, providing extensive resources, tutorials, and forums for support.\n",
      "\n",
      "2. Community support and resources:\n",
      "   - MySQL has a vast and vibrant community, ensuring access to a wide range of resources, including documentation, tutorials, and forums.\n",
      "   - The community actively contributes to the development and improvement of MySQL, providing regular updates and bug fixes.\n",
      "\n",
      "3. Performance and scalability:\n",
      "   - MySQL delivers high performance for read-heavy workloads, which aligns well with our project requirements.\n",
      "   - It offers various scalability options, such as replication and partitioning, allowing us to handle increasing data volumes and user loads.\n",
      "\n",
      "4. Security and reliability:\n",
      "   - MySQL provides robust security features, including user authentication, access control, and data encryption.\n",
      "   - It has a proven track record of reliability and is widely used in enterprise-level applications.\n",
      "\n",
      "5. Cost and licensing:\n",
      "   - MySQL is available under an open-source license, which means no upfront costs for licensing.\n",
      "   - It offers a cost-effective solution compared to proprietary alternatives like Oracle or Microsoft SQL Server.\n",
      "\n",
      "6. Compatibility with our technology stack:\n",
      "   - MySQL integrates well with our existing technology stack, which includes programming languages like PHP, Python, and Java.\n",
      "   - It has extensive driver support and ORM (Object-Relational Mapping) libraries available for seamless integration.\n",
      "\n",
      "While other options like PostgreSQL and MongoDB were considered, MySQL emerged as the most suitable choice based on our specific requirements and considerations. Its combination of ease of use, community support, performance, security, cost-effectiveness, and compatibility makes it the ideal DBMS for Project X.\n",
      "\n",
      "We acknowledge that there may be trade-offs, such as limited support for complex data types compared to PostgreSQL or the lack of native document storage capabilities offered by MongoDB. However, given our primary focus on handling large amounts of structured data and the need for strong transaction support, MySQL aligns best with our current needs.\n",
      "\n",
      "Moving forward, we will proceed with the implementation of MySQL as the DBMS for Project X. We will ensure proper configuration, optimization, and security measures are in place to maximize its potential and meet our project requirements effectively.\n"
     ]
    }
   ],
   "source": [
    "import anthropic\n",
    "\n",
    "anthropic_key = os.getenv('anthropic_key')\n",
    "\n",
    "client = anthropic.Anthropic(\n",
    "    api_key=anthropic_key,\n",
    ")\n",
    "message = client.messages.create(\n",
    "    model=\"claude-3-opus-20240229\",\n",
    "    max_tokens=1000,\n",
    "    temperature=0,\n",
    "    system=system_message,\n",
    "    messages=[\n",
    "        {\n",
    "            \"role\": \"user\",\n",
    "            \"content\": [\n",
    "                {\n",
    "                    \"type\": \"text\",\n",
    "                    \"text\": Context\n",
    "                }\n",
    "            ]\n",
    "        }\n",
    "    ]\n",
    ")\n",
    "print(message.content[0].text)"
   ]
  },
  {
   "cell_type": "markdown",
   "metadata": {},
   "source": [
    "### OpenAi"
   ]
  },
  {
   "cell_type": "code",
   "execution_count": 3,
   "metadata": {},
   "outputs": [
    {
     "ename": "NameError",
     "evalue": "name 'os' is not defined",
     "output_type": "error",
     "traceback": [
      "\u001b[1;31m---------------------------------------------------------------------------\u001b[0m",
      "\u001b[1;31mNameError\u001b[0m                                 Traceback (most recent call last)",
      "Input \u001b[1;32mIn [3]\u001b[0m, in \u001b[0;36m<cell line: 4>\u001b[1;34m()\u001b[0m\n\u001b[0;32m      2\u001b[0m \u001b[38;5;28;01mfrom\u001b[39;00m \u001b[38;5;21;01mdotenv\u001b[39;00m \u001b[38;5;28;01mimport\u001b[39;00m load_dotenv\n\u001b[0;32m      3\u001b[0m path \u001b[38;5;241m=\u001b[39m \u001b[38;5;124m'\u001b[39m\u001b[38;5;124mD:\u001b[39m\u001b[38;5;124m\\\u001b[39m\u001b[38;5;124mIIIT\u001b[39m\u001b[38;5;124m\\\u001b[39m\u001b[38;5;124mLAB_SE\u001b[39m\u001b[38;5;124m\\\u001b[39m\u001b[38;5;124mADR\u001b[39m\u001b[38;5;124m\\\u001b[39m\u001b[38;5;124mLLM4ADR\u001b[39m\u001b[38;5;124m\\\u001b[39m\u001b[38;5;124mRD_experiments\u001b[39m\u001b[38;5;124m'\u001b[39m\n\u001b[1;32m----> 4\u001b[0m load_dotenv(\u001b[43mos\u001b[49m\u001b[38;5;241m.\u001b[39mpath\u001b[38;5;241m.\u001b[39mjoin(path, \u001b[38;5;124m'\u001b[39m\u001b[38;5;124m.env\u001b[39m\u001b[38;5;124m'\u001b[39m))\n\u001b[0;32m      6\u001b[0m openai_key \u001b[38;5;241m=\u001b[39m os\u001b[38;5;241m.\u001b[39mgetenv(\u001b[38;5;124m'\u001b[39m\u001b[38;5;124mopenai_key_karthik\u001b[39m\u001b[38;5;124m'\u001b[39m)\n\u001b[0;32m      8\u001b[0m client \u001b[38;5;241m=\u001b[39m OpenAI(api_key \u001b[38;5;241m=\u001b[39m openai_key)\n",
      "\u001b[1;31mNameError\u001b[0m: name 'os' is not defined"
     ]
    }
   ],
   "source": [
    "import os\n",
    "from openai import OpenAI\n",
    "from dotenv import load_dotenv\n",
    "path = 'D:\\IIIT\\LAB_SE\\ADR\\LLM4ADR\\RD_experiments'\n",
    "load_dotenv(os.path.join(path, '.env'))\n",
    "\n",
    "openai_key = os.getenv('openai_key_karthik')\n",
    "\n",
    "client = OpenAI(api_key = openai_key)\n",
    "\n",
    "response = client.chat.completions.create(\n",
    "  model=\"gpt-4-turbo-preview\",\n",
    "  messages=[\n",
    "    {\n",
    "      \"role\": \"system\",\n",
    "      \"content\": system_message\n",
    "    },\n",
    "    {\n",
    "      \"role\": \"user\",\n",
    "      \"content\": Context\n",
    "    }\n",
    "  ],\n",
    "  temperature=1,\n",
    "  max_tokens=256,\n",
    "  top_p=1,\n",
    "  frequency_penalty=0,\n",
    "  presence_penalty=0\n",
    ")\n",
    "\n",
    "print(response.choices[0].message.content)"
   ]
  },
  {
   "cell_type": "markdown",
   "metadata": {},
   "source": [
    "### Cohere"
   ]
  },
  {
   "cell_type": "code",
   "execution_count": 21,
   "metadata": {},
   "outputs": [
    {
     "name": "stdout",
     "output_type": "stream",
     "text": [
      "## Decision\n",
      "After evaluating the options based on the decision considerations, we have decided to go with PostgreSQL as our DBMS for Project X. PostgreSQL is a widely used, open-source relational DBMS with robust community support and resources. It offers high performance, scalability, security, and ease of use, making it suitable for handling large amounts of data from multiple sources. While it may not be as fast as some other options, it excels in ACID compliance and provides strong data security, which are crucial for our project requirements.\n"
     ]
    }
   ],
   "source": [
    "import cohere\n",
    "import os\n",
    "from dotenv import load_dotenv\n",
    "path = 'D:\\IIIT\\LAB_SE\\ADR\\LLM4ADR\\RD_experiments'\n",
    "load_dotenv(os.path.join(path, '.env'))\n",
    "cohere_key = os.getenv('cohere_key')\n",
    "\n",
    "co = cohere.Client(\n",
    "    api_key=cohere_key, # This is your trial API key\n",
    ") \n",
    "\n",
    "stream = co.chat_stream( \n",
    "    model='command-r-plus',\n",
    "    message=system_message+Context,\n",
    "    temperature=0.3,\n",
    "    chat_history=[],\n",
    "    prompt_truncation='AUTO',\n",
    "    connectors=[{\"id\":\"web-search\"}]\n",
    ") \n",
    "\n",
    "response_text = ''\n",
    "for event in stream:\n",
    "    if event.event_type == \"text-generation\":\n",
    "        response_text += event.text\n",
    "\n",
    "print(response_text)"
   ]
  },
  {
   "cell_type": "code",
   "execution_count": 24,
   "metadata": {},
   "outputs": [
    {
     "name": "stdout",
     "output_type": "stream",
     "text": [
      "1024\n"
     ]
    }
   ],
   "source": [
    "import cohere\n",
    "co = cohere.Client(cohere_key) # This is your trial API key\n",
    "\n",
    "response = co.embed(\n",
    "  model='embed-english-v3.0',\n",
    "  texts=[Context],\n",
    "  input_type='classification',\n",
    "  truncate='NONE'\n",
    ")\n",
    "embeddings = response.embeddings\n",
    "print(len(embeddings[0]))"
   ]
  },
  {
   "cell_type": "code",
   "execution_count": null,
   "metadata": {},
   "outputs": [],
   "source": []
  }
 ],
 "metadata": {
  "kernelspec": {
   "display_name": "Python 3 (ipykernel)",
   "language": "python",
   "name": "python3"
  },
  "language_info": {
   "codemirror_mode": {
    "name": "ipython",
    "version": 3
   },
   "file_extension": ".py",
   "mimetype": "text/x-python",
   "name": "python",
   "nbconvert_exporter": "python",
   "pygments_lexer": "ipython3",
   "version": "3.9.12"
  }
 },
 "nbformat": 4,
 "nbformat_minor": 2
}
