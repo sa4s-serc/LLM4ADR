{
 "cells": [
  {
   "cell_type": "code",
   "execution_count": 15,
   "metadata": {},
   "outputs": [
    {
     "name": "stdout",
     "output_type": "stream",
     "text": [
      "## Context We need to decide on which database management system (DBMS) to use for Project X. The database will be used to store and manage large amounts of data from multiple sources. We need a DBMS that can handle transactions, offer scalability, and provide high reliability and security. Among various options available, we are considering MySQL as a possible choice.\n",
      "### Decision Considerations\n",
      "- Ease of use and maintenance\n",
      "- Community support and resources\n",
      "- Performance and scalability\n",
      "- Security and reliability\n",
      "- Cost and licensing\n",
      "- Compatibility with our technology stack\n",
      "### Considered Options\n",
      "- MySQL\n",
      "- PostgreSQL\n",
      "- Oracle\n",
      "- Microsoft SQL Server\n",
      "- MongoDB\n",
      "\n",
      "## Decision\n",
      "\n",
      "After evaluating the above options based on our decision considerations, we have decided to choose MySQL as our DBMS for Project X.\n",
      "\n",
      "MySQL is a popular open-source system with a strong development community and a large pool of resources for problem-solving and knowledge sharing. It is well-known for its excellent performance and scalability capabilities, making it ideal for handling vast amounts of data with high levels of efficiency. The platform is secure, reliable, and has a wide range of features that are essential for our project, including ACID compliance for transactions, flexible data model, and support for various programming languages and frameworks.\n",
      "\n",
      "MySQL is also compatible with the majority of our technology stack, including our web development framework, hosting solutions, and other essential tools. Plus, its cost and licensing terms are competitive compared to other proprietary systems like Oracle and Microsoft SQL Server.\n"
     ]
    }
   ],
   "source": [
    "system_message = \"This is an Architectural Decision Record for a software. Give a ## Decision corresponding to the ## Context provided by the User.\"\n",
    "Context = \"## Context We need to decide on which database management system (DBMS) to use for Project X. The database will be used to store and manage large amounts of data from multiple sources. We need a DBMS that can handle transactions, offer scalability, and provide high reliability and security. Among various options available, we are considering MySQL as a possible choice.\\n### Decision Considerations\\n- Ease of use and maintenance\\n- Community support and resources\\n- Performance and scalability\\n- Security and reliability\\n- Cost and licensing\\n- Compatibility with our technology stack\\n### Considered Options\\n- MySQL\\n- PostgreSQL\\n- Oracle\\n- Microsoft SQL Server\\n- MongoDB\\n\"\n",
    "print(Context)\n",
    "Decision = \"## Decision\\n\\nAfter evaluating the above options based on our decision considerations, we have decided to choose MySQL as our DBMS for Project X.\\n\\nMySQL is a popular open-source system with a strong development community and a large pool of resources for problem-solving and knowledge sharing. It is well-known for its excellent performance and scalability capabilities, making it ideal for handling vast amounts of data with high levels of efficiency. The platform is secure, reliable, and has a wide range of features that are essential for our project, including ACID compliance for transactions, flexible data model, and support for various programming languages and frameworks.\\n\\nMySQL is also compatible with the majority of our technology stack, including our web development framework, hosting solutions, and other essential tools. Plus, its cost and licensing terms are competitive compared to other proprietary systems like Oracle and Microsoft SQL Server.\"\n",
    "print(Decision)"
   ]
  },
  {
   "cell_type": "code",
   "execution_count": 10,
   "metadata": {},
   "outputs": [
    {
     "data": {
      "text/plain": [
       "True"
      ]
     },
     "execution_count": 10,
     "metadata": {},
     "output_type": "execute_result"
    }
   ],
   "source": [
    "from dotenv import load_dotenv\n",
    "path = '/home2/rudra.dhar/codes/SE/ADR/experiments/'\n",
    "load_dotenv(path + '.env')"
   ]
  },
  {
   "cell_type": "code",
   "execution_count": 12,
   "metadata": {},
   "outputs": [
    {
     "name": "stdout",
     "output_type": "stream",
     "text": [
      "## Decision\n",
      "We have decided to use MySQL as the DBMS for Project X.\n",
      "\n",
      "### Rationale\n",
      "After careful evaluation of the considered options, we believe that MySQL is the best fit for our needs. Here are the reasons for our decision:\n",
      "\n",
      "- **Ease of use and maintenance:** MySQL is known for its user-friendly interface and ease of use. It also has a large community of users and developers, which provides ample support and resources.\n",
      "- **Performance and scalability:** MySQL is a high-performance DBMS that can handle large amounts of data and concurrent transactions. It also offers scalability options to meet the growing needs of our application.\n",
      "- **Security and reliability:** MySQL provides robust security features to protect data from unauthorized access and breaches. It also offers high reliability with features such as replication and failover.\n",
      "- **Cost and licensing:** MySQL is a cost-effective option compared to other commercial DBMSs. It is open source and has a flexible licensing model that suits our budget and usage requirements.\n",
      "- **Compatibility with our technology stack:** MySQL is compatible with our existing technology stack, which includes PHP, Python, and Node.js. This ensures seamless integration and reduces development efforts.\n"
     ]
    }
   ],
   "source": [
    "\"\"\"\n",
    "At the command line, only need to run once to install the package via pip:\n",
    "\n",
    "$ pip install google-generativeai\n",
    "\"\"\"\n",
    "import os\n",
    "import google.generativeai as genai\n",
    "google_key = os.getenv('google_key')\n",
    "\n",
    "genai.configure(api_key=google_key)\n",
    "\n",
    "# Set up the model\n",
    "generation_config = {\n",
    "  \"temperature\": 0.5,\n",
    "  \"top_p\": 1,\n",
    "  \"top_k\": 1,\n",
    "  \"max_output_tokens\": 2048,\n",
    "}\n",
    "\n",
    "model = genai.GenerativeModel(model_name=\"gemini-1.0-pro\",\n",
    "                              generation_config=generation_config)\n",
    "\n",
    "convo = model.start_chat(history=[])\n",
    "\n",
    "convo.send_message(system_message+ \"\\n\\n\" +Context)\n",
    "print(convo.last.text)"
   ]
  },
  {
   "cell_type": "code",
   "execution_count": 13,
   "metadata": {},
   "outputs": [
    {
     "name": "stdout",
     "output_type": "stream",
     "text": [
      "## Decision\n",
      "\n",
      "After evaluating the options against our decision considerations, we have decided to use MySQL as the database management system for Project X. The rationale for this decision is as follows:\n",
      "\n",
      "1. Ease of use and maintenance:\n",
      "   - MySQL offers a user-friendly interface and comprehensive documentation, making it easier for developers to work with and maintain the database.\n",
      "   - It has a large and active community, providing extensive resources, tutorials, and forums for support.\n",
      "\n",
      "2. Community support and resources:\n",
      "   - MySQL has a vast and vibrant community, ensuring access to a wide range of resources, including documentation, tutorials, and forums.\n",
      "   - The community actively contributes to the development and improvement of MySQL, providing regular updates and bug fixes.\n",
      "\n",
      "3. Performance and scalability:\n",
      "   - MySQL delivers high performance for read-heavy workloads, which aligns well with our project requirements.\n",
      "   - It offers various scalability options, such as replication and partitioning, allowing us to handle increasing data volumes and user loads.\n",
      "\n",
      "4. Security and reliability:\n",
      "   - MySQL provides robust security features, including user authentication, access control, and data encryption.\n",
      "   - It has a proven track record of reliability and is widely used in enterprise-level applications.\n",
      "\n",
      "5. Cost and licensing:\n",
      "   - MySQL is available under an open-source license, which means no upfront costs for licensing.\n",
      "   - It offers a cost-effective solution compared to proprietary alternatives like Oracle or Microsoft SQL Server.\n",
      "\n",
      "6. Compatibility with our technology stack:\n",
      "   - MySQL integrates well with our existing technology stack, which includes programming languages like PHP, Python, and Java.\n",
      "   - It has extensive driver support and ORM (Object-Relational Mapping) libraries available for seamless integration.\n",
      "\n",
      "While other options like PostgreSQL and MongoDB were considered, MySQL emerged as the most suitable choice based on our specific requirements and considerations. Its combination of ease of use, community support, performance, security, cost-effectiveness, and compatibility makes it the ideal DBMS for Project X.\n",
      "\n",
      "We acknowledge that there may be trade-offs, such as limited support for complex data types compared to PostgreSQL or the lack of native document storage capabilities offered by MongoDB. However, given our primary focus on handling large amounts of structured data and the need for strong transaction support, MySQL aligns best with our current needs.\n",
      "\n",
      "Moving forward, we will proceed with the implementation of MySQL as the DBMS for Project X. We will ensure proper configuration, optimization, and security measures are in place to maximize its potential and meet our project requirements effectively.\n"
     ]
    }
   ],
   "source": [
    "import anthropic\n",
    "\n",
    "anthropic_key = os.getenv('anthropic_key')\n",
    "\n",
    "client = anthropic.Anthropic(\n",
    "    api_key=anthropic_key,\n",
    ")\n",
    "message = client.messages.create(\n",
    "    model=\"claude-3-opus-20240229\",\n",
    "    max_tokens=1000,\n",
    "    temperature=0,\n",
    "    system=system_message,\n",
    "    messages=[\n",
    "        {\n",
    "            \"role\": \"user\",\n",
    "            \"content\": [\n",
    "                {\n",
    "                    \"type\": \"text\",\n",
    "                    \"text\": Context\n",
    "                }\n",
    "            ]\n",
    "        }\n",
    "    ]\n",
    ")\n",
    "print(message.content[0].text)"
   ]
  },
  {
   "cell_type": "code",
   "execution_count": 14,
   "metadata": {},
   "outputs": [
    {
     "name": "stdout",
     "output_type": "stream",
     "text": [
      "## Decision\n",
      "\n",
      "After a comprehensive evaluation of the considered options, we have decided to adopt PostgreSQL as the primary DBMS for Project X. This decision was reached by weighing the decision considerations against each DBM's capabilities. PostgreSQL stands out as the most suitable choice for the following reasons:\n",
      "\n",
      "### Reasons for PostgreSQL\n",
      "\n",
      "- **Performance and scalability:** PostgreSQL provides robust performance improvements over MySQL, especially when dealing with complex queries and large datasets. It also offers significant scalability, both vertically and horizontally, which is crucial for Project X as it evolves.\n",
      "\n",
      "- **Security and reliability:** PostgreSQL has a strong reputation for its data integrity and security features. It offers a comprehensive set of security measures including robust access controls, SSL, and column-level encryption, making it highly reliable for sensitive and critical data management.\n",
      "\n",
      "- **Ease of use and maintenance:** With an active community and extensive documentation, PostgreSQL is user-friendly. Its management and maintenance are simplified by numerous powerful and flexible tools, which align well with our team's expertise and ease the learning curve.\n",
      "\n",
      "- **Community support and resources:** PostgreSQL enjoys one of the most active and vibrant communities among open-source databases. This community provides a wealth of plugins, extensions, and tools, which can be beneficial for custom needs and support.\n",
      "\n",
      "- **Cost and licensing:** PostgreSQL\n"
     ]
    }
   ],
   "source": [
    "from openai import OpenAI\n",
    "\n",
    "openai_key = os.getenv('openai_key')\n",
    "\n",
    "client = OpenAI(api_key = openai_key)\n",
    "\n",
    "response = client.chat.completions.create(\n",
    "  model=\"gpt-4-turbo-preview\",\n",
    "  messages=[\n",
    "    {\n",
    "      \"role\": \"system\",\n",
    "      \"content\": system_message\n",
    "    },\n",
    "    {\n",
    "      \"role\": \"user\",\n",
    "      \"content\": Context\n",
    "    }\n",
    "  ],\n",
    "  temperature=1,\n",
    "  max_tokens=256,\n",
    "  top_p=1,\n",
    "  frequency_penalty=0,\n",
    "  presence_penalty=0\n",
    ")\n",
    "\n",
    "print(response.choices[0].message.content)"
   ]
  },
  {
   "cell_type": "code",
   "execution_count": null,
   "metadata": {},
   "outputs": [],
   "source": []
  }
 ],
 "metadata": {
  "kernelspec": {
   "display_name": "Python 3 (ipykernel)",
   "language": "python",
   "name": "python3"
  },
  "language_info": {
   "codemirror_mode": {
    "name": "ipython",
    "version": 3
   },
   "file_extension": ".py",
   "mimetype": "text/x-python",
   "name": "python",
   "nbconvert_exporter": "python",
   "pygments_lexer": "ipython3",
   "version": "3.10.8"
  }
 },
 "nbformat": 4,
 "nbformat_minor": 2
}
