{
 "cells": [
  {
   "cell_type": "code",
   "execution_count": 4,
   "metadata": {},
   "outputs": [],
   "source": [
    "import pandas as pd"
   ]
  },
  {
   "cell_type": "code",
   "execution_count": 5,
   "metadata": {},
   "outputs": [],
   "source": [
    "def analyse_approach(appr_num):\n",
    "    df = pd.read_json(f'approach_{appr_num}_tokens.json', lines=True)\n",
    "    inp_tokens = df['input_tokens'].mean()\n",
    "    out_tokens = df['output_tokens'].mean()\n",
    "    time = df['time'].mean()\n",
    "    return inp_tokens, out_tokens, time"
   ]
  },
  {
   "cell_type": "code",
   "execution_count": 6,
   "metadata": {},
   "outputs": [],
   "source": [
    "appr = {\n",
    "    'input_tokens': [],\n",
    "    'output_tokens': [],\n",
    "    'time': []\n",
    "}\n",
    "\n",
    "for i in range(1, 6):\n",
    "    inp, out, time = analyse_approach(i)\n",
    "    appr['input_tokens'].append(inp)\n",
    "    appr['output_tokens'].append(out)\n",
    "    appr['time'].append(time)\n",
    "\n",
    "appr = {\n",
    "    \"approach\": ['Zero-shot', 'Few-shot RAG', 'Fine-tuned', 'DRAFT FlanT5', 'DRAFT LAMA'],\n",
    "    **appr\n",
    "}\n",
    "\n",
    "df = pd.DataFrame(appr)\n",
    "df.to_csv('approach_analysis.csv', index=False)"
   ]
  }
 ],
 "metadata": {
  "kernelspec": {
   "display_name": "llm4adr",
   "language": "python",
   "name": "python3"
  },
  "language_info": {
   "codemirror_mode": {
    "name": "ipython",
    "version": 3
   },
   "file_extension": ".py",
   "mimetype": "text/x-python",
   "name": "python",
   "nbconvert_exporter": "python",
   "pygments_lexer": "ipython3",
   "version": "3.12.3"
  }
 },
 "nbformat": 4,
 "nbformat_minor": 2
}
