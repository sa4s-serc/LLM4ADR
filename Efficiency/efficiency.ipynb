{
 "cells": [
  {
   "cell_type": "code",
   "execution_count": 47,
   "metadata": {},
   "outputs": [],
   "source": [
    "import pandas as pd\n",
    "import tiktoken\n",
    "\n",
    "encoding = tiktoken.get_encoding(\"cl100k_base\")\n",
    "\n",
    "def token_count(file, prediction_column_name = 'Predictions'):\n",
    "    df = pd.read_json(file, lines=True)\n",
    "    df['Prediction_token'] = df[prediction_column_name].apply(lambda x: len(encoding.encode(str(x))))\n",
    "    average_tokens = df['Prediction_token'].mean()\n",
    "    return average_tokens\n"
   ]
  },
  {
   "cell_type": "code",
   "execution_count": null,
   "metadata": {},
   "outputs": [
    {
     "name": "stdout",
     "output_type": "stream",
     "text": [
      "Flan-T5  757.9440488301119\n",
      "Llama  385.0986775178026\n",
      "Gemma  575.207527975585\n",
      "gpt  307.9237029501526\n",
      "gemini  247.50966429298066\n"
     ]
    }
   ],
   "source": [
    "prediction_column_name = 'Prediction'\n",
    "\n",
    "# 0-shot Flan-t5-base\n",
    "file = '../0_shot/results/flan-t5-base_test.jsonl'\n",
    "print('Flan-T5 ', token_count(file, prediction_column_name))\n",
    "\n",
    "# 0-shot Llama\n",
    "file = '../0_shot/results/llama_test.jsonl'\n",
    "print('Llama ', token_count(file, prediction_column_name))\n",
    "\n",
    "# 0-shot Gemma\n",
    "file = '../0_shot/results/gemma_test.jsonl'\n",
    "print('Gemma ', token_count(file, prediction_column_name))\n",
    "\n",
    "# 0-shot gpt-4o\n",
    "file = '../0_shot/results/gpt-4o_test.jsonl'\n",
    "print('gpt ', token_count(file, prediction_column_name))\n",
    "\n",
    "# 0-shot gemini-1.5-pro\n",
    "file = '../0_shot/results/gemini-1.5-pro_test.jsonl'\n",
    "print('gemini ', token_count(file, prediction_column_name))"
   ]
  },
  {
   "cell_type": "code",
   "execution_count": 34,
   "metadata": {},
   "outputs": [
    {
     "name": "stdout",
     "output_type": "stream",
     "text": [
      "Flan-T5  94.05391658189217\n",
      "Llama  511.85859613428283\n",
      "Gemma  156.69481180061038\n"
     ]
    }
   ],
   "source": [
    "prediction_column_name = 'Predictions'\n",
    "\n",
    "# Fine-tuned Flan-t5-base\n",
    "file = '../Finetuning/results/flan-t5-base.jsonl'\n",
    "print('Flan-T5 ', token_count(file, prediction_column_name))\n",
    "\n",
    "# Fine-tuned Llama\n",
    "file = '../Finetuning/results/Meta-Llama-3-8B-Instruct.jsonl'\n",
    "print('Llama ', token_count(file, prediction_column_name))\n",
    "\n",
    "# Fine-tuned Gemma\n",
    "file = '../Finetuning/results/gemma-without-system.jsonl'\n",
    "print('Gemma ', token_count(file, prediction_column_name))"
   ]
  },
  {
   "cell_type": "code",
   "execution_count": 45,
   "metadata": {},
   "outputs": [
    {
     "name": "stdout",
     "output_type": "stream",
     "text": [
      "Flan-T5  383.4201424211597\n",
      "Llama  925.5717192268565\n",
      "Gemma  710.8240081383519\n",
      "gpt  237.56459816887082\n",
      "gemini  250.48626653102747\n"
     ]
    }
   ],
   "source": [
    "prediction_column_name = 'Predicted'\n",
    "\n",
    "# RAG Flan-t5-base\n",
    "file = '../RAG/results/flan-t5-base-5.jsonl'\n",
    "print('Flan-T5 ', token_count(file, prediction_column_name))\n",
    "\n",
    "# RAG Llama\n",
    "file = '../RAG/results/Meta-Llama-3-8B-Instruct-5.jsonl'\n",
    "print('Llama ', token_count(file, prediction_column_name))\n",
    "\n",
    "# RAG Gemma\n",
    "file = '../RAG/results/gemma-2-9b-it-5.jsonl'\n",
    "print('Gemma ', token_count(file, prediction_column_name))\n",
    "\n",
    "# RAG gpt-4o\n",
    "file = '../RAG/results/gpt-4o.jsonl'\n",
    "print('gpt ', token_count(file, prediction_column_name))\n",
    "\n",
    "# RAG gemini-1.5-pro\n",
    "file = '../RAG/results/gemini-1.5-pro.jsonl'\n",
    "print('gemini ', token_count(file, 'Prediction'))"
   ]
  },
  {
   "cell_type": "code",
   "execution_count": null,
   "metadata": {},
   "outputs": [
    {
     "name": "stdout",
     "output_type": "stream",
     "text": [
      "Flan-T5  386.32248219735504\n",
      "Llama  87.58392675483215\n",
      "Gemma  122.37131230925738\n"
     ]
    }
   ],
   "source": [
    "# Approach Flan-t5-base\n",
    "file = '../Approach/results/flan-t5-base-920.jsonl'\n",
    "print('Flan-T5 ', token_count(file))\n",
    "\n",
    "# Approach Llama\n",
    "file = '../Approach/results/autotrain-llama-5.jsonl'\n",
    "print('Llama ', token_count(file))\n",
    "\n",
    "# Approach Gemma\n",
    "file = '../Approach/results/autotrain-gemma-1.jsonl'\n",
    "print('Gemma ', token_count(file))"
   ]
  },
  {
   "cell_type": "code",
   "execution_count": 46,
   "metadata": {},
   "outputs": [
    {
     "data": {
      "text/html": [
       "<div>\n",
       "<style scoped>\n",
       "    .dataframe tbody tr th:only-of-type {\n",
       "        vertical-align: middle;\n",
       "    }\n",
       "\n",
       "    .dataframe tbody tr th {\n",
       "        vertical-align: top;\n",
       "    }\n",
       "\n",
       "    .dataframe thead th {\n",
       "        text-align: right;\n",
       "    }\n",
       "</style>\n",
       "<table border=\"1\" class=\"dataframe\">\n",
       "  <thead>\n",
       "    <tr style=\"text-align: right;\">\n",
       "      <th></th>\n",
       "      <th>File Name</th>\n",
       "      <th>Context</th>\n",
       "      <th>Decision</th>\n",
       "      <th>tokens</th>\n",
       "      <th>id</th>\n",
       "      <th>text</th>\n",
       "      <th>Predictions</th>\n",
       "    </tr>\n",
       "  </thead>\n",
       "  <tbody>\n",
       "    <tr>\n",
       "      <th>0</th>\n",
       "      <td>libelektra/ingroup_removal.md</td>\n",
       "      <td>## Problem\\nCurrently, an error or warning mes...</td>\n",
       "      <td>The `ingroup` message will be removed as it do...</td>\n",
       "      <td>83</td>\n",
       "      <td>1308</td>\n",
       "      <td>## Problem\\nCurrently, an error or warning mes...</td>\n",
       "      <td>## ContextnWhen HapiJS plugins are registered ...</td>\n",
       "    </tr>\n",
       "    <tr>\n",
       "      <th>1</th>\n",
       "      <td>knot-documentation/ARC-003-amqp-exc-name.md</td>\n",
       "      <td>## Context\\nAs defined by CloudAMQP Blog, \"exc...</td>\n",
       "      <td>* The communication between two components wil...</td>\n",
       "      <td>131</td>\n",
       "      <td>3339</td>\n",
       "      <td>## Context\\nAs defined by CloudAMQP Blog, \"exc...</td>\n",
       "      <td>## Context and Problem StatementnTo implement ...</td>\n",
       "    </tr>\n",
       "    <tr>\n",
       "      <th>2</th>\n",
       "      <td>decodeweb/0003-store-configuration-into-local-...</td>\n",
       "      <td>## Context\\nTo provide the required functional...</td>\n",
       "      <td>We will store the user's configuration into lo...</td>\n",
       "      <td>52</td>\n",
       "      <td>2221</td>\n",
       "      <td>## Context\\nTo provide the required functional...</td>\n",
       "      <td>## ContextnIn order to interact with a remote ...</td>\n",
       "    </tr>\n",
       "    <tr>\n",
       "      <th>3</th>\n",
       "      <td>holochain-rust/0006-splitting-agent-into-front...</td>\n",
       "      <td>## Context\\nFor Holo, we need to have user age...</td>\n",
       "      <td>We decide to **not** emulate a single agency (...</td>\n",
       "      <td>423</td>\n",
       "      <td>1500</td>\n",
       "      <td>## Context\\nFor Holo, we need to have user age...</td>\n",
       "      <td># ContextnThe way the Government Digital Servi...</td>\n",
       "    </tr>\n",
       "    <tr>\n",
       "      <th>4</th>\n",
       "      <td>raster-foundry/adr-0006-workflow-manager.md</td>\n",
       "      <td>## Context\\nThis ADR has been superseded by `A...</td>\n",
       "      <td>Raster Foundry will use Airflow as a task mana...</td>\n",
       "      <td>353</td>\n",
       "      <td>1688</td>\n",
       "      <td>## Context\\nThis ADR has been superseded by `A...</td>\n",
       "      <td>## ContextnI wanted to create a website blog u...</td>\n",
       "    </tr>\n",
       "  </tbody>\n",
       "</table>\n",
       "</div>"
      ],
      "text/plain": [
       "                                           File Name  \\\n",
       "0                      libelektra/ingroup_removal.md   \n",
       "1        knot-documentation/ARC-003-amqp-exc-name.md   \n",
       "2  decodeweb/0003-store-configuration-into-local-...   \n",
       "3  holochain-rust/0006-splitting-agent-into-front...   \n",
       "4        raster-foundry/adr-0006-workflow-manager.md   \n",
       "\n",
       "                                             Context  \\\n",
       "0  ## Problem\\nCurrently, an error or warning mes...   \n",
       "1  ## Context\\nAs defined by CloudAMQP Blog, \"exc...   \n",
       "2  ## Context\\nTo provide the required functional...   \n",
       "3  ## Context\\nFor Holo, we need to have user age...   \n",
       "4  ## Context\\nThis ADR has been superseded by `A...   \n",
       "\n",
       "                                            Decision  tokens    id  \\\n",
       "0  The `ingroup` message will be removed as it do...      83  1308   \n",
       "1  * The communication between two components wil...     131  3339   \n",
       "2  We will store the user's configuration into lo...      52  2221   \n",
       "3  We decide to **not** emulate a single agency (...     423  1500   \n",
       "4  Raster Foundry will use Airflow as a task mana...     353  1688   \n",
       "\n",
       "                                                text  \\\n",
       "0  ## Problem\\nCurrently, an error or warning mes...   \n",
       "1  ## Context\\nAs defined by CloudAMQP Blog, \"exc...   \n",
       "2  ## Context\\nTo provide the required functional...   \n",
       "3  ## Context\\nFor Holo, we need to have user age...   \n",
       "4  ## Context\\nThis ADR has been superseded by `A...   \n",
       "\n",
       "                                         Predictions  \n",
       "0  ## ContextnWhen HapiJS plugins are registered ...  \n",
       "1  ## Context and Problem StatementnTo implement ...  \n",
       "2  ## ContextnIn order to interact with a remote ...  \n",
       "3  # ContextnThe way the Government Digital Servi...  \n",
       "4  ## ContextnI wanted to create a website blog u...  "
      ]
     },
     "execution_count": 46,
     "metadata": {},
     "output_type": "execute_result"
    }
   ],
   "source": [
    "# Rag Flan-t5-base\n",
    "file = '../Approach/results/flan-t5-base-920.jsonl'\n",
    "df = pd.read_json(file, lines=True)\n",
    "df.head()"
   ]
  },
  {
   "cell_type": "code",
   "execution_count": null,
   "metadata": {},
   "outputs": [],
   "source": []
  }
 ],
 "metadata": {
  "kernelspec": {
   "display_name": "Python 3",
   "language": "python",
   "name": "python3"
  },
  "language_info": {
   "codemirror_mode": {
    "name": "ipython",
    "version": 3
   },
   "file_extension": ".py",
   "mimetype": "text/x-python",
   "name": "python",
   "nbconvert_exporter": "python",
   "pygments_lexer": "ipython3",
   "version": "3.9.13"
  }
 },
 "nbformat": 4,
 "nbformat_minor": 2
}
