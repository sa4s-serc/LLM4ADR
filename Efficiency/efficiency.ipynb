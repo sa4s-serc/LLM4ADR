{
 "cells": [
  {
   "cell_type": "code",
   "execution_count": 2,
   "metadata": {},
   "outputs": [],
   "source": [
    "import pandas as pd\n",
    "import tiktoken\n",
    "\n",
    "encoding = tiktoken.get_encoding(\"cl100k_base\")\n",
    "\n",
    "def token_count(file, prediction_column_name = 'Predictions'):\n",
    "    df = pd.read_json(file, lines=True)\n",
    "    df['Prediction_token'] = df[prediction_column_name].apply(lambda x: len(encoding.encode(str(x))))\n",
    "    average_tokens = df['Prediction_token'].mean()\n",
    "    return average_tokens\n"
   ]
  },
  {
   "cell_type": "code",
   "execution_count": null,
   "metadata": {},
   "outputs": [
    {
     "name": "stdout",
     "output_type": "stream",
     "text": [
      "Flan-T5  757.9440488301119\n",
      "Llama  385.0986775178026\n",
      "Gemma  575.207527975585\n",
      "gpt  307.9237029501526\n",
      "gemini  247.50966429298066\n"
     ]
    }
   ],
   "source": [
    "prediction_column_name = 'Prediction'\n",
    "\n",
    "# 0-shot Flan-t5-base\n",
    "file = '../0_shot/results/flan-t5-base_test.jsonl'\n",
    "print('Flan-T5 ', token_count(file, prediction_column_name))\n",
    "\n",
    "# 0-shot Llama\n",
    "file = '../0_shot/results/llama_test.jsonl'\n",
    "print('Llama ', token_count(file, prediction_column_name))\n",
    "\n",
    "# 0-shot Gemma\n",
    "file = '../0_shot/results/gemma_test.jsonl'\n",
    "print('Gemma ', token_count(file, prediction_column_name))\n",
    "\n",
    "# 0-shot gpt-4o\n",
    "file = '../0_shot/results/gpt-4o_test.jsonl'\n",
    "print('gpt ', token_count(file, prediction_column_name))\n",
    "\n",
    "# 0-shot gemini-1.5-pro\n",
    "file = '../0_shot/results/gemini-1.5-pro_test.jsonl'\n",
    "print('gemini ', token_count(file, prediction_column_name))"
   ]
  },
  {
   "cell_type": "code",
   "execution_count": 53,
   "metadata": {},
   "outputs": [
    {
     "name": "stdout",
     "output_type": "stream",
     "text": [
      "Flan-T5  94.05391658189217\n",
      "Flan-T5 Lora  114.31129196337741\n",
      "Llama  511.85859613428283\n",
      "Gemma  156.69481180061038\n"
     ]
    }
   ],
   "source": [
    "# Fine-tuned Flan-t5-base\n",
    "file = '../Finetuning/results/flan-t5-base.jsonl'\n",
    "print('Flan-T5 ', token_count(file))\n",
    "\n",
    "# Fine-tuned Flan-t5-base Lora\n",
    "file = '../Finetuning/results/lora-Flan-t5-base.jsonl'\n",
    "print('Flan-T5 Lora ', token_count(file))\n",
    "\n",
    "# Fine-tuned Llama\n",
    "file = '../Finetuning/results/Meta-Llama-3-8B-Instruct.jsonl'\n",
    "print('Llama ', token_count(file))\n",
    "\n",
    "# Fine-tuned Gemma\n",
    "file = '../Finetuning/results/gemma-without-system.jsonl'\n",
    "print('Gemma ', token_count(file))"
   ]
  },
  {
   "cell_type": "code",
   "execution_count": 45,
   "metadata": {},
   "outputs": [
    {
     "name": "stdout",
     "output_type": "stream",
     "text": [
      "Flan-T5  383.4201424211597\n",
      "Llama  925.5717192268565\n",
      "Gemma  710.8240081383519\n",
      "gpt  237.56459816887082\n",
      "gemini  250.48626653102747\n"
     ]
    }
   ],
   "source": [
    "prediction_column_name = 'Predicted'\n",
    "\n",
    "# RAG Flan-t5-base\n",
    "file = '../RAG/results/flan-t5-base-5.jsonl'\n",
    "print('Flan-T5 ', token_count(file, prediction_column_name))\n",
    "\n",
    "# RAG Llama\n",
    "file = '../RAG/results/Meta-Llama-3-8B-Instruct-5.jsonl'\n",
    "print('Llama ', token_count(file, prediction_column_name))\n",
    "\n",
    "# RAG Gemma\n",
    "file = '../RAG/results/gemma-2-9b-it-5.jsonl'\n",
    "print('Gemma ', token_count(file, prediction_column_name))\n",
    "\n",
    "# RAG gpt-4o\n",
    "file = '../RAG/results/gpt-4o.jsonl'\n",
    "print('gpt ', token_count(file, prediction_column_name))\n",
    "\n",
    "# RAG gemini-1.5-pro\n",
    "file = '../RAG/results/gemini-1.5-pro.jsonl'\n",
    "print('gemini ', token_count(file, 'Prediction'))"
   ]
  },
  {
   "cell_type": "code",
   "execution_count": null,
   "metadata": {},
   "outputs": [
    {
     "name": "stdout",
     "output_type": "stream",
     "text": [
      "Flan-T5  386.32248219735504\n",
      "Llama  90.0356052899288\n",
      "Gemma  128.53407934893184\n"
     ]
    }
   ],
   "source": [
    "# Approach Flan-t5-base\n",
    "file = '../Approach/results/flan-t5-base-test.jsonl'\n",
    "print('Flan-T5 ', token_count(file))\n",
    "\n",
    "# Approach Flan-t5-base Lora\n",
    "file = '../Approach/results/flan-t5-base-920.jsonl'\n",
    "print('Flan-T5 Lora ', token_count(file))\n",
    "\n",
    "# Approach Llama\n",
    "file = '../Approach/results/autotrain-llama-5.jsonl'\n",
    "print('Llama ', token_count(file))\n",
    "\n",
    "# Approach Gemma\n",
    "file = '../Approach/results/autotrain-gemma-1.jsonl'\n",
    "print('Gemma ', token_count(file))"
   ]
  },
  {
   "cell_type": "code",
   "execution_count": 1,
   "metadata": {},
   "outputs": [
    {
     "ename": "NameError",
     "evalue": "name 'pd' is not defined",
     "output_type": "error",
     "traceback": [
      "\u001b[1;31m---------------------------------------------------------------------------\u001b[0m",
      "\u001b[1;31mNameError\u001b[0m                                 Traceback (most recent call last)",
      "\u001b[1;32m~\\AppData\\Local\\Temp\\ipykernel_6516\\1748885599.py\u001b[0m in \u001b[0;36m<module>\u001b[1;34m\u001b[0m\n\u001b[0;32m      1\u001b[0m \u001b[1;31m# Rag Flan-t5-base\u001b[0m\u001b[1;33m\u001b[0m\u001b[1;33m\u001b[0m\u001b[0m\n\u001b[0;32m      2\u001b[0m \u001b[0mfile\u001b[0m \u001b[1;33m=\u001b[0m \u001b[1;34m'../Approach/results/flan-t5-base-920.jsonl'\u001b[0m\u001b[1;33m\u001b[0m\u001b[1;33m\u001b[0m\u001b[0m\n\u001b[1;32m----> 3\u001b[1;33m \u001b[0mdf\u001b[0m \u001b[1;33m=\u001b[0m \u001b[0mpd\u001b[0m\u001b[1;33m.\u001b[0m\u001b[0mread_json\u001b[0m\u001b[1;33m(\u001b[0m\u001b[0mfile\u001b[0m\u001b[1;33m,\u001b[0m \u001b[0mlines\u001b[0m\u001b[1;33m=\u001b[0m\u001b[1;32mTrue\u001b[0m\u001b[1;33m)\u001b[0m\u001b[1;33m\u001b[0m\u001b[1;33m\u001b[0m\u001b[0m\n\u001b[0m\u001b[0;32m      4\u001b[0m \u001b[0mdf\u001b[0m\u001b[1;33m.\u001b[0m\u001b[0mhead\u001b[0m\u001b[1;33m(\u001b[0m\u001b[1;33m)\u001b[0m\u001b[1;33m\u001b[0m\u001b[1;33m\u001b[0m\u001b[0m\n",
      "\u001b[1;31mNameError\u001b[0m: name 'pd' is not defined"
     ]
    }
   ],
   "source": [
    "# Rag Flan-t5-base\n",
    "file = '../Approach/results/flan-t5-base-920.jsonl'\n",
    "df = pd.read_json(file, lines=True)\n",
    "df.head()"
   ]
  },
  {
   "cell_type": "code",
   "execution_count": null,
   "metadata": {},
   "outputs": [],
   "source": []
  }
 ],
 "metadata": {
  "kernelspec": {
   "display_name": "base",
   "language": "python",
   "name": "python3"
  },
  "language_info": {
   "codemirror_mode": {
    "name": "ipython",
    "version": 3
   },
   "file_extension": ".py",
   "mimetype": "text/x-python",
   "name": "python",
   "nbconvert_exporter": "python",
   "pygments_lexer": "ipython3",
   "version": "3.9.13"
  }
 },
 "nbformat": 4,
 "nbformat_minor": 2
}
