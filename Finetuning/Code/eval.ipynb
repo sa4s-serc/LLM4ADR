{
 "cells": [
  {
   "cell_type": "code",
   "execution_count": 1,
   "metadata": {},
   "outputs": [
    {
     "name": "stdout",
     "output_type": "stream",
     "text": [
      "/home2/rudra.dhar/codes/SE/ADR/LLM4ADR/Finetuning/Code\n"
     ]
    }
   ],
   "source": [
    "# %cd D:\\IIIT\\LAB_SE\\ADR\\LLM4ADR\\0_shot\\Decision_0_shot\n",
    "%cd codes/SE/ADR/LLM4ADR/Finetuning/Code"
   ]
  },
  {
   "cell_type": "code",
   "execution_count": 3,
   "metadata": {},
   "outputs": [
    {
     "name": "stdout",
     "output_type": "stream",
     "text": [
      "\u001b[33mWARNING: Ignoring invalid distribution -rotobuf (/home2/rudra.dhar/miniconda3/lib/python3.10/site-packages)\u001b[0m\u001b[33m\n",
      "\u001b[0mRequirement already satisfied: tokenizers==0.13.3 in /home2/rudra.dhar/miniconda3/lib/python3.10/site-packages (0.13.3)\n",
      "\u001b[33mWARNING: Ignoring invalid distribution -rotobuf (/home2/rudra.dhar/miniconda3/lib/python3.10/site-packages)\u001b[0m\u001b[33m\n",
      "\u001b[0m\n",
      "\u001b[1m[\u001b[0m\u001b[34;49mnotice\u001b[0m\u001b[1;39;49m]\u001b[0m\u001b[39;49m A new release of pip is available: \u001b[0m\u001b[31;49m24.0\u001b[0m\u001b[39;49m -> \u001b[0m\u001b[32;49m24.1\u001b[0m\n",
      "\u001b[1m[\u001b[0m\u001b[34;49mnotice\u001b[0m\u001b[1;39;49m]\u001b[0m\u001b[39;49m To update, run: \u001b[0m\u001b[32;49mpip install --upgrade pip\u001b[0m\n",
      "Note: you may need to restart the kernel to use updated packages.\n"
     ]
    }
   ],
   "source": [
    "pip install tokenizers==0.13.3"
   ]
  },
  {
   "cell_type": "code",
   "execution_count": 2,
   "metadata": {},
   "outputs": [],
   "source": [
    "from evaluate import load\n",
    "import pandas as pd\n",
    "import nltk\n",
    "from BARTScore.bart_score import BARTScorer"
   ]
  },
  {
   "cell_type": "code",
   "execution_count": 3,
   "metadata": {},
   "outputs": [],
   "source": [
    "# CACHE_DIR = '/scratch/adyansh/cache'\n",
    "# CACHE_DIR = 'D:/IIIT/LAB_SE/ADR/cache'\n",
    "CACHE_DIR = '/scratch/rudra.dhar/cache'\n",
    "MODEL_NAME = 'babbage-002'\n",
    "nltk.data.path.append(CACHE_DIR)"
   ]
  },
  {
   "cell_type": "code",
   "execution_count": 4,
   "metadata": {},
   "outputs": [
    {
     "name": "stderr",
     "output_type": "stream",
     "text": [
      "[nltk_data] Downloading package wordnet to\n",
      "[nltk_data]     /home2/rudra.dhar/nltk_data...\n",
      "[nltk_data]   Package wordnet is already up-to-date!\n",
      "[nltk_data] Downloading package punkt to\n",
      "[nltk_data]     /home2/rudra.dhar/nltk_data...\n",
      "[nltk_data]   Package punkt is already up-to-date!\n",
      "[nltk_data] Downloading package omw-1.4 to\n",
      "[nltk_data]     /home2/rudra.dhar/nltk_data...\n",
      "[nltk_data]   Package omw-1.4 is already up-to-date!\n"
     ]
    }
   ],
   "source": [
    "rouge = load('rouge', cache_dir=CACHE_DIR)\n",
    "bleu = load('bleu', cache_dir=CACHE_DIR)\n",
    "meteor = load('meteor', cache_dir=CACHE_DIR)\n",
    "bertscore = load(\"bertscore\", cache_dir=CACHE_DIR)\n",
    "bartscore = BARTScorer(device='cuda:1', cache_dir=CACHE_DIR)"
   ]
  },
  {
   "cell_type": "code",
   "execution_count": 6,
   "metadata": {},
   "outputs": [
    {
     "name": "stdout",
     "output_type": "stream",
     "text": [
      "1049\n"
     ]
    },
    {
     "data": {
      "text/html": [
       "<div>\n",
       "<style scoped>\n",
       "    .dataframe tbody tr th:only-of-type {\n",
       "        vertical-align: middle;\n",
       "    }\n",
       "\n",
       "    .dataframe tbody tr th {\n",
       "        vertical-align: top;\n",
       "    }\n",
       "\n",
       "    .dataframe thead th {\n",
       "        text-align: right;\n",
       "    }\n",
       "</style>\n",
       "<table border=\"1\" class=\"dataframe\">\n",
       "  <thead>\n",
       "    <tr style=\"text-align: right;\">\n",
       "      <th></th>\n",
       "      <th>Context</th>\n",
       "      <th>Decision</th>\n",
       "      <th>babbage-002</th>\n",
       "    </tr>\n",
       "  </thead>\n",
       "  <tbody>\n",
       "    <tr>\n",
       "      <th>0</th>\n",
       "      <td>## Context\\nThe Identity, Metadata, and Storag...</td>\n",
       "      <td>## Decision\\nIn order to achieve One of the en...</td>\n",
       "      <td>## Decision\\nWe will use [AWS Amplify](https:/...</td>\n",
       "    </tr>\n",
       "    <tr>\n",
       "      <th>1</th>\n",
       "      <td>## Context\\nWe cannot design endpoints in a fl...</td>\n",
       "      <td>## Decision\\nWe have decided to go with option...</td>\n",
       "      <td>## Decision\\nWe'll use a nested structure for ...</td>\n",
       "    </tr>\n",
       "    <tr>\n",
       "      <th>2</th>\n",
       "      <td>## Context\\nReal world assembly programming ex...</td>\n",
       "      <td>## Decision\\nTo prevent code from messing up t...</td>\n",
       "      <td>## Decision\\nWe will not support the stack poi...</td>\n",
       "    </tr>\n",
       "    <tr>\n",
       "      <th>3</th>\n",
       "      <td>## Context\\nContract-first approach enforces a...</td>\n",
       "      <td>## Decision\\n[OpenAPI Specification](https://s...</td>\n",
       "      <td>## Decision\\nWe will use a contract-first appr...</td>\n",
       "    </tr>\n",
       "    <tr>\n",
       "      <th>4</th>\n",
       "      <td>## Context and Problem Statement\\nKnow it befo...</td>\n",
       "      <td>## Decision\\nChosen option: `Sentry`, because ...</td>\n",
       "      <td>## Decision\\nWe will use [Flaky](https://flaky...</td>\n",
       "    </tr>\n",
       "  </tbody>\n",
       "</table>\n",
       "</div>"
      ],
      "text/plain": [
       "                                             Context  \\\n",
       "0  ## Context\\nThe Identity, Metadata, and Storag...   \n",
       "1  ## Context\\nWe cannot design endpoints in a fl...   \n",
       "2  ## Context\\nReal world assembly programming ex...   \n",
       "3  ## Context\\nContract-first approach enforces a...   \n",
       "4  ## Context and Problem Statement\\nKnow it befo...   \n",
       "\n",
       "                                            Decision  \\\n",
       "0  ## Decision\\nIn order to achieve One of the en...   \n",
       "1  ## Decision\\nWe have decided to go with option...   \n",
       "2  ## Decision\\nTo prevent code from messing up t...   \n",
       "3  ## Decision\\n[OpenAPI Specification](https://s...   \n",
       "4  ## Decision\\nChosen option: `Sentry`, because ...   \n",
       "\n",
       "                                         babbage-002  \n",
       "0  ## Decision\\nWe will use [AWS Amplify](https:/...  \n",
       "1  ## Decision\\nWe'll use a nested structure for ...  \n",
       "2  ## Decision\\nWe will not support the stack poi...  \n",
       "3  ## Decision\\nWe will use a contract-first appr...  \n",
       "4  ## Decision\\nWe will use [Flaky](https://flaky...  "
      ]
     },
     "execution_count": 6,
     "metadata": {},
     "output_type": "execute_result"
    }
   ],
   "source": [
    "# data = pd.read_csv(f'../results/{MODEL_NAME}.csv')\n",
    "data = pd.read_json(f'../results/{MODEL_NAME}.jsonl', lines=True)\n",
    "data.rename(columns={'Prediction': 'babbage-002'}, inplace=True)\n",
    "print(len(data))\n",
    "data.head()"
   ]
  },
  {
   "cell_type": "code",
   "execution_count": 7,
   "metadata": {},
   "outputs": [
    {
     "data": {
      "text/plain": [
       "1049"
      ]
     },
     "execution_count": 7,
     "metadata": {},
     "output_type": "execute_result"
    }
   ],
   "source": [
    "# remove rows in df where MODEL_NAME column is empty\n",
    "data = data.dropna(subset=[MODEL_NAME])\n",
    "len(data)"
   ]
  },
  {
   "cell_type": "code",
   "execution_count": 8,
   "metadata": {},
   "outputs": [
    {
     "name": "stdout",
     "output_type": "stream",
     "text": [
      "Rouge Done\n",
      "Bleu Done\n",
      "Meteor Done\n",
      "BertScore Done\n"
     ]
    }
   ],
   "source": [
    "results = {}\n",
    "\n",
    "results['rouge'] = rouge.compute(predictions=data[MODEL_NAME],references= data['Decision'])\n",
    "print('Rouge Done')\n",
    "results['bleu'] = bleu.compute(predictions=data[MODEL_NAME],references= data['Decision'])\n",
    "print('Bleu Done')\n",
    "results['meteor'] = meteor.compute(predictions=data[MODEL_NAME],references= data['Decision'])\n",
    "print('Meteor Done')\n",
    "results['bertscore'] = bertscore.compute(predictions=data[MODEL_NAME],references= data['Decision'], lang='en', batch_size = 64)\n",
    "print('BertScore Done')\n",
    "results['bartscore_recall'] = bartscore.score(data[MODEL_NAME].tolist(), data['Decision'].tolist(), batch_size = 4)\n",
    "results['bartscore_precision'] = bartscore.score(data['Decision'].tolist(), data[MODEL_NAME].tolist(), batch_size = 4)"
   ]
  },
  {
   "cell_type": "code",
   "execution_count": 10,
   "metadata": {},
   "outputs": [],
   "source": [
    "cols = ['precision', 'recall', 'f1']\n",
    "\n",
    "for c in cols:\n",
    "    results['bertscore'][c] = pd.Series(results['bertscore'][c]).mean()\n",
    "results['bartscore_recall'] = pd.Series(results['bartscore_recall']).mean()\n",
    "results['bartscore_precision'] = pd.Series(results['bartscore_precision']).mean()\n",
    "results['bartscore_F1'] = (results['bartscore_recall'] + results['bartscore_precision'])/2"
   ]
  },
  {
   "cell_type": "code",
   "execution_count": 11,
   "metadata": {},
   "outputs": [
    {
     "data": {
      "text/plain": [
       "{'rouge': {'rouge1': 0.18279206557006913,\n",
       "  'rouge2': 0.07701318593929313,\n",
       "  'rougeL': 0.14784910558305314,\n",
       "  'rougeLsum': 0.14745435924792386},\n",
       " 'bleu': {'bleu': 0.08872388308212627,\n",
       "  'precisions': [0.19156559144692553,\n",
       "   0.09196789295615448,\n",
       "   0.06491709000287549,\n",
       "   0.05418129465385563],\n",
       "  'brevity_penalty': 1.0,\n",
       "  'length_ratio': 1.4938467307561192,\n",
       "  'translation_length': 262923,\n",
       "  'reference_length': 176004},\n",
       " 'meteor': {'meteor': 0.23481211356305676},\n",
       " 'bertscore': {'precision': 0.8017927238893463,\n",
       "  'recall': 0.8486827199406801,\n",
       "  'f1': 0.8237019557402859,\n",
       "  'hashcode': 'roberta-large_L17_no-idf_version=0.3.12(hug_trans=4.24.0)'},\n",
       " 'bartscore_recall': -4.000075102335391,\n",
       " 'bartscore_precision': -2.187544419438187,\n",
       " 'bartscore_F1': -3.0938097608867885}"
      ]
     },
     "execution_count": 11,
     "metadata": {},
     "output_type": "execute_result"
    }
   ],
   "source": [
    "results"
   ]
  },
  {
   "cell_type": "code",
   "execution_count": 13,
   "metadata": {},
   "outputs": [],
   "source": [
    "# write results to a json file\n",
    "import json\n",
    "with open(f'../metrics/{MODEL_NAME}.json', 'w') as f:\n",
    "    json.dump(results, f, indent=4)"
   ]
  },
  {
   "cell_type": "code",
   "execution_count": null,
   "metadata": {},
   "outputs": [],
   "source": []
  }
 ],
 "metadata": {
  "kernelspec": {
   "display_name": "Python 3 (ipykernel)",
   "language": "python",
   "name": "python3"
  }
 },
 "nbformat": 4,
 "nbformat_minor": 2
}
