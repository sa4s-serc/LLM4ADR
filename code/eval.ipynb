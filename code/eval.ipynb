{
 "cells": [
  {
   "cell_type": "code",
   "execution_count": 1,
   "metadata": {},
   "outputs": [],
   "source": [
    "from evaluate import load\n",
    "import pandas as pd\n",
    "import nltk\n",
    "from BARTScore.bart_score import BARTScorer"
   ]
  },
  {
   "cell_type": "code",
   "execution_count": 2,
   "metadata": {},
   "outputs": [],
   "source": [
    "CACHE_DIR = '/scratch/adyansh/cache'\n",
    "nltk.data.path.append(CACHE_DIR)"
   ]
  },
  {
   "cell_type": "code",
   "execution_count": 3,
   "metadata": {},
   "outputs": [
    {
     "name": "stderr",
     "output_type": "stream",
     "text": [
      "[nltk_data] Downloading package wordnet to /home2/adyansh/nltk_data...\n",
      "[nltk_data]   Package wordnet is already up-to-date!\n",
      "[nltk_data] Downloading package punkt to /home2/adyansh/nltk_data...\n",
      "[nltk_data]   Package punkt is already up-to-date!\n",
      "[nltk_data] Downloading package omw-1.4 to /home2/adyansh/nltk_data...\n",
      "[nltk_data]   Package omw-1.4 is already up-to-date!\n"
     ]
    }
   ],
   "source": [
    "rouge = load('rouge', cache_dir=CACHE_DIR)\n",
    "bleu = load('bleu', cache_dir=CACHE_DIR)\n",
    "meteor = load('meteor', cache_dir=CACHE_DIR)\n",
    "bertscore = load(\"bertscore\", cache_dir=CACHE_DIR)\n",
    "bartscore = BARTScorer(device='cuda:1', cache_dir=CACHE_DIR)"
   ]
  },
  {
   "cell_type": "code",
   "execution_count": 14,
   "metadata": {},
   "outputs": [
    {
     "data": {
      "text/html": [
       "<div>\n",
       "<style scoped>\n",
       "    .dataframe tbody tr th:only-of-type {\n",
       "        vertical-align: middle;\n",
       "    }\n",
       "\n",
       "    .dataframe tbody tr th {\n",
       "        vertical-align: top;\n",
       "    }\n",
       "\n",
       "    .dataframe thead th {\n",
       "        text-align: right;\n",
       "    }\n",
       "</style>\n",
       "<table border=\"1\" class=\"dataframe\">\n",
       "  <thead>\n",
       "    <tr style=\"text-align: right;\">\n",
       "      <th></th>\n",
       "      <th>Context</th>\n",
       "      <th>Decision</th>\n",
       "      <th>flan-t5-small</th>\n",
       "    </tr>\n",
       "  </thead>\n",
       "  <tbody>\n",
       "    <tr>\n",
       "      <th>0</th>\n",
       "      <td>This is an Architectural Decision Record. Prov...</td>\n",
       "      <td>## Decision\\nWe increase complexity during ins...</td>\n",
       "      <td>The Architectural Decision is to determine the...</td>\n",
       "    </tr>\n",
       "    <tr>\n",
       "      <th>1</th>\n",
       "      <td>This is an Architectural Decision Record. Prov...</td>\n",
       "      <td>## Decision\\nDue to limited resources and time...</td>\n",
       "      <td>The architect decided to create a new feed par...</td>\n",
       "    </tr>\n",
       "    <tr>\n",
       "      <th>2</th>\n",
       "      <td>This is an Architectural Decision Record. Prov...</td>\n",
       "      <td>## Decision\\n- ETL will have a dedicated datab...</td>\n",
       "      <td>The ETL team needs to be able to move files ar...</td>\n",
       "    </tr>\n",
       "    <tr>\n",
       "      <th>3</th>\n",
       "      <td>This is an Architectural Decision Record. Prov...</td>\n",
       "      <td>## Decision\\nCreate a specific services (ETL a...</td>\n",
       "      <td>The Architectural Decision is to review the ar...</td>\n",
       "    </tr>\n",
       "    <tr>\n",
       "      <th>4</th>\n",
       "      <td>This is an Architectural Decision Record. Prov...</td>\n",
       "      <td>## Decision\\nWe have chosen an event based com...</td>\n",
       "      <td>The ETL service is unable to communicate with ...</td>\n",
       "    </tr>\n",
       "  </tbody>\n",
       "</table>\n",
       "</div>"
      ],
      "text/plain": [
       "                                             Context  \\\n",
       "0  This is an Architectural Decision Record. Prov...   \n",
       "1  This is an Architectural Decision Record. Prov...   \n",
       "2  This is an Architectural Decision Record. Prov...   \n",
       "3  This is an Architectural Decision Record. Prov...   \n",
       "4  This is an Architectural Decision Record. Prov...   \n",
       "\n",
       "                                            Decision  \\\n",
       "0  ## Decision\\nWe increase complexity during ins...   \n",
       "1  ## Decision\\nDue to limited resources and time...   \n",
       "2  ## Decision\\n- ETL will have a dedicated datab...   \n",
       "3  ## Decision\\nCreate a specific services (ETL a...   \n",
       "4  ## Decision\\nWe have chosen an event based com...   \n",
       "\n",
       "                                       flan-t5-small  \n",
       "0  The Architectural Decision is to determine the...  \n",
       "1  The architect decided to create a new feed par...  \n",
       "2  The ETL team needs to be able to move files ar...  \n",
       "3  The Architectural Decision is to review the ar...  \n",
       "4  The ETL service is unable to communicate with ...  "
      ]
     },
     "execution_count": 14,
     "metadata": {},
     "output_type": "execute_result"
    }
   ],
   "source": [
    "data = pd.read_csv('../results/flan-t5-small.csv')\n",
    "\n",
    "data.head()"
   ]
  },
  {
   "cell_type": "code",
   "execution_count": 15,
   "metadata": {},
   "outputs": [],
   "source": [
    "results = {}\n",
    "\n",
    "results['rouge'] = rouge.compute(predictions=data['flan-t5-small'],references= data['Decision'])\n",
    "print('hi')\n",
    "results['bleu'] = bleu.compute(predictions=data['flan-t5-small'],references= data['Decision'])\n",
    "print('hi')\n",
    "results['meteor'] = meteor.compute(predictions=data['flan-t5-small'],references= data['Decision'])\n",
    "print('hi')\n",
    "results['bertscore'] = bertscore.compute(predictions=data['flan-t5-small'],references= data['Decision'], lang='en', batch_size = 64)\n",
    "print('hi')\n",
    "results['bartscore'] = bartscore.score(data['flan-t5-small'].tolist(), data['Decision'].tolist(), batch_size = 4)"
   ]
  },
  {
   "cell_type": "code",
   "execution_count": null,
   "metadata": {},
   "outputs": [
    {
     "data": {
      "text/plain": [
       "{}"
      ]
     },
     "execution_count": 13,
     "metadata": {},
     "output_type": "execute_result"
    }
   ],
   "source": [
    "results"
   ]
  },
  {
   "cell_type": "code",
   "execution_count": null,
   "metadata": {},
   "outputs": [],
   "source": [
    "# write results to a json file\n",
    "import json\n",
    "with open('../results/flan-t5-small.json', 'w') as f:\n",
    "    json.dump(results, f)"
   ]
  }
 ],
 "metadata": {
  "kernelspec": {
   "display_name": "Python 3",
   "language": "python",
   "name": "python3"
  },
  "language_info": {
   "codemirror_mode": {
    "name": "ipython",
    "version": 3
   },
   "file_extension": ".py",
   "mimetype": "text/x-python",
   "name": "python",
   "nbconvert_exporter": "python",
   "pygments_lexer": "ipython3",
   "version": "3.11.3"
  }
 },
 "nbformat": 4,
 "nbformat_minor": 2
}
