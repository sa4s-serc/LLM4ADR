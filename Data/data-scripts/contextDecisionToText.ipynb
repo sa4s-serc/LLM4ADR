{
 "cells": [
  {
   "cell_type": "code",
   "execution_count": 2,
   "metadata": {},
   "outputs": [
    {
     "name": "stdout",
     "output_type": "stream",
     "text": [
      "D:\\IIIT\\LAB_SE\\ADR\\LLM4ADR\\Data\\data-scripts\n"
     ]
    },
    {
     "data": {
      "text/plain": [
       "'D:\\\\IIIT\\\\LAB_SE\\\\ADR\\\\LLM4ADR\\\\Data\\\\data-scripts'"
      ]
     },
     "execution_count": 2,
     "metadata": {},
     "output_type": "execute_result"
    }
   ],
   "source": [
    "%cd D:\\IIIT\\LAB_SE\\ADR\\LLM4ADR\\Data\\data-scripts\n",
    "%pwd"
   ]
  },
  {
   "cell_type": "code",
   "execution_count": 3,
   "metadata": {},
   "outputs": [
    {
     "name": "stdout",
     "output_type": "stream",
     "text": [
      "                                           File Name  \\\n",
      "0  dapr/ARC-001-refactor-for-modularity-and-testa...   \n",
      "1              launcher/2018-07-16_reorganization.md   \n",
      "2  js-sdk/0018-change-domain-names-to-shorter-one...   \n",
      "3                     opensmarthouse-core/adr0008.md   \n",
      "4                       gsp/ADR014-sealed-secrets.md   \n",
      "\n",
      "                                             Context  \\\n",
      "0  ## Context\\nAs we keep building up Dapr featur...   \n",
      "1  ## Context\\nLauncher was an early service deve...   \n",
      "2  ## Context\\nDomain names in deployed 3bots and...   \n",
      "3  ## Context\\nOften a binding will need to provi...   \n",
      "4  ## Context\\nWe want to provide a simple way to...   \n",
      "\n",
      "                                            Decision  tokens    id  \n",
      "0  ### Dapr\\n* Formally separate hosting and API ...      66    87  \n",
      "1  Packages that are compiled into binaries remai...      79  2547  \n",
      "2  Change domain names to shorter ones, and in ca...      16  5190  \n",
      "3                                              TBD\\n     283   658  \n",
      "4  We will deploy a [SealedSecrets](https://githu...      39  3904  \n"
     ]
    }
   ],
   "source": [
    "import pandas as pd\n",
    "\n",
    "df = pd.read_json('../ADR-data/data_train.jsonl', lines=True)\n",
    "df['text'] = df['Context'] + df['Decision']\n",
    "print(df.head())"
   ]
  },
  {
   "cell_type": "code",
   "execution_count": 8,
   "metadata": {},
   "outputs": [
    {
     "data": {
      "text/html": [
       "<div>\n",
       "<style scoped>\n",
       "    .dataframe tbody tr th:only-of-type {\n",
       "        vertical-align: middle;\n",
       "    }\n",
       "\n",
       "    .dataframe tbody tr th {\n",
       "        vertical-align: top;\n",
       "    }\n",
       "\n",
       "    .dataframe thead th {\n",
       "        text-align: right;\n",
       "    }\n",
       "</style>\n",
       "<table border=\"1\" class=\"dataframe\">\n",
       "  <thead>\n",
       "    <tr style=\"text-align: right;\">\n",
       "      <th></th>\n",
       "      <th>File Name</th>\n",
       "      <th>Context</th>\n",
       "      <th>Decision</th>\n",
       "      <th>tokens</th>\n",
       "      <th>id</th>\n",
       "    </tr>\n",
       "  </thead>\n",
       "  <tbody>\n",
       "    <tr>\n",
       "      <th>0</th>\n",
       "      <td>dapr/ARC-001-refactor-for-modularity-and-testa...</td>\n",
       "      <td>## Context\\nAs we keep building up Dapr featur...</td>\n",
       "      <td>### Dapr\\n* Formally separate hosting and API ...</td>\n",
       "      <td>66</td>\n",
       "      <td>87</td>\n",
       "    </tr>\n",
       "    <tr>\n",
       "      <th>1</th>\n",
       "      <td>launcher/2018-07-16_reorganization.md</td>\n",
       "      <td>## Context\\nLauncher was an early service deve...</td>\n",
       "      <td>Packages that are compiled into binaries remai...</td>\n",
       "      <td>79</td>\n",
       "      <td>2547</td>\n",
       "    </tr>\n",
       "    <tr>\n",
       "      <th>2</th>\n",
       "      <td>js-sdk/0018-change-domain-names-to-shorter-one...</td>\n",
       "      <td>## Context\\nDomain names in deployed 3bots and...</td>\n",
       "      <td>Change domain names to shorter ones, and in ca...</td>\n",
       "      <td>16</td>\n",
       "      <td>5190</td>\n",
       "    </tr>\n",
       "    <tr>\n",
       "      <th>3</th>\n",
       "      <td>opensmarthouse-core/adr0008.md</td>\n",
       "      <td>## Context\\nOften a binding will need to provi...</td>\n",
       "      <td>TBD\\n</td>\n",
       "      <td>283</td>\n",
       "      <td>658</td>\n",
       "    </tr>\n",
       "    <tr>\n",
       "      <th>4</th>\n",
       "      <td>gsp/ADR014-sealed-secrets.md</td>\n",
       "      <td>## Context\\nWe want to provide a simple way to...</td>\n",
       "      <td>We will deploy a [SealedSecrets](https://githu...</td>\n",
       "      <td>39</td>\n",
       "      <td>3904</td>\n",
       "    </tr>\n",
       "  </tbody>\n",
       "</table>\n",
       "</div>"
      ],
      "text/plain": [
       "                                           File Name  \\\n",
       "0  dapr/ARC-001-refactor-for-modularity-and-testa...   \n",
       "1              launcher/2018-07-16_reorganization.md   \n",
       "2  js-sdk/0018-change-domain-names-to-shorter-one...   \n",
       "3                     opensmarthouse-core/adr0008.md   \n",
       "4                       gsp/ADR014-sealed-secrets.md   \n",
       "\n",
       "                                             Context  \\\n",
       "0  ## Context\\nAs we keep building up Dapr featur...   \n",
       "1  ## Context\\nLauncher was an early service deve...   \n",
       "2  ## Context\\nDomain names in deployed 3bots and...   \n",
       "3  ## Context\\nOften a binding will need to provi...   \n",
       "4  ## Context\\nWe want to provide a simple way to...   \n",
       "\n",
       "                                            Decision  tokens    id  \n",
       "0  ### Dapr\\n* Formally separate hosting and API ...      66    87  \n",
       "1  Packages that are compiled into binaries remai...      79  2547  \n",
       "2  Change domain names to shorter ones, and in ca...      16  5190  \n",
       "3                                              TBD\\n     283   658  \n",
       "4  We will deploy a [SealedSecrets](https://githu...      39  3904  "
      ]
     },
     "execution_count": 8,
     "metadata": {},
     "output_type": "execute_result"
    }
   ],
   "source": [
    "df.head()"
   ]
  },
  {
   "cell_type": "code",
   "execution_count": null,
   "metadata": {},
   "outputs": [],
   "source": []
  }
 ],
 "metadata": {
  "kernelspec": {
   "display_name": "Python 3 (ipykernel)",
   "language": "python",
   "name": "python3"
  },
  "language_info": {
   "codemirror_mode": {
    "name": "ipython",
    "version": 3
   },
   "file_extension": ".py",
   "mimetype": "text/x-python",
   "name": "python",
   "nbconvert_exporter": "python",
   "pygments_lexer": "ipython3",
   "version": "3.9.13"
  }
 },
 "nbformat": 4,
 "nbformat_minor": 2
}
