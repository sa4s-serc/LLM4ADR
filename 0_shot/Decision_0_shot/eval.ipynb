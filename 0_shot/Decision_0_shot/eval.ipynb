{
 "cells": [
  {
   "cell_type": "code",
   "execution_count": 1,
   "metadata": {},
   "outputs": [
    {
     "name": "stdout",
     "output_type": "stream",
     "text": [
      "/home2/rudra.dhar/codes/SE/ADR/LLM4ADR/0_shot/Decision_0_shot\n"
     ]
    }
   ],
   "source": [
    "# %cd D:\\IIIT\\LAB_SE\\ADR\\LLM4ADR\\0_shot\\Decision_0_shot\n",
    "%cd codes/SE/ADR/LLM4ADR/0_shot/Decision_0_shot"
   ]
  },
  {
   "cell_type": "code",
   "execution_count": 3,
   "metadata": {},
   "outputs": [
    {
     "name": "stdout",
     "output_type": "stream",
     "text": [
      "\u001b[33mWARNING: Ignoring invalid distribution -rotobuf (/home2/rudra.dhar/miniconda3/lib/python3.10/site-packages)\u001b[0m\u001b[33m\n",
      "\u001b[0mRequirement already satisfied: tokenizers==0.13.3 in /home2/rudra.dhar/miniconda3/lib/python3.10/site-packages (0.13.3)\n",
      "\u001b[33mWARNING: Ignoring invalid distribution -rotobuf (/home2/rudra.dhar/miniconda3/lib/python3.10/site-packages)\u001b[0m\u001b[33m\n",
      "\u001b[0m\n",
      "\u001b[1m[\u001b[0m\u001b[34;49mnotice\u001b[0m\u001b[1;39;49m]\u001b[0m\u001b[39;49m A new release of pip is available: \u001b[0m\u001b[31;49m24.0\u001b[0m\u001b[39;49m -> \u001b[0m\u001b[32;49m24.1\u001b[0m\n",
      "\u001b[1m[\u001b[0m\u001b[34;49mnotice\u001b[0m\u001b[1;39;49m]\u001b[0m\u001b[39;49m To update, run: \u001b[0m\u001b[32;49mpip install --upgrade pip\u001b[0m\n",
      "Note: you may need to restart the kernel to use updated packages.\n"
     ]
    }
   ],
   "source": [
    "pip install tokenizers==0.13.3"
   ]
  },
  {
   "cell_type": "code",
   "execution_count": 2,
   "metadata": {},
   "outputs": [],
   "source": [
    "from evaluate import load\n",
    "import pandas as pd\n",
    "import nltk\n",
    "from BARTScore.bart_score import BARTScorer"
   ]
  },
  {
   "cell_type": "code",
   "execution_count": 3,
   "metadata": {},
   "outputs": [],
   "source": [
    "# CACHE_DIR = '/scratch/adyansh/cache'\n",
    "# CACHE_DIR = 'D:/IIIT/LAB_SE/ADR/cache'\n",
    "CACHE_DIR = '/scratch/rudra.dhar/cache'\n",
    "MODEL_NAME = 'babbage-002'\n",
    "nltk.data.path.append(CACHE_DIR)"
   ]
  },
  {
   "cell_type": "code",
   "execution_count": 4,
   "metadata": {},
   "outputs": [
    {
     "name": "stderr",
     "output_type": "stream",
     "text": [
      "[nltk_data] Downloading package wordnet to\n",
      "[nltk_data]     /home2/rudra.dhar/nltk_data...\n",
      "[nltk_data]   Package wordnet is already up-to-date!\n",
      "[nltk_data] Downloading package punkt to\n",
      "[nltk_data]     /home2/rudra.dhar/nltk_data...\n",
      "[nltk_data]   Package punkt is already up-to-date!\n",
      "[nltk_data] Downloading package omw-1.4 to\n",
      "[nltk_data]     /home2/rudra.dhar/nltk_data...\n",
      "[nltk_data]   Package omw-1.4 is already up-to-date!\n"
     ]
    },
    {
     "data": {
      "application/vnd.jupyter.widget-view+json": {
       "model_id": "48823558a4ad43a782ecbac0d39a2721",
       "version_major": 2,
       "version_minor": 0
      },
      "text/plain": [
       "Downloading vocab.json:   0%|          | 0.00/899k [00:00<?, ?B/s]"
      ]
     },
     "metadata": {},
     "output_type": "display_data"
    },
    {
     "data": {
      "application/vnd.jupyter.widget-view+json": {
       "model_id": "9a31a8d9147d4361bc3b615074e47fec",
       "version_major": 2,
       "version_minor": 0
      },
      "text/plain": [
       "Downloading merges.txt:   0%|          | 0.00/456k [00:00<?, ?B/s]"
      ]
     },
     "metadata": {},
     "output_type": "display_data"
    },
    {
     "data": {
      "application/vnd.jupyter.widget-view+json": {
       "model_id": "ac01e00d786143d1ac513beee5e797db",
       "version_major": 2,
       "version_minor": 0
      },
      "text/plain": [
       "Downloading config.json:   0%|          | 0.00/1.58k [00:00<?, ?B/s]"
      ]
     },
     "metadata": {},
     "output_type": "display_data"
    },
    {
     "data": {
      "application/vnd.jupyter.widget-view+json": {
       "model_id": "2401cfe019214e358b4a70b3c514face",
       "version_major": 2,
       "version_minor": 0
      },
      "text/plain": [
       "Downloading pytorch_model.bin:   0%|          | 0.00/1.63G [00:00<?, ?B/s]"
      ]
     },
     "metadata": {},
     "output_type": "display_data"
    }
   ],
   "source": [
    "rouge = load('rouge', cache_dir=CACHE_DIR)\n",
    "bleu = load('bleu', cache_dir=CACHE_DIR)\n",
    "meteor = load('meteor', cache_dir=CACHE_DIR)\n",
    "bertscore = load(\"bertscore\", cache_dir=CACHE_DIR)\n",
    "bartscore = BARTScorer(device='cuda:1', cache_dir=CACHE_DIR)"
   ]
  },
  {
   "cell_type": "code",
   "execution_count": 5,
   "metadata": {},
   "outputs": [
    {
     "name": "stdout",
     "output_type": "stream",
     "text": [
      "5297\n"
     ]
    },
    {
     "data": {
      "text/html": [
       "<div>\n",
       "<style scoped>\n",
       "    .dataframe tbody tr th:only-of-type {\n",
       "        vertical-align: middle;\n",
       "    }\n",
       "\n",
       "    .dataframe tbody tr th {\n",
       "        vertical-align: top;\n",
       "    }\n",
       "\n",
       "    .dataframe thead th {\n",
       "        text-align: right;\n",
       "    }\n",
       "</style>\n",
       "<table border=\"1\" class=\"dataframe\">\n",
       "  <thead>\n",
       "    <tr style=\"text-align: right;\">\n",
       "      <th></th>\n",
       "      <th>Context</th>\n",
       "      <th>Decision</th>\n",
       "      <th>babbage-002</th>\n",
       "    </tr>\n",
       "  </thead>\n",
       "  <tbody>\n",
       "    <tr>\n",
       "      <th>0</th>\n",
       "      <td>## Context\\nThe PriveXMl results generated by ...</td>\n",
       "      <td>We increase complexity during insertion by inc...</td>\n",
       "      <td>## Decision Description\\nThis decision is to a...</td>\n",
       "    </tr>\n",
       "    <tr>\n",
       "      <th>1</th>\n",
       "      <td>## Context\\nWe currently have certain specific...</td>\n",
       "      <td>Due to limited resources and time constraints,...</td>\n",
       "      <td>## The decision for this record is to use the ...</td>\n",
       "    </tr>\n",
       "    <tr>\n",
       "      <th>2</th>\n",
       "      <td>## Context\\nCurrently, we move files around in...</td>\n",
       "      <td>- ETL will have a dedicated database tables wh...</td>\n",
       "      <td>## We will move files from Archive folders int...</td>\n",
       "    </tr>\n",
       "    <tr>\n",
       "      <th>3</th>\n",
       "      <td>## Context\\nMonolith will undergo segmentation...</td>\n",
       "      <td>Create a specific services (ETL and CDH) where...</td>\n",
       "      <td>## We have decided to move the client data hub...</td>\n",
       "    </tr>\n",
       "    <tr>\n",
       "      <th>4</th>\n",
       "      <td>## Context\\nWe wish to segment into separate p...</td>\n",
       "      <td>We have chosen an event based communication wh...</td>\n",
       "      <td>## 1. The ETL service must be able to communic...</td>\n",
       "    </tr>\n",
       "  </tbody>\n",
       "</table>\n",
       "</div>"
      ],
      "text/plain": [
       "                                             Context  \\\n",
       "0  ## Context\\nThe PriveXMl results generated by ...   \n",
       "1  ## Context\\nWe currently have certain specific...   \n",
       "2  ## Context\\nCurrently, we move files around in...   \n",
       "3  ## Context\\nMonolith will undergo segmentation...   \n",
       "4  ## Context\\nWe wish to segment into separate p...   \n",
       "\n",
       "                                            Decision  \\\n",
       "0  We increase complexity during insertion by inc...   \n",
       "1  Due to limited resources and time constraints,...   \n",
       "2  - ETL will have a dedicated database tables wh...   \n",
       "3  Create a specific services (ETL and CDH) where...   \n",
       "4  We have chosen an event based communication wh...   \n",
       "\n",
       "                                         babbage-002  \n",
       "0  ## Decision Description\\nThis decision is to a...  \n",
       "1  ## The decision for this record is to use the ...  \n",
       "2  ## We will move files from Archive folders int...  \n",
       "3  ## We have decided to move the client data hub...  \n",
       "4  ## 1. The ETL service must be able to communic...  "
      ]
     },
     "execution_count": 5,
     "metadata": {},
     "output_type": "execute_result"
    }
   ],
   "source": [
    "data = pd.read_csv(f'../results/{MODEL_NAME}.csv')\n",
    "data.rename(columns={'Prediction': 'babbage-002'}, inplace=True)\n",
    "print(len(data))\n",
    "data.head()"
   ]
  },
  {
   "cell_type": "code",
   "execution_count": 6,
   "metadata": {},
   "outputs": [
    {
     "data": {
      "text/plain": [
       "5254"
      ]
     },
     "execution_count": 6,
     "metadata": {},
     "output_type": "execute_result"
    }
   ],
   "source": [
    "# remove rows in df where MODEL_NAME column is empty\n",
    "data = data.dropna(subset=[MODEL_NAME])\n",
    "len(data)"
   ]
  },
  {
   "cell_type": "code",
   "execution_count": 8,
   "metadata": {},
   "outputs": [
    {
     "name": "stdout",
     "output_type": "stream",
     "text": [
      "Rouge Done\n",
      "Bleu Done\n",
      "Meteor Done\n",
      "BertScore Done\n"
     ]
    }
   ],
   "source": [
    "results = {}\n",
    "\n",
    "results['rouge'] = rouge.compute(predictions=data[MODEL_NAME],references= data['Decision'])\n",
    "print('Rouge Done')\n",
    "results['bleu'] = bleu.compute(predictions=data[MODEL_NAME],references= data['Decision'])\n",
    "print('Bleu Done')\n",
    "results['meteor'] = meteor.compute(predictions=data[MODEL_NAME],references= data['Decision'])\n",
    "print('Meteor Done')\n",
    "results['bertscore'] = bertscore.compute(predictions=data[MODEL_NAME],references= data['Decision'], lang='en', batch_size = 64)\n",
    "print('BertScore Done')\n",
    "results['bartscore_recall'] = bartscore.score(data[MODEL_NAME].tolist(), data['Decision'].tolist(), batch_size = 4)\n",
    "results['bartscore_precision'] = bartscore.score(data['Decision'].tolist(), data[MODEL_NAME].tolist(), batch_size = 4)"
   ]
  },
  {
   "cell_type": "code",
   "execution_count": 12,
   "metadata": {},
   "outputs": [],
   "source": [
    "cols = ['precision', 'recall', 'f1']\n",
    "\n",
    "for c in cols:\n",
    "    results['bertscore'][c] = pd.Series(results['bertscore'][c]).mean()\n",
    "results['bartscore'] = pd.Series(results['bartscore']).mean()\n",
    "results['bartscore_precision'] = pd.Series(results['bartscore_precision']).mean()\n",
    "results['bartscore_F1'] = (results['bartscore'] + results['bartscore_precision'])/2"
   ]
  },
  {
   "cell_type": "code",
   "execution_count": 13,
   "metadata": {},
   "outputs": [
    {
     "data": {
      "text/plain": [
       "{'rouge': {'rouge1': 0.14552068859555445,\n",
       "  'rouge2': 0.03765137690098861,\n",
       "  'rougeL': 0.09891330993405978,\n",
       "  'rougeLsum': 0.09887962912859116},\n",
       " 'bleu': {'bleu': 0.029482551539743336,\n",
       "  'precisions': [0.09352219670804474,\n",
       "   0.0338590764246291,\n",
       "   0.01832591356196787,\n",
       "   0.013019815348822277],\n",
       "  'brevity_penalty': 1.0,\n",
       "  'length_ratio': 3.408742105330583,\n",
       "  'translation_length': 3192996,\n",
       "  'reference_length': 936708},\n",
       " 'meteor': {'meteor': 0.1417808929772791},\n",
       " 'bertscore': {'precision': 0.787482220431358,\n",
       "  'recall': 0.8256527816768287,\n",
       "  'f1': 0.8054393205208882,\n",
       "  'hashcode': 'roberta-large_L17_no-idf_version=0.3.12(hug_trans=4.24.0)'},\n",
       " 'bartscore': -4.245395955207414,\n",
       " 'bartscore_precision': -3.0990172213799245,\n",
       " 'bartscore_F1': -3.672206588293669}"
      ]
     },
     "execution_count": 13,
     "metadata": {},
     "output_type": "execute_result"
    }
   ],
   "source": [
    "results"
   ]
  },
  {
   "cell_type": "code",
   "execution_count": 14,
   "metadata": {},
   "outputs": [],
   "source": [
    "# write results to a json file\n",
    "import json\n",
    "with open(f'../results/{MODEL_NAME}_score.json', 'w') as f:\n",
    "    json.dump(results, f)"
   ]
  },
  {
   "cell_type": "code",
   "execution_count": null,
   "metadata": {},
   "outputs": [],
   "source": []
  }
 ],
 "metadata": {
  "kernelspec": {
   "display_name": "Python 3 (ipykernel)",
   "language": "python",
   "name": "python3"
  }
 },
 "nbformat": 4,
 "nbformat_minor": 2
}
